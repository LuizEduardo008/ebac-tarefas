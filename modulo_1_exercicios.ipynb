{
  "nbformat": 4,
  "nbformat_minor": 0,
  "metadata": {
    "colab": {
      "name": "modulo_1_exercicios.ipynb",
      "provenance": []
    },
    "kernelspec": {
      "name": "python3",
      "display_name": "Python 3"
    }
  },
  "cells": [
    {
      "cell_type": "markdown",
      "metadata": {
        "id": "KJqp9AANOCtf"
      },
      "source": [
        "<img src=\"https://raw.githubusercontent.com/andre-marcos-perez/ebac-course-utils/main/media/logo/newebac_logo_black_half.png\" alt=\"ebac-logo\">\n",
        "\n",
        "---\n",
        "\n",
        "# **Módulo 01** | Python: Variáveis & Tipos de Dados\n",
        "Caderno de **Exercícios**<br> \n",
        "Professor [André Perez](https://www.linkedin.com/in/andremarcosperez/)\n",
        "\n",
        "---"
      ]
    },
    {
      "cell_type": "markdown",
      "metadata": {
        "id": "d9jDtUbDOE1-"
      },
      "source": [
        "# **Tópicos**\n",
        "\n",
        "<ol type=\"1\">\n",
        "  <li>Introdução ao Google Colab;</li>\n",
        "  <li>Variáveis;</li>\n",
        "  <li>Números;</li>\n",
        "  <li><i>Strings;</i></li>\n",
        "  <li>Boleanos.</li>\n",
        "</ol>"
      ]
    },
    {
      "cell_type": "markdown",
      "metadata": {
        "id": "SmoHgt-lwkpD"
      },
      "source": [
        "---"
      ]
    },
    {
      "cell_type": "markdown",
      "metadata": {
        "id": "GABI6OW8OfQ2"
      },
      "source": [
        "# **Exercícios**"
      ]
    },
    {
      "cell_type": "markdown",
      "metadata": {
        "id": "muD1vxozykSC"
      },
      "source": [
        "## 1\\. Google Colab"
      ]
    },
    {
      "cell_type": "markdown",
      "metadata": {
        "id": "ahrFfCuBxJKs"
      },
      "source": [
        "Crie uma célula de código que escreva o texto \"Olá mundo!\", utilize o comando `print`."
      ]
    },
    {
      "cell_type": "code",
      "metadata": {
        "colab": {
          "base_uri": "https://localhost:8080/"
        },
        "id": "3IhMJzdO_g8x",
        "outputId": "feb0c115-f1a7-4717-ce88-f077c78ec8ea"
      },
      "source": [
        "print(\"Olá mundo!\")"
      ],
      "execution_count": null,
      "outputs": [
        {
          "output_type": "stream",
          "name": "stdout",
          "text": [
            "Olá mundo!\n"
          ]
        }
      ]
    },
    {
      "cell_type": "markdown",
      "metadata": {
        "id": "KI9zQRT2xa7m"
      },
      "source": [
        "Crie uma célua de texto e adicione uma imagem."
      ]
    },
    {
      "cell_type": "markdown",
      "metadata": {
        "id": "b98qmq85AH60"
      },
      "source": [
        ""
      ]
    },
    {
      "cell_type": "markdown",
      "metadata": {
        "id": "RIpzrlwuANMg"
      },
      "source": [
        "![20200423030657-1131x450.jpg](data:image/jpeg;base64,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)"
      ]
    },
    {
      "cell_type": "markdown",
      "metadata": {
        "id": "tFYOPLS3xiwe"
      },
      "source": [
        "## 2\\. Números"
      ]
    },
    {
      "cell_type": "markdown",
      "metadata": {
        "id": "O2G9gt7tx2c-"
      },
      "source": [
        "Preencha as células de código para preencher os valores de (A), (B) e (C) na tabela de ticket médio abaixo:\n",
        "\n",
        "<br>\n",
        "\n",
        "| Dia   | Valor Total Vendas | Qtd Total Vendas | Ticket Medio |\n",
        "|-------|--------------------|------------------|--------------|\n",
        "| 19/01 | (A)                | 3                | 320.52       |\n",
        "| 20/01 | 834.47             | (B)              | 119.21       |\n",
        "| 23/01 | 15378.12           | 5                | (C)          |"
      ]
    },
    {
      "cell_type": "code",
      "metadata": {
        "id": "nsrKH9EizNRD",
        "colab": {
          "base_uri": "https://localhost:8080/"
        },
        "outputId": "86423ea8-1c2c-4e27-e483-4a4fbe04d735"
      },
      "source": [
        "# (A) -> 106.84\n",
        "Ticket_medio1 = 32052\n",
        "Qtd_Total_Vendas1 = 3\n",
        "A = Ticket_medio1/ Qtd_Total_Vendas1 \n",
        "print(A)"
      ],
      "execution_count": 32,
      "outputs": [
        {
          "output_type": "stream",
          "name": "stdout",
          "text": [
            "10684.0\n"
          ]
        }
      ]
    },
    {
      "cell_type": "code",
      "metadata": {
        "id": "QQ1GBGHJzMmi",
        "colab": {
          "base_uri": "https://localhost:8080/"
        },
        "outputId": "7100fd0a-f7d2-4750-88c6-8a78eaf7ae2f"
      },
      "source": [
        "# (B) -> 7\n",
        "valor_Total_Vendas2 = 83447\n",
        "Ticket_medio2 = 11921\n",
        "B = valor_Total_Vendas2 / Ticket_medio2 \n",
        "print(B)"
      ],
      "execution_count": 39,
      "outputs": [
        {
          "output_type": "stream",
          "name": "stdout",
          "text": [
            "7.0\n"
          ]
        }
      ]
    },
    {
      "cell_type": "code",
      "metadata": {
        "id": "W-li0nSMzKNa",
        "colab": {
          "base_uri": "https://localhost:8080/"
        },
        "outputId": "b7900de8-b5f0-4a0c-a4f3-cf209e6113c3"
      },
      "source": [
        "# (C) -> 307,56\n",
        "valor_Total_Vendas = 1537812\n",
        "Qtd_Total_Vendas = 5\n",
        "c = valor_Total_Vendas / Qtd_Total_Vendas\n",
        "print(c) \n"
      ],
      "execution_count": 29,
      "outputs": [
        {
          "output_type": "stream",
          "name": "stdout",
          "text": [
            "307562.4\n"
          ]
        }
      ]
    },
    {
      "cell_type": "markdown",
      "metadata": {
        "id": "3eoP-Vj9yzh8"
      },
      "source": [
        "---"
      ]
    },
    {
      "cell_type": "markdown",
      "metadata": {
        "id": "yUJ6kdony6Pr"
      },
      "source": [
        "## 3\\. Strings"
      ]
    },
    {
      "cell_type": "markdown",
      "metadata": {
        "id": "KDuZpg-5zCvO"
      },
      "source": [
        "Aplique três métodos distintos na *string* abaixo, você pode conferir alguns métodos neste [link](https://www.w3schools.com/python/python_ref_string.asp):"
      ]
    },
    {
      "cell_type": "code",
      "metadata": {
        "id": "k9zbyf7BzjKj"
      },
      "source": [
        "cancao = 'Roda mundo, roda gigante, roda moinho, roda pião.'"
      ],
      "execution_count": null,
      "outputs": []
    },
    {
      "cell_type": "code",
      "metadata": {
        "colab": {
          "base_uri": "https://localhost:8080/"
        },
        "id": "9sseIBMaSfZ5",
        "outputId": "1ce80738-3259-439c-8bc1-a1b60298f899"
      },
      "source": [
        "print(cancao.find(\"gigante\"))"
      ],
      "execution_count": null,
      "outputs": [
        {
          "output_type": "stream",
          "name": "stdout",
          "text": [
            "17\n"
          ]
        }
      ]
    },
    {
      "cell_type": "code",
      "metadata": {
        "colab": {
          "base_uri": "https://localhost:8080/"
        },
        "id": "6aUmroVKT6Kg",
        "outputId": "f46dc355-bc71-4191-9b46-3fd5cc87137b"
      },
      "source": [
        "print(cancao.upper())"
      ],
      "execution_count": null,
      "outputs": [
        {
          "output_type": "stream",
          "name": "stdout",
          "text": [
            "RODA MUNDO, RODA GIGANTE, RODA MOINHO, RODA PIÃO.\n"
          ]
        }
      ]
    },
    {
      "cell_type": "code",
      "metadata": {
        "colab": {
          "base_uri": "https://localhost:8080/"
        },
        "id": "raGAZY_pUKZo",
        "outputId": "6a632093-987c-4e44-cf6e-e1b195d49cd9"
      },
      "source": [
        "print(cancao.lower())"
      ],
      "execution_count": null,
      "outputs": [
        {
          "output_type": "stream",
          "name": "stdout",
          "text": [
            "roda mundo, roda gigante, roda moinho, roda pião.\n"
          ]
        }
      ]
    },
    {
      "cell_type": "markdown",
      "metadata": {
        "id": "guZMHXVq0FnC"
      },
      "source": [
        "Extraia da string abaixo o valor da taxa **selic** na variável `selic` e o valor do **ano** na variavel `ano`. Imprima os valores na tela."
      ]
    },
    {
      "cell_type": "code",
      "metadata": {
        "id": "cbx_P4IQ0agK"
      },
      "source": [
        "noticia = 'Selic vai a 2,75% e supera expectativas; é a primeira alta em 6 anos.'"
      ],
      "execution_count": null,
      "outputs": []
    },
    {
      "cell_type": "code",
      "metadata": {
        "colab": {
          "base_uri": "https://localhost:8080/"
        },
        "id": "oTNFiOMoUt_x",
        "outputId": "df4758a5-f93d-4f3d-d176-09f65c2097b2"
      },
      "source": [
        "selic = noticia [12:17]\n",
        "print(selic)"
      ],
      "execution_count": null,
      "outputs": [
        {
          "output_type": "stream",
          "name": "stdout",
          "text": [
            "2,75%\n"
          ]
        }
      ]
    },
    {
      "cell_type": "code",
      "metadata": {
        "colab": {
          "base_uri": "https://localhost:8080/"
        },
        "id": "Q53LTfvUVvDg",
        "outputId": "41bf1346-1178-47ee-9f9e-b3d7aa0b06d4"
      },
      "source": [
        "ano = noticia [62:68]\n",
        "print(ano)"
      ],
      "execution_count": null,
      "outputs": [
        {
          "output_type": "stream",
          "name": "stdout",
          "text": [
            "6 anos\n"
          ]
        }
      ]
    },
    {
      "cell_type": "markdown",
      "metadata": {
        "id": "wWzbu-OC0z3L"
      },
      "source": [
        "---"
      ]
    },
    {
      "cell_type": "markdown",
      "metadata": {
        "id": "no8w_Ati01xP"
      },
      "source": [
        "## 4\\. Booleanos"
      ]
    },
    {
      "cell_type": "markdown",
      "metadata": {
        "id": "D_0tC3SC099N"
      },
      "source": [
        "Utilize a tabela da verdade para responder: qual o valor da variável x?"
      ]
    },
    {
      "cell_type": "code",
      "metadata": {
        "id": "XwIEbxf91SpU"
      },
      "source": [
        "a = False\n",
        "b = True\n",
        "\n",
        "x = not a & b"
      ],
      "execution_count": null,
      "outputs": []
    },
    {
      "cell_type": "code",
      "metadata": {
        "colab": {
          "base_uri": "https://localhost:8080/"
        },
        "id": "n-2PzRv7Xaf9",
        "outputId": "1ce9e029-e89c-4174-deea-dfa362e4e0f3"
      },
      "source": [
        "print(a)"
      ],
      "execution_count": null,
      "outputs": [
        {
          "output_type": "stream",
          "name": "stdout",
          "text": [
            "False\n"
          ]
        }
      ]
    },
    {
      "cell_type": "code",
      "metadata": {
        "colab": {
          "base_uri": "https://localhost:8080/"
        },
        "id": "7mGwgvD3XaGh",
        "outputId": "fc9b941a-e790-4ce4-c39e-16fe4af566ce"
      },
      "source": [
        "print(b)"
      ],
      "execution_count": null,
      "outputs": [
        {
          "output_type": "stream",
          "name": "stdout",
          "text": [
            "True\n"
          ]
        }
      ]
    },
    {
      "cell_type": "code",
      "metadata": {
        "colab": {
          "base_uri": "https://localhost:8080/"
        },
        "id": "8WOVlyaTXOSp",
        "outputId": "02e8e885-e64e-45fa-99f6-fce01e59c702"
      },
      "source": [
        "valor_x = x\n",
        "print(valor_x)"
      ],
      "execution_count": null,
      "outputs": [
        {
          "output_type": "stream",
          "name": "stdout",
          "text": [
            "True\n"
          ]
        }
      ]
    }
  ]
}