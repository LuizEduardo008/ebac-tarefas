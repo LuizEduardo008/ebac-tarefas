{
  "nbformat": 4,
  "nbformat_minor": 0,
  "metadata": {
    "colab": {
      "name": "modulo_2_exercicios.ipynb",
      "provenance": []
    },
    "kernelspec": {
      "name": "python3",
      "display_name": "Python 3"
    },
    "language_info": {
      "name": "python"
    }
  },
  "cells": [
    {
      "cell_type": "markdown",
      "metadata": {
        "id": "YKoa9RZFJ0oo"
      },
      "source": [
        "# **Exercícios**\n",
        "\n",
        "# **1. Listas**\n",
        "\n",
        "Criei uma lista chamada filmes com o nome dos 10 primeiros filmes mais bem avaliados no\n",
        "site no IMDB. Imprima o resultado.\n"
      ]
    },
    {
      "cell_type": "code",
      "metadata": {
        "id": "dm2Z0rGuJigE"
      },
      "source": [
        "Filmes = ['Um sonho de Liberdade', 'O Poderoso Chefão', 'O Poderoso Chefão II', 'Batman_O Cavaleiro das Trevas', 'Homens e uma Sentença',  'A Lista de Schindler',\n",
        "          'O Senhor dos Anéis_O Retorno do Rei', 'Pulp Fiction_Tempo de Violência', 'Três Homens em Conflito', 'O Senhor dos Anéis_A Sociedade do Anel']"
      ],
      "execution_count": null,
      "outputs": []
    },
    {
      "cell_type": "markdown",
      "metadata": {
        "id": "84x0ATPGL4xl"
      },
      "source": [
        "Simule a movimentação do ranking. Utilize os métodos **insert** e **pop** para trocar a posição\n",
        "do primeiro e do segundo filme da lista. Imprima o resultado"
      ]
    },
    {
      "cell_type": "code",
      "metadata": {
        "colab": {
          "base_uri": "https://localhost:8080/"
        },
        "id": "XCp4PmzYKGr8",
        "outputId": "0112b339-fe4e-4520-e4f2-05b7f54f10f8"
      },
      "source": [
        "Filmes.insert(1, 'Batman Begins')\n",
        "print(Filmes)"
      ],
      "execution_count": null,
      "outputs": [
        {
          "output_type": "stream",
          "name": "stdout",
          "text": [
            "['Um sonho de Liberdade', 'Batman Begins', 'O Poderoso Chefão', 'O Poderoso Chefão II', 'Batman_O Cavaleiro das Trevas', 'Homens e uma Sentença', 'A Lista de Schindler', 'O Senhor dos Anéis_O Retorno do Rei', 'Pulp Fiction_Tempo de Violência', 'Três Homens em Conflito', 'O Senhor dos Anéis_A Sociedade do Anel']\n"
          ]
        }
      ]
    },
    {
      "cell_type": "code",
      "metadata": {
        "colab": {
          "base_uri": "https://localhost:8080/"
        },
        "id": "cwXOXdp8Mn0V",
        "outputId": "032aec31-725b-41bf-f1fc-ec5c466d029a"
      },
      "source": [
        "Filmes.insert(2, 'Matrix')\n",
        "print(Filmes)"
      ],
      "execution_count": null,
      "outputs": [
        {
          "output_type": "stream",
          "name": "stdout",
          "text": [
            "['Um sonho de Liberdade', 'Batman Begins', 'Matrix', 'O Poderoso Chefão', 'O Poderoso Chefão II', 'Batman_O Cavaleiro das Trevas', 'Homens e uma Sentença', 'A Lista de Schindler', 'O Senhor dos Anéis_O Retorno do Rei', 'Pulp Fiction_Tempo de Violência', 'Três Homens em Conflito', 'O Senhor dos Anéis_A Sociedade do Anel']\n"
          ]
        }
      ]
    },
    {
      "cell_type": "code",
      "metadata": {
        "colab": {
          "base_uri": "https://localhost:8080/"
        },
        "id": "OqNhff1JM2gl",
        "outputId": "828c3c9f-52b9-4ba8-e46a-267ad6c20eb0"
      },
      "source": [
        "Filmes.pop(0)\n",
        "print(Filmes)\n"
      ],
      "execution_count": null,
      "outputs": [
        {
          "output_type": "stream",
          "name": "stdout",
          "text": [
            "['Batman Begins', 'Matrix', 'O Poderoso Chefão', 'O Poderoso Chefão II', 'Batman_O Cavaleiro das Trevas', 'Homens e uma Sentença', 'A Lista de Schindler', 'O Senhor dos Anéis_O Retorno do Rei', 'Pulp Fiction_Tempo de Violência', 'Três Homens em Conflito', 'O Senhor dos Anéis_A Sociedade do Anel']\n"
          ]
        }
      ]
    },
    {
      "cell_type": "code",
      "metadata": {
        "colab": {
          "base_uri": "https://localhost:8080/"
        },
        "id": "wiCCELkWNGil",
        "outputId": "cbc4ca9a-a294-4713-c4a8-acf110d8f04d"
      },
      "source": [
        "Filmes.pop(2)\n",
        "print(Filmes)"
      ],
      "execution_count": null,
      "outputs": [
        {
          "output_type": "stream",
          "name": "stdout",
          "text": [
            "['Batman Begins', 'Matrix', 'O Poderoso Chefão II', 'Batman_O Cavaleiro das Trevas', 'Homens e uma Sentença', 'A Lista de Schindler', 'O Senhor dos Anéis_O Retorno do Rei', 'Pulp Fiction_Tempo de Violência', 'Três Homens em Conflito', 'O Senhor dos Anéis_A Sociedade do Anel']\n"
          ]
        }
      ]
    },
    {
      "cell_type": "markdown",
      "metadata": {
        "id": "qzknAvXsNS-G"
      },
      "source": [
        "# **2. Conjuntos**\n",
        "\n",
        "Aconteceu um erro no seu ranking. Simule a duplicação dos três últimos filmes da lista.\n",
        "Imprima o resultado"
      ]
    },
    {
      "cell_type": "code",
      "metadata": {
        "id": "S4nbqIlBNnsd"
      },
      "source": [
        "Filmes2 = ['Batman Begins', 'Matrix', 'O Poderoso Chefão II', 'Batman_O Cavaleiro das Trevas', 'Homens e uma Sentença', 'A Lista de Schindler', 'O Senhor dos Anéis_O Retorno do Rei', 'Pulp Fiction_Tempo de Violência', 'Pulp Fiction_Tempo de Violência', 'Três Homens em Conflito', 'Três Homens em Conflito', 'O Senhor dos Anéis_A Sociedade do Anel', 'O Senhor dos Anéis_A Sociedade do Anel']"
      ],
      "execution_count": null,
      "outputs": []
    },
    {
      "cell_type": "markdown",
      "metadata": {
        "id": "WqFd4Mw1OQKu"
      },
      "source": [
        "Utiliza a conversão **set** e **list** para remover os valores duplicados. Imprima o resultado. "
      ]
    },
    {
      "cell_type": "code",
      "metadata": {
        "colab": {
          "base_uri": "https://localhost:8080/"
        },
        "id": "017Ib9ugOUGu",
        "outputId": "51485126-c5d8-4399-9c5b-1e2dc00748c2"
      },
      "source": [
        "Filmes_sets = set(list(Filmes2))\n",
        "print(Filmes_sets)\n"
      ],
      "execution_count": null,
      "outputs": [
        {
          "output_type": "stream",
          "name": "stdout",
          "text": [
            "{'A Lista de Schindler', 'O Senhor dos Anéis_O Retorno do Rei', 'Pulp Fiction_Tempo de Violência', 'Três Homens em Conflito', 'Batman_O Cavaleiro das Trevas', 'O Senhor dos Anéis_A Sociedade do Anel', 'O Poderoso Chefão II', 'Batman Begins', 'Homens e uma Sentença', 'Matrix'}\n"
          ]
        }
      ]
    },
    {
      "cell_type": "markdown",
      "metadata": {
        "id": "gl6QQUiLPtYW"
      },
      "source": [
        "# **3. Dicionários**\n",
        "\n",
        "Repita os exercícios da parte 1 (listas). Os elementos da lista filmes devem ser dicionários\n",
        "no seguinte formato: \n",
        "{'nome': <nome-do-filme>, 'ano': <ano do filme>},'sinopse': <sinopse>} .\n"
      ]
    },
    {
      "cell_type": "code",
      "metadata": {
        "id": "vydETzCnOuyD"
      },
      "source": [
        "Filmes = ['Um sonho de Liberdade', 'O Poderoso Chefão', 'O Poderoso Chefão II', 'Batman_O Cavaleiro das Trevas', 'Homens e uma Sentença',  'A Lista de Schindler',\n",
        "          'O Senhor dos Anéis_O Retorno do Rei', 'Pulp Fiction_Tempo de Violência', 'Três Homens em Conflito', 'O Senhor dos Anéis_A Sociedade do Anel']"
      ],
      "execution_count": 38,
      "outputs": []
    },
    {
      "cell_type": "code",
      "metadata": {
        "colab": {
          "base_uri": "https://localhost:8080/"
        },
        "id": "6_BzqMtYO_an",
        "outputId": "0164fa1c-65b2-457c-bb8d-5cd3046e38a2"
      },
      "source": [
        "Filmes.insert(1, 'Batman Begins')\n",
        "print(Filmes)"
      ],
      "execution_count": 39,
      "outputs": [
        {
          "output_type": "stream",
          "name": "stdout",
          "text": [
            "['Um sonho de Liberdade', 'Batman Begins', 'O Poderoso Chefão', 'O Poderoso Chefão II', 'Batman_O Cavaleiro das Trevas', 'Homens e uma Sentença', 'A Lista de Schindler', 'O Senhor dos Anéis_O Retorno do Rei', 'Pulp Fiction_Tempo de Violência', 'Três Homens em Conflito', 'O Senhor dos Anéis_A Sociedade do Anel']\n"
          ]
        }
      ]
    },
    {
      "cell_type": "code",
      "metadata": {
        "colab": {
          "base_uri": "https://localhost:8080/"
        },
        "id": "kzx4qf5wPAuh",
        "outputId": "0d33ba9b-c06c-49a5-bdc7-c6604ca099f0"
      },
      "source": [
        "Filmes.insert(2, 'Matrix')\n",
        "print(Filmes)"
      ],
      "execution_count": 40,
      "outputs": [
        {
          "output_type": "stream",
          "name": "stdout",
          "text": [
            "['Um sonho de Liberdade', 'Batman Begins', 'Matrix', 'O Poderoso Chefão', 'O Poderoso Chefão II', 'Batman_O Cavaleiro das Trevas', 'Homens e uma Sentença', 'A Lista de Schindler', 'O Senhor dos Anéis_O Retorno do Rei', 'Pulp Fiction_Tempo de Violência', 'Três Homens em Conflito', 'O Senhor dos Anéis_A Sociedade do Anel']\n"
          ]
        }
      ]
    },
    {
      "cell_type": "code",
      "metadata": {
        "colab": {
          "base_uri": "https://localhost:8080/"
        },
        "id": "FL4k6yt1PD9e",
        "outputId": "c7ceb6a6-3138-4e3a-9b8d-1da3ffc96881"
      },
      "source": [
        "Filmes.pop(0)\n",
        "print(Filmes)"
      ],
      "execution_count": 41,
      "outputs": [
        {
          "output_type": "stream",
          "name": "stdout",
          "text": [
            "['Batman Begins', 'Matrix', 'O Poderoso Chefão', 'O Poderoso Chefão II', 'Batman_O Cavaleiro das Trevas', 'Homens e uma Sentença', 'A Lista de Schindler', 'O Senhor dos Anéis_O Retorno do Rei', 'Pulp Fiction_Tempo de Violência', 'Três Homens em Conflito', 'O Senhor dos Anéis_A Sociedade do Anel']\n"
          ]
        }
      ]
    },
    {
      "cell_type": "code",
      "metadata": {
        "colab": {
          "base_uri": "https://localhost:8080/"
        },
        "id": "wqm8ePZGPIq4",
        "outputId": "c2d431c7-75dd-4e3d-8830-432a3fa55272"
      },
      "source": [
        "Filmes.pop(2)\n",
        "print(Filmes)"
      ],
      "execution_count": 42,
      "outputs": [
        {
          "output_type": "stream",
          "name": "stdout",
          "text": [
            "['Batman Begins', 'Matrix', 'O Poderoso Chefão II', 'Batman_O Cavaleiro das Trevas', 'Homens e uma Sentença', 'A Lista de Schindler', 'O Senhor dos Anéis_O Retorno do Rei', 'Pulp Fiction_Tempo de Violência', 'Três Homens em Conflito', 'O Senhor dos Anéis_A Sociedade do Anel']\n"
          ]
        }
      ]
    },
    {
      "cell_type": "code",
      "metadata": {
        "colab": {
          "base_uri": "https://localhost:8080/"
        },
        "id": "fpGJcuCzFGzj",
        "outputId": "abbe374f-0ba1-458d-99dd-bab142e6f5f5"
      },
      "source": [
        "Filme1 = {'Batman Begins':{'nome': 'Batman Begins', 'ano': 2005},\n",
        "         'sinopse': 'Dois homens presos se reúnem ao longo de vários anos, encontrando consolo e eventual redenção através de atos de decência comum'}\n",
        "\n",
        "print(Filme1)"
      ],
      "execution_count": 43,
      "outputs": [
        {
          "output_type": "stream",
          "name": "stdout",
          "text": [
            "{'Batman Begins': {'nome': 'Batman Begins', 'ano': 2005}, 'sinopse': 'Dois homens presos se reúnem ao longo de vários anos, encontrando consolo e eventual redenção através de atos de decência comum'}\n"
          ]
        }
      ]
    },
    {
      "cell_type": "code",
      "metadata": {
        "colab": {
          "base_uri": "https://localhost:8080/"
        },
        "id": "e-hw6JzmHQ3_",
        "outputId": "154bf9d5-4576-4c7d-9c79-ba8e967a934d"
      },
      "source": [
        "Filme2 = {'Matrix': {'nome': 'Matrix', 'ano': 1999},\n",
        "        'sinopse': 'Um hacker aprende com os misteriosos rebeldes sobre a verdadeira natureza de sua realidade e seu papel na guerra contra seus controladores'}\n",
        "\n",
        "print(Filme2)"
      ],
      "execution_count": 44,
      "outputs": [
        {
          "output_type": "stream",
          "name": "stdout",
          "text": [
            "{'Matrix': {'nome': 'Matrix', 'ano': 1999}, 'sinopse': 'Um hacker aprende com os misteriosos rebeldes sobre a verdadeira natureza de sua realidade e seu papel na guerra contra seus controladores'}\n"
          ]
        }
      ]
    },
    {
      "cell_type": "code",
      "metadata": {
        "colab": {
          "base_uri": "https://localhost:8080/"
        },
        "id": "g70fNq4EHQoo",
        "outputId": "f706e3ef-6252-47da-cc55-5dbc852bdebe"
      },
      "source": [
        "Filme3 = {'O Poderoso Chefão II': {'nome': 'O Poderoso Chefão II', 'ano': 1974},\n",
        "        'sinopse': 'Em 1950, Michael Corleone, agora à frente da família, tenta expandir o negócio do crime a Las Vegas, Los Angeles e Cuba. Paralelamente, é revelada a história de Vito Corleone, e de como saiu da Sicília e chegou a Nova Iorque'}\n",
        "\n",
        "print(Filme3)"
      ],
      "execution_count": 28,
      "outputs": [
        {
          "output_type": "stream",
          "name": "stdout",
          "text": [
            "{'O Poderoso Chefão II': {'nome': 'O Poderoso Chefão II', 'ano': 1974}, 'sinopse': 'Em 1950, Michael Corleone, agora à frente da família, tenta expandir o negócio do crime a Las Vegas, Los Angeles e Cuba. Paralelamente, é revelada a história de Vito Corleone, e de como saiu da Sicília e chegou a Nova Iorque'}\n"
          ]
        }
      ]
    },
    {
      "cell_type": "code",
      "metadata": {
        "colab": {
          "base_uri": "https://localhost:8080/"
        },
        "id": "UoMPdg99HQXj",
        "outputId": "6dc34db5-6131-4355-f2db-bddff71d5a49"
      },
      "source": [
        "Filme4 = {'Batman_O Cavaleiro das Trevas': {'nome': 'Batman_O Cavaleiro das Trevas', 'ano': 2008},\n",
        "        'sinopse': 'Quando a ameaça conhecida como O Coringa surge de seu passado, causa estragos e caos nas pessoas de Gotham. O Cavaleiro das Trevas deve aceitar um dos maiores testes para combater a injustiça'}\n",
        "\n",
        "print(Filme4)"
      ],
      "execution_count": 29,
      "outputs": [
        {
          "output_type": "stream",
          "name": "stdout",
          "text": [
            "{'Batman_O Cavaleiro das Trevas': {'nome': 'Batman_O Cavaleiro das Trevas', 'ano': 2008}, 'sinopse': 'Quando a ameaça conhecida como O Coringa surge de seu passado, causa estragos e caos nas pessoas de Gotham. O Cavaleiro das Trevas deve aceitar um dos maiores testes para combater a injustiça'}\n"
          ]
        }
      ]
    },
    {
      "cell_type": "code",
      "metadata": {
        "colab": {
          "base_uri": "https://localhost:8080/"
        },
        "id": "XDhDBpNCHQMb",
        "outputId": "953b6d64-2186-4023-d38a-e9d0cb0767a6"
      },
      "source": [
        "Filme5 = {'Homens e uma Sentença': {'nome': 'Homens e uma Sentença', 'ano': 1957},\n",
        "        'sinopse': 'Um jurado que se aposenta tenta evitar um erro judicial forçando seus colegas a reconsiderarem as evidências'}\n",
        "\n",
        "print(Filme5)"
      ],
      "execution_count": 30,
      "outputs": [
        {
          "output_type": "stream",
          "name": "stdout",
          "text": [
            "{'Homens e uma Sentença': {'nome': 'Homens e uma Sentença', 'ano': 1957}, 'sinopse': 'Um jurado que se aposenta tenta evitar um erro judicial forçando seus colegas a reconsiderarem as evidências'}\n"
          ]
        }
      ]
    },
    {
      "cell_type": "code",
      "metadata": {
        "colab": {
          "base_uri": "https://localhost:8080/"
        },
        "id": "JjHVdXc1HP37",
        "outputId": "1702b0f8-74a8-441b-cbc3-c3c259d144d9"
      },
      "source": [
        "Filme6 ={'A Lista de Schindler': {'nome': 'A Lista de Schindler', 'ano': 1993},\n",
        "        'sinopse': 'Depois de testemunhar a perseguição dos judaicos na Polônia ocupada pelos alemães durante a Segunda Guerra Mundial, o industrial Oskar Schindler se começa a preocupar com sua força de trabalho judaica'}\n",
        "\n",
        "print(Filme6)"
      ],
      "execution_count": 31,
      "outputs": [
        {
          "output_type": "stream",
          "name": "stdout",
          "text": [
            "{'A Lista de Schindler': {'nome': 'A Lista de Schindler', 'ano': 1993}, 'sinopse': 'Depois de testemunhar a perseguição dos judaicos na Polônia ocupada pelos alemães durante a Segunda Guerra Mundial, o industrial Oskar Schindler se começa a preocupar com sua força de trabalho judaica'}\n"
          ]
        }
      ]
    },
    {
      "cell_type": "code",
      "metadata": {
        "colab": {
          "base_uri": "https://localhost:8080/"
        },
        "id": "UUT_pr3BHPlg",
        "outputId": "6525d9b1-a39c-46e9-f7ce-81ca36f7345f"
      },
      "source": [
        "Filme7 = {'O Senhor dos Anéis_O Retorno do Rei': {'nome': 'O Senhor dos Anéis_O Retorno do Rei', 'ano': 2003},\n",
        "        'sinopse': 'Gandalf e Aragorn lideram o Mundo dos Homens contra o exército de Sauron para desviar o olhar de Frodo e Sam quando eles se aproximam á Montanha da Perdição com o Um Anel'}\n",
        "\n",
        "print(Filme7)"
      ],
      "execution_count": 32,
      "outputs": [
        {
          "output_type": "stream",
          "name": "stdout",
          "text": [
            "{'O Senhor dos Anéis_O Retorno do Rei': {'nome': 'O Senhor dos Anéis_O Retorno do Rei', 'ano': 2003}, 'sinopse': 'Gandalf e Aragorn lideram o Mundo dos Homens contra o exército de Sauron para desviar o olhar de Frodo e Sam quando eles se aproximam á Montanha da Perdição com o Um Anel'}\n"
          ]
        }
      ]
    },
    {
      "cell_type": "code",
      "metadata": {
        "colab": {
          "base_uri": "https://localhost:8080/"
        },
        "id": "k4gYvAakHObj",
        "outputId": "27283f93-98a7-45d2-c4c0-6afc3e47c571"
      },
      "source": [
        "Filme8 = {'Pulp Fiction_Tempo de Violência': {'nome': 'Pulp Fiction_Tempo de Violência', 'ano': 1994},\n",
        "        'sinopse': 'As vidas de dois assassinos da máfia, um boxeador, um gângster e sua esposa, e um par de bandidos se entrelaçam em quatro histórias de violência e redenção'}\n",
        "\n",
        "print(Filme8)"
      ],
      "execution_count": 33,
      "outputs": [
        {
          "output_type": "stream",
          "name": "stdout",
          "text": [
            "{'Pulp Fiction_Tempo de Violência': {'nome': 'Pulp Fiction_Tempo de Violência', 'ano': 1994}, 'sinopse': 'As vidas de dois assassinos da máfia, um boxeador, um gângster e sua esposa, e um par de bandidos se entrelaçam em quatro histórias de violência e redenção'}\n"
          ]
        }
      ]
    },
    {
      "cell_type": "code",
      "metadata": {
        "colab": {
          "base_uri": "https://localhost:8080/"
        },
        "id": "68B0n6CwHNmT",
        "outputId": "b4edc9b5-1187-4e51-e3e8-954e2e2025f7"
      },
      "source": [
        "Filme9 = {'Três Homens em Conflito': {'nome': 'Três Homens em Conflito', 'ano': 1966},\n",
        "        'sinopse': 'Um impostor se junta com dois homens para encontrar fortuna num remoto cemitério'}\n",
        "\n",
        "print(Filme9)"
      ],
      "execution_count": 34,
      "outputs": [
        {
          "output_type": "stream",
          "name": "stdout",
          "text": [
            "{'Três Homens em Conflito': {'nome': 'Três Homens em Conflito', 'ano': 1966}, 'sinopse': 'Um impostor se junta com dois homens para encontrar fortuna num remoto cemitério'}\n"
          ]
        }
      ]
    },
    {
      "cell_type": "code",
      "metadata": {
        "colab": {
          "base_uri": "https://localhost:8080/"
        },
        "id": "UBFCrzf4HNUt",
        "outputId": "46ab209e-3432-4789-e724-79ac0769680d"
      },
      "source": [
        "Filme10 = {'O Senhor dos Anéis_A Sociedade do Anel': {'nome': 'O Senhor dos Anéis_A Sociedade do Anel', 'ano': 2001},\n",
        "        'sinopse': 'Um manso hobbit do Condado e oito companheiros partem em uma jornada para destruir o poderoso Um Anel e salvar a Terra-média das Trevas'}\n",
        "\n",
        "print(Filme10)"
      ],
      "execution_count": 35,
      "outputs": [
        {
          "output_type": "stream",
          "name": "stdout",
          "text": [
            "{'O Senhor dos Anéis_A Sociedade do Anel': {'nome': 'O Senhor dos Anéis_A Sociedade do Anel', 'ano': 2001}, 'sinopse': 'Um manso hobbit do Condado e oito companheiros partem em uma jornada para destruir o poderoso Um Anel e salvar a Terra-média das Trevas'}\n"
          ]
        }
      ]
    },
    {
      "cell_type": "code",
      "metadata": {
        "id": "FI4hmdAoHM7T"
      },
      "source": [
        ""
      ],
      "execution_count": null,
      "outputs": []
    }
  ]
}