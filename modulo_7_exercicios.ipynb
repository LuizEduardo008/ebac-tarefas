{
  "nbformat": 4,
  "nbformat_minor": 0,
  "metadata": {
    "colab": {
      "name": "modulo_7_exercicios.ipynb",
      "provenance": [],
      "collapsed_sections": []
    },
    "kernelspec": {
      "name": "python3",
      "display_name": "Python 3"
    }
  },
  "cells": [
    {
      "cell_type": "markdown",
      "metadata": {
        "id": "KJqp9AANOCtf"
      },
      "source": [
        "<img src=\"https://raw.githubusercontent.com/andre-marcos-perez/ebac-course-utils/main/media/logo/newebac_logo_black_half.png\" alt=\"ebac-logo\">\n",
        "\n",
        "---\n",
        "\n",
        "# **Módulo 07** | Python: Programação Orientada a Objetos\n",
        "Caderno de **Exercícios**<br> \n",
        "Professor [André Perez](https://www.linkedin.com/in/andremarcosperez/)\n",
        "\n",
        "---"
      ]
    },
    {
      "cell_type": "markdown",
      "metadata": {
        "id": "d9jDtUbDOE1-"
      },
      "source": [
        "# **Tópicos**\n",
        "\n",
        "<ol type=\"1\">\n",
        "  <li>from / import / as;</li>\n",
        "  <li>Módulo;</li>\n",
        "  <li>Pacote;</li>\n",
        "  <li>Baixando pacotes.</li>\n",
        "</ol>"
      ]
    },
    {
      "cell_type": "markdown",
      "metadata": {
        "id": "SmoHgt-lwkpD"
      },
      "source": [
        "---"
      ]
    },
    {
      "cell_type": "markdown",
      "metadata": {
        "id": "GABI6OW8OfQ2"
      },
      "source": [
        "# **Exercícios**"
      ]
    },
    {
      "cell_type": "markdown",
      "metadata": {
        "id": "muD1vxozykSC"
      },
      "source": [
        "## 0\\. Preparação do ambiente"
      ]
    },
    {
      "cell_type": "markdown",
      "metadata": {
        "id": "ahrFfCuBxJKs"
      },
      "source": [
        "Neste exercício vamos utilizar a base de dados de ações da bolsa de valores dos EUA, a Dow Jones. Os dados estão disponíveis para *download* neste [link](https://archive.ics.uci.edu/ml/datasets/Dow+Jones+Index). Vamos utilizar o pacote `wget` para fazer o *download* dos dados."
      ]
    },
    {
      "cell_type": "markdown",
      "metadata": {
        "id": "AtPc2994meNR"
      },
      "source": [
        " - Instalando o pacote `wget` na versão 3.2."
      ]
    },
    {
      "cell_type": "code",
      "metadata": {
        "id": "DzM3--8Gk_mU",
        "colab": {
          "base_uri": "https://localhost:8080/"
        },
        "outputId": "d2a48ebc-7ea1-46f6-9c49-6ca0c2497a9a"
      },
      "source": [
        "!pip install wget==3.2"
      ],
      "execution_count": 1,
      "outputs": [
        {
          "output_type": "stream",
          "name": "stdout",
          "text": [
            "Collecting wget==3.2\n",
            "  Downloading wget-3.2.zip (10 kB)\n",
            "Building wheels for collected packages: wget\n",
            "  Building wheel for wget (setup.py) ... \u001b[?25l\u001b[?25hdone\n",
            "  Created wheel for wget: filename=wget-3.2-py3-none-any.whl size=9672 sha256=1da79ffefaee3b6a8e83706e4755936dca9a9689ee733eadde6ae4c4f600872a\n",
            "  Stored in directory: /root/.cache/pip/wheels/a1/b6/7c/0e63e34eb06634181c63adacca38b79ff8f35c37e3c13e3c02\n",
            "Successfully built wget\n",
            "Installing collected packages: wget\n",
            "Successfully installed wget-3.2\n"
          ]
        }
      ]
    },
    {
      "cell_type": "markdown",
      "metadata": {
        "id": "tVc1aUTmmkIU"
      },
      "source": [
        " - Fazendo o download dos dados no arquivo compactado `dados.zip`."
      ]
    },
    {
      "cell_type": "code",
      "metadata": {
        "id": "SZWlsi2blOOt",
        "colab": {
          "base_uri": "https://localhost:8080/",
          "height": 35
        },
        "outputId": "517c612f-2f9a-4d90-c641-e1187900110e"
      },
      "source": [
        "import wget\n",
        "\n",
        "wget.download(url='https://archive.ics.uci.edu/ml/machine-learning-databases/00312/dow_jones_index.zip', out='./dados.zip')"
      ],
      "execution_count": 2,
      "outputs": [
        {
          "output_type": "execute_result",
          "data": {
            "application/vnd.google.colaboratory.intrinsic+json": {
              "type": "string"
            },
            "text/plain": [
              "'./dados.zip'"
            ]
          },
          "metadata": {},
          "execution_count": 2
        }
      ]
    },
    {
      "cell_type": "markdown",
      "metadata": {
        "id": "339oiie2mvCP"
      },
      "source": [
        " - Descompactando os `dados` na pasta dados com o pacote nativo `zipfile`."
      ]
    },
    {
      "cell_type": "code",
      "metadata": {
        "id": "6tFPV081loK4"
      },
      "source": [
        "import zipfile\n",
        "\n",
        "with zipfile.ZipFile('./dados.zip', 'r') as fp:\n",
        "  fp.extractall('./dados')"
      ],
      "execution_count": 3,
      "outputs": []
    },
    {
      "cell_type": "markdown",
      "metadata": {
        "id": "KI9zQRT2xa7m"
      },
      "source": [
        "Verifique a pasta dados criada, ela deve conter dois arquivos:\n",
        "\n",
        " - **dow_jones_index.data**: um arquivo com os dados;\n",
        " - **dow_jones_index.names**: um arquivo com a descrição completa dos dados.\n",
        "\n",
        "É possível observar que o arquivo de dados é um arquivo separado por virgulas, o famoso `csv`. Vamos renomear o arquivo de dados para que ele tenha a extensão `csv` com o pacote nativo `os`."
      ]
    },
    {
      "cell_type": "markdown",
      "metadata": {
        "id": "5k7LLQU5n8aY"
      },
      "source": [
        "- Renomeando o arquivo com o pacote nativo `os`."
      ]
    },
    {
      "cell_type": "code",
      "metadata": {
        "id": "PyZ2zqwcn5CU"
      },
      "source": [
        "import os\n",
        "\n",
        "os.rename('./dados/dow_jones_index.data', './dados/dow_jones_index.csv')"
      ],
      "execution_count": 4,
      "outputs": []
    },
    {
      "cell_type": "markdown",
      "metadata": {
        "id": "2Zf74P1yoeYc"
      },
      "source": [
        "Pronto! Abra o arquivo e o Google Colab irá apresentar uma visualização bem legal dos dados."
      ]
    },
    {
      "cell_type": "markdown",
      "metadata": {
        "id": "zMN1Q3jdwoJm"
      },
      "source": [
        "---"
      ]
    },
    {
      "cell_type": "markdown",
      "metadata": {
        "id": "FwqgmwxakNh6"
      },
      "source": [
        "## 1\\. Pandas"
      ]
    },
    {
      "cell_type": "markdown",
      "metadata": {
        "id": "It_mfyHzkRJ8"
      },
      "source": [
        "Para processar os dados, vamos utilizar o pacote `pandas` na versão `1.1.5`. A documentação completa por ser encontrada neste [link](https://pandas.pydata.org/docs/)"
      ]
    },
    {
      "cell_type": "code",
      "metadata": {
        "id": "DF3DkjPjpn1X",
        "colab": {
          "base_uri": "https://localhost:8080/"
        },
        "outputId": "ebeb41f2-4500-47ce-92c6-b19b546f2bff"
      },
      "source": [
        "!pip install pandas==1.1.5"
      ],
      "execution_count": 5,
      "outputs": [
        {
          "output_type": "stream",
          "name": "stdout",
          "text": [
            "Requirement already satisfied: pandas==1.1.5 in /usr/local/lib/python3.7/dist-packages (1.1.5)\n",
            "Requirement already satisfied: numpy>=1.15.4 in /usr/local/lib/python3.7/dist-packages (from pandas==1.1.5) (1.19.5)\n",
            "Requirement already satisfied: pytz>=2017.2 in /usr/local/lib/python3.7/dist-packages (from pandas==1.1.5) (2018.9)\n",
            "Requirement already satisfied: python-dateutil>=2.7.3 in /usr/local/lib/python3.7/dist-packages (from pandas==1.1.5) (2.8.2)\n",
            "Requirement already satisfied: six>=1.5 in /usr/local/lib/python3.7/dist-packages (from python-dateutil>=2.7.3->pandas==1.1.5) (1.15.0)\n"
          ]
        }
      ]
    },
    {
      "cell_type": "markdown",
      "metadata": {
        "id": "CqVcTZE-wyBt"
      },
      "source": [
        "Vamos importar o pacote com o apelido (alias) `pd`."
      ]
    },
    {
      "cell_type": "code",
      "metadata": {
        "id": "qjA_H6WapxK3"
      },
      "source": [
        "import pandas as pd"
      ],
      "execution_count": 6,
      "outputs": []
    },
    {
      "cell_type": "markdown",
      "metadata": {
        "id": "KFQ77on-w0Fo"
      },
      "source": [
        "Estamos prontos para ler o arquivo."
      ]
    },
    {
      "cell_type": "code",
      "metadata": {
        "id": "-1yL07iwqWk3"
      },
      "source": [
        "df = pd.read_csv('./dados/dow_jones_index.csv')"
      ],
      "execution_count": 7,
      "outputs": []
    },
    {
      "cell_type": "markdown",
      "metadata": {
        "id": "mnLvLSWCxGt_"
      },
      "source": [
        "O pandas trabalha com o conceito de dataframe, uma estrutura de dados com muitos métodos e atributos que aceleram o processamento de dados. Alguns exemplos:"
      ]
    },
    {
      "cell_type": "markdown",
      "metadata": {
        "id": "rf6pevg7xIuQ"
      },
      "source": [
        " - Visualizando as `n` primeiras linhas:"
      ]
    },
    {
      "cell_type": "code",
      "metadata": {
        "id": "fqF7AQvRqn69",
        "colab": {
          "base_uri": "https://localhost:8080/",
          "height": 427
        },
        "outputId": "48a736f0-cf45-4959-bd59-9cbf426fea03"
      },
      "source": [
        "df.head(n=10)"
      ],
      "execution_count": 8,
      "outputs": [
        {
          "output_type": "execute_result",
          "data": {
            "text/html": [
              "\n",
              "  <div id=\"df-ae222485-1bf5-4b16-8351-ca22b1f34ace\">\n",
              "    <div class=\"colab-df-container\">\n",
              "      <div>\n",
              "<style scoped>\n",
              "    .dataframe tbody tr th:only-of-type {\n",
              "        vertical-align: middle;\n",
              "    }\n",
              "\n",
              "    .dataframe tbody tr th {\n",
              "        vertical-align: top;\n",
              "    }\n",
              "\n",
              "    .dataframe thead th {\n",
              "        text-align: right;\n",
              "    }\n",
              "</style>\n",
              "<table border=\"1\" class=\"dataframe\">\n",
              "  <thead>\n",
              "    <tr style=\"text-align: right;\">\n",
              "      <th></th>\n",
              "      <th>quarter</th>\n",
              "      <th>stock</th>\n",
              "      <th>date</th>\n",
              "      <th>open</th>\n",
              "      <th>high</th>\n",
              "      <th>low</th>\n",
              "      <th>close</th>\n",
              "      <th>volume</th>\n",
              "      <th>percent_change_price</th>\n",
              "      <th>percent_change_volume_over_last_wk</th>\n",
              "      <th>previous_weeks_volume</th>\n",
              "      <th>next_weeks_open</th>\n",
              "      <th>next_weeks_close</th>\n",
              "      <th>percent_change_next_weeks_price</th>\n",
              "      <th>days_to_next_dividend</th>\n",
              "      <th>percent_return_next_dividend</th>\n",
              "    </tr>\n",
              "  </thead>\n",
              "  <tbody>\n",
              "    <tr>\n",
              "      <th>0</th>\n",
              "      <td>1</td>\n",
              "      <td>AA</td>\n",
              "      <td>1/7/2011</td>\n",
              "      <td>$15.82</td>\n",
              "      <td>$16.72</td>\n",
              "      <td>$15.78</td>\n",
              "      <td>$16.42</td>\n",
              "      <td>239655616</td>\n",
              "      <td>3.792670</td>\n",
              "      <td>NaN</td>\n",
              "      <td>NaN</td>\n",
              "      <td>$16.71</td>\n",
              "      <td>$15.97</td>\n",
              "      <td>-4.428490</td>\n",
              "      <td>26</td>\n",
              "      <td>0.182704</td>\n",
              "    </tr>\n",
              "    <tr>\n",
              "      <th>1</th>\n",
              "      <td>1</td>\n",
              "      <td>AA</td>\n",
              "      <td>1/14/2011</td>\n",
              "      <td>$16.71</td>\n",
              "      <td>$16.71</td>\n",
              "      <td>$15.64</td>\n",
              "      <td>$15.97</td>\n",
              "      <td>242963398</td>\n",
              "      <td>-4.428490</td>\n",
              "      <td>1.380223</td>\n",
              "      <td>239655616.0</td>\n",
              "      <td>$16.19</td>\n",
              "      <td>$15.79</td>\n",
              "      <td>-2.470660</td>\n",
              "      <td>19</td>\n",
              "      <td>0.187852</td>\n",
              "    </tr>\n",
              "    <tr>\n",
              "      <th>2</th>\n",
              "      <td>1</td>\n",
              "      <td>AA</td>\n",
              "      <td>1/21/2011</td>\n",
              "      <td>$16.19</td>\n",
              "      <td>$16.38</td>\n",
              "      <td>$15.60</td>\n",
              "      <td>$15.79</td>\n",
              "      <td>138428495</td>\n",
              "      <td>-2.470660</td>\n",
              "      <td>-43.024959</td>\n",
              "      <td>242963398.0</td>\n",
              "      <td>$15.87</td>\n",
              "      <td>$16.13</td>\n",
              "      <td>1.638310</td>\n",
              "      <td>12</td>\n",
              "      <td>0.189994</td>\n",
              "    </tr>\n",
              "    <tr>\n",
              "      <th>3</th>\n",
              "      <td>1</td>\n",
              "      <td>AA</td>\n",
              "      <td>1/28/2011</td>\n",
              "      <td>$15.87</td>\n",
              "      <td>$16.63</td>\n",
              "      <td>$15.82</td>\n",
              "      <td>$16.13</td>\n",
              "      <td>151379173</td>\n",
              "      <td>1.638310</td>\n",
              "      <td>9.355500</td>\n",
              "      <td>138428495.0</td>\n",
              "      <td>$16.18</td>\n",
              "      <td>$17.14</td>\n",
              "      <td>5.933250</td>\n",
              "      <td>5</td>\n",
              "      <td>0.185989</td>\n",
              "    </tr>\n",
              "    <tr>\n",
              "      <th>4</th>\n",
              "      <td>1</td>\n",
              "      <td>AA</td>\n",
              "      <td>2/4/2011</td>\n",
              "      <td>$16.18</td>\n",
              "      <td>$17.39</td>\n",
              "      <td>$16.18</td>\n",
              "      <td>$17.14</td>\n",
              "      <td>154387761</td>\n",
              "      <td>5.933250</td>\n",
              "      <td>1.987452</td>\n",
              "      <td>151379173.0</td>\n",
              "      <td>$17.33</td>\n",
              "      <td>$17.37</td>\n",
              "      <td>0.230814</td>\n",
              "      <td>97</td>\n",
              "      <td>0.175029</td>\n",
              "    </tr>\n",
              "    <tr>\n",
              "      <th>5</th>\n",
              "      <td>1</td>\n",
              "      <td>AA</td>\n",
              "      <td>2/11/2011</td>\n",
              "      <td>$17.33</td>\n",
              "      <td>$17.48</td>\n",
              "      <td>$16.97</td>\n",
              "      <td>$17.37</td>\n",
              "      <td>114691279</td>\n",
              "      <td>0.230814</td>\n",
              "      <td>-25.712195</td>\n",
              "      <td>154387761.0</td>\n",
              "      <td>$17.39</td>\n",
              "      <td>$17.28</td>\n",
              "      <td>-0.632547</td>\n",
              "      <td>90</td>\n",
              "      <td>0.172712</td>\n",
              "    </tr>\n",
              "    <tr>\n",
              "      <th>6</th>\n",
              "      <td>1</td>\n",
              "      <td>AA</td>\n",
              "      <td>2/18/2011</td>\n",
              "      <td>$17.39</td>\n",
              "      <td>$17.68</td>\n",
              "      <td>$17.28</td>\n",
              "      <td>$17.28</td>\n",
              "      <td>80023895</td>\n",
              "      <td>-0.632547</td>\n",
              "      <td>-30.226696</td>\n",
              "      <td>114691279.0</td>\n",
              "      <td>$16.98</td>\n",
              "      <td>$16.68</td>\n",
              "      <td>-1.766780</td>\n",
              "      <td>83</td>\n",
              "      <td>0.173611</td>\n",
              "    </tr>\n",
              "    <tr>\n",
              "      <th>7</th>\n",
              "      <td>1</td>\n",
              "      <td>AA</td>\n",
              "      <td>2/25/2011</td>\n",
              "      <td>$16.98</td>\n",
              "      <td>$17.15</td>\n",
              "      <td>$15.96</td>\n",
              "      <td>$16.68</td>\n",
              "      <td>132981863</td>\n",
              "      <td>-1.766780</td>\n",
              "      <td>66.177694</td>\n",
              "      <td>80023895.0</td>\n",
              "      <td>$16.81</td>\n",
              "      <td>$16.58</td>\n",
              "      <td>-1.368230</td>\n",
              "      <td>76</td>\n",
              "      <td>0.179856</td>\n",
              "    </tr>\n",
              "    <tr>\n",
              "      <th>8</th>\n",
              "      <td>1</td>\n",
              "      <td>AA</td>\n",
              "      <td>3/4/2011</td>\n",
              "      <td>$16.81</td>\n",
              "      <td>$16.94</td>\n",
              "      <td>$16.13</td>\n",
              "      <td>$16.58</td>\n",
              "      <td>109493077</td>\n",
              "      <td>-1.368230</td>\n",
              "      <td>-17.663150</td>\n",
              "      <td>132981863.0</td>\n",
              "      <td>$16.58</td>\n",
              "      <td>$16.03</td>\n",
              "      <td>-3.317250</td>\n",
              "      <td>69</td>\n",
              "      <td>0.180941</td>\n",
              "    </tr>\n",
              "    <tr>\n",
              "      <th>9</th>\n",
              "      <td>1</td>\n",
              "      <td>AA</td>\n",
              "      <td>3/11/2011</td>\n",
              "      <td>$16.58</td>\n",
              "      <td>$16.75</td>\n",
              "      <td>$15.42</td>\n",
              "      <td>$16.03</td>\n",
              "      <td>114332562</td>\n",
              "      <td>-3.317250</td>\n",
              "      <td>4.419900</td>\n",
              "      <td>109493077.0</td>\n",
              "      <td>$15.95</td>\n",
              "      <td>$16.11</td>\n",
              "      <td>1.003130</td>\n",
              "      <td>62</td>\n",
              "      <td>0.187149</td>\n",
              "    </tr>\n",
              "  </tbody>\n",
              "</table>\n",
              "</div>\n",
              "      <button class=\"colab-df-convert\" onclick=\"convertToInteractive('df-ae222485-1bf5-4b16-8351-ca22b1f34ace')\"\n",
              "              title=\"Convert this dataframe to an interactive table.\"\n",
              "              style=\"display:none;\">\n",
              "        \n",
              "  <svg xmlns=\"http://www.w3.org/2000/svg\" height=\"24px\"viewBox=\"0 0 24 24\"\n",
              "       width=\"24px\">\n",
              "    <path d=\"M0 0h24v24H0V0z\" fill=\"none\"/>\n",
              "    <path d=\"M18.56 5.44l.94 2.06.94-2.06 2.06-.94-2.06-.94-.94-2.06-.94 2.06-2.06.94zm-11 1L8.5 8.5l.94-2.06 2.06-.94-2.06-.94L8.5 2.5l-.94 2.06-2.06.94zm10 10l.94 2.06.94-2.06 2.06-.94-2.06-.94-.94-2.06-.94 2.06-2.06.94z\"/><path d=\"M17.41 7.96l-1.37-1.37c-.4-.4-.92-.59-1.43-.59-.52 0-1.04.2-1.43.59L10.3 9.45l-7.72 7.72c-.78.78-.78 2.05 0 2.83L4 21.41c.39.39.9.59 1.41.59.51 0 1.02-.2 1.41-.59l7.78-7.78 2.81-2.81c.8-.78.8-2.07 0-2.86zM5.41 20L4 18.59l7.72-7.72 1.47 1.35L5.41 20z\"/>\n",
              "  </svg>\n",
              "      </button>\n",
              "      \n",
              "  <style>\n",
              "    .colab-df-container {\n",
              "      display:flex;\n",
              "      flex-wrap:wrap;\n",
              "      gap: 12px;\n",
              "    }\n",
              "\n",
              "    .colab-df-convert {\n",
              "      background-color: #E8F0FE;\n",
              "      border: none;\n",
              "      border-radius: 50%;\n",
              "      cursor: pointer;\n",
              "      display: none;\n",
              "      fill: #1967D2;\n",
              "      height: 32px;\n",
              "      padding: 0 0 0 0;\n",
              "      width: 32px;\n",
              "    }\n",
              "\n",
              "    .colab-df-convert:hover {\n",
              "      background-color: #E2EBFA;\n",
              "      box-shadow: 0px 1px 2px rgba(60, 64, 67, 0.3), 0px 1px 3px 1px rgba(60, 64, 67, 0.15);\n",
              "      fill: #174EA6;\n",
              "    }\n",
              "\n",
              "    [theme=dark] .colab-df-convert {\n",
              "      background-color: #3B4455;\n",
              "      fill: #D2E3FC;\n",
              "    }\n",
              "\n",
              "    [theme=dark] .colab-df-convert:hover {\n",
              "      background-color: #434B5C;\n",
              "      box-shadow: 0px 1px 3px 1px rgba(0, 0, 0, 0.15);\n",
              "      filter: drop-shadow(0px 1px 2px rgba(0, 0, 0, 0.3));\n",
              "      fill: #FFFFFF;\n",
              "    }\n",
              "  </style>\n",
              "\n",
              "      <script>\n",
              "        const buttonEl =\n",
              "          document.querySelector('#df-ae222485-1bf5-4b16-8351-ca22b1f34ace button.colab-df-convert');\n",
              "        buttonEl.style.display =\n",
              "          google.colab.kernel.accessAllowed ? 'block' : 'none';\n",
              "\n",
              "        async function convertToInteractive(key) {\n",
              "          const element = document.querySelector('#df-ae222485-1bf5-4b16-8351-ca22b1f34ace');\n",
              "          const dataTable =\n",
              "            await google.colab.kernel.invokeFunction('convertToInteractive',\n",
              "                                                     [key], {});\n",
              "          if (!dataTable) return;\n",
              "\n",
              "          const docLinkHtml = 'Like what you see? Visit the ' +\n",
              "            '<a target=\"_blank\" href=https://colab.research.google.com/notebooks/data_table.ipynb>data table notebook</a>'\n",
              "            + ' to learn more about interactive tables.';\n",
              "          element.innerHTML = '';\n",
              "          dataTable['output_type'] = 'display_data';\n",
              "          await google.colab.output.renderOutput(dataTable, element);\n",
              "          const docLink = document.createElement('div');\n",
              "          docLink.innerHTML = docLinkHtml;\n",
              "          element.appendChild(docLink);\n",
              "        }\n",
              "      </script>\n",
              "    </div>\n",
              "  </div>\n",
              "  "
            ],
            "text/plain": [
              "   quarter stock  ... days_to_next_dividend percent_return_next_dividend\n",
              "0        1    AA  ...                    26                     0.182704\n",
              "1        1    AA  ...                    19                     0.187852\n",
              "2        1    AA  ...                    12                     0.189994\n",
              "3        1    AA  ...                     5                     0.185989\n",
              "4        1    AA  ...                    97                     0.175029\n",
              "5        1    AA  ...                    90                     0.172712\n",
              "6        1    AA  ...                    83                     0.173611\n",
              "7        1    AA  ...                    76                     0.179856\n",
              "8        1    AA  ...                    69                     0.180941\n",
              "9        1    AA  ...                    62                     0.187149\n",
              "\n",
              "[10 rows x 16 columns]"
            ]
          },
          "metadata": {},
          "execution_count": 8
        }
      ]
    },
    {
      "cell_type": "markdown",
      "metadata": {
        "id": "Jna7T1eqxRmH"
      },
      "source": [
        " - Visualizando o nome das colunas:"
      ]
    },
    {
      "cell_type": "code",
      "metadata": {
        "id": "bX_7C45pxU8Q",
        "colab": {
          "base_uri": "https://localhost:8080/"
        },
        "outputId": "89d4455e-69ce-4164-fbba-962ad9f29e87"
      },
      "source": [
        "df.columns.to_list()"
      ],
      "execution_count": 9,
      "outputs": [
        {
          "output_type": "execute_result",
          "data": {
            "text/plain": [
              "['quarter',\n",
              " 'stock',\n",
              " 'date',\n",
              " 'open',\n",
              " 'high',\n",
              " 'low',\n",
              " 'close',\n",
              " 'volume',\n",
              " 'percent_change_price',\n",
              " 'percent_change_volume_over_last_wk',\n",
              " 'previous_weeks_volume',\n",
              " 'next_weeks_open',\n",
              " 'next_weeks_close',\n",
              " 'percent_change_next_weeks_price',\n",
              " 'days_to_next_dividend',\n",
              " 'percent_return_next_dividend']"
            ]
          },
          "metadata": {},
          "execution_count": 9
        }
      ]
    },
    {
      "cell_type": "markdown",
      "metadata": {
        "id": "sqLB9abQxbE-"
      },
      "source": [
        " - Verificando o número de linhas e colunas."
      ]
    },
    {
      "cell_type": "code",
      "metadata": {
        "id": "sBrOUuUVxe7A",
        "colab": {
          "base_uri": "https://localhost:8080/"
        },
        "outputId": "06657d0c-842b-4bc1-a109-4ac3a888003d"
      },
      "source": [
        "linhas, colunas = df.shape\n",
        "print(f'Número de linhas: {linhas}')\n",
        "print(f'Número de colunas: {colunas}')"
      ],
      "execution_count": 10,
      "outputs": [
        {
          "output_type": "stream",
          "name": "stdout",
          "text": [
            "Número de linhas: 750\n",
            "Número de colunas: 16\n"
          ]
        }
      ]
    },
    {
      "cell_type": "markdown",
      "metadata": {
        "id": "bSN4zYEKyC7L"
      },
      "source": [
        "Vamos selecionar os valores de abertura, fechamento, máximo e mínimo das ações do McDonalds, listado na Dow Jones como MCD:"
      ]
    },
    {
      "cell_type": "markdown",
      "metadata": {
        "id": "CyTuPJmgzbZd"
      },
      "source": [
        " - Selecionando as linha do dataframe original `df` em que a coluna `stock` é igual a `MCD`."
      ]
    },
    {
      "cell_type": "code",
      "metadata": {
        "id": "25XUDMPqqwgH"
      },
      "source": [
        "df_mcd = df[df['stock'] == 'MCD']"
      ],
      "execution_count": 11,
      "outputs": []
    },
    {
      "cell_type": "markdown",
      "metadata": {
        "id": "ga7Z_GA0zxzA"
      },
      "source": [
        " - Selecionando apenas as colunas de data e valores de ações."
      ]
    },
    {
      "cell_type": "code",
      "metadata": {
        "id": "95LDI4jCrMGI"
      },
      "source": [
        "df_mcd = df_mcd[['date', 'open', 'high', 'low', 'close']]"
      ],
      "execution_count": 12,
      "outputs": []
    },
    {
      "cell_type": "markdown",
      "metadata": {
        "id": "ApnHMNYOyQ8T"
      },
      "source": [
        "Excelente, o problema é que as colunas com os valores possuem o carater `$` e são do tipo texto (`object` no `pandas`)."
      ]
    },
    {
      "cell_type": "code",
      "metadata": {
        "id": "DDZZralSr0Zk",
        "colab": {
          "base_uri": "https://localhost:8080/",
          "height": 363
        },
        "outputId": "94371888-c9ed-4c83-f504-94c20d2af75c"
      },
      "source": [
        "df_mcd.head(n=10)"
      ],
      "execution_count": 13,
      "outputs": [
        {
          "output_type": "execute_result",
          "data": {
            "text/html": [
              "\n",
              "  <div id=\"df-5ed42349-99ff-4b0e-a994-dfdc6ae11a6d\">\n",
              "    <div class=\"colab-df-container\">\n",
              "      <div>\n",
              "<style scoped>\n",
              "    .dataframe tbody tr th:only-of-type {\n",
              "        vertical-align: middle;\n",
              "    }\n",
              "\n",
              "    .dataframe tbody tr th {\n",
              "        vertical-align: top;\n",
              "    }\n",
              "\n",
              "    .dataframe thead th {\n",
              "        text-align: right;\n",
              "    }\n",
              "</style>\n",
              "<table border=\"1\" class=\"dataframe\">\n",
              "  <thead>\n",
              "    <tr style=\"text-align: right;\">\n",
              "      <th></th>\n",
              "      <th>date</th>\n",
              "      <th>open</th>\n",
              "      <th>high</th>\n",
              "      <th>low</th>\n",
              "      <th>close</th>\n",
              "    </tr>\n",
              "  </thead>\n",
              "  <tbody>\n",
              "    <tr>\n",
              "      <th>216</th>\n",
              "      <td>1/7/2011</td>\n",
              "      <td>$77.10</td>\n",
              "      <td>$77.59</td>\n",
              "      <td>$73.59</td>\n",
              "      <td>$74.37</td>\n",
              "    </tr>\n",
              "    <tr>\n",
              "      <th>217</th>\n",
              "      <td>1/14/2011</td>\n",
              "      <td>$74.25</td>\n",
              "      <td>$74.49</td>\n",
              "      <td>$72.46</td>\n",
              "      <td>$74.06</td>\n",
              "    </tr>\n",
              "    <tr>\n",
              "      <th>218</th>\n",
              "      <td>1/21/2011</td>\n",
              "      <td>$74.65</td>\n",
              "      <td>$75.75</td>\n",
              "      <td>$74.31</td>\n",
              "      <td>$75.01</td>\n",
              "    </tr>\n",
              "    <tr>\n",
              "      <th>219</th>\n",
              "      <td>1/28/2011</td>\n",
              "      <td>$74.25</td>\n",
              "      <td>$75.85</td>\n",
              "      <td>$73.05</td>\n",
              "      <td>$73.28</td>\n",
              "    </tr>\n",
              "    <tr>\n",
              "      <th>220</th>\n",
              "      <td>2/4/2011</td>\n",
              "      <td>$73.80</td>\n",
              "      <td>$74.50</td>\n",
              "      <td>$73.08</td>\n",
              "      <td>$74.05</td>\n",
              "    </tr>\n",
              "    <tr>\n",
              "      <th>221</th>\n",
              "      <td>2/11/2011</td>\n",
              "      <td>$74.13</td>\n",
              "      <td>$76.32</td>\n",
              "      <td>$73.30</td>\n",
              "      <td>$76.14</td>\n",
              "    </tr>\n",
              "    <tr>\n",
              "      <th>222</th>\n",
              "      <td>2/18/2011</td>\n",
              "      <td>$76.07</td>\n",
              "      <td>$76.45</td>\n",
              "      <td>$75.70</td>\n",
              "      <td>$76.13</td>\n",
              "    </tr>\n",
              "    <tr>\n",
              "      <th>223</th>\n",
              "      <td>2/25/2011</td>\n",
              "      <td>$75.95</td>\n",
              "      <td>$76.45</td>\n",
              "      <td>$74.42</td>\n",
              "      <td>$74.44</td>\n",
              "    </tr>\n",
              "    <tr>\n",
              "      <th>224</th>\n",
              "      <td>3/4/2011</td>\n",
              "      <td>$74.51</td>\n",
              "      <td>$76.63</td>\n",
              "      <td>$73.64</td>\n",
              "      <td>$76.03</td>\n",
              "    </tr>\n",
              "    <tr>\n",
              "      <th>225</th>\n",
              "      <td>3/11/2011</td>\n",
              "      <td>$76.38</td>\n",
              "      <td>$77.25</td>\n",
              "      <td>$74.97</td>\n",
              "      <td>$76.73</td>\n",
              "    </tr>\n",
              "  </tbody>\n",
              "</table>\n",
              "</div>\n",
              "      <button class=\"colab-df-convert\" onclick=\"convertToInteractive('df-5ed42349-99ff-4b0e-a994-dfdc6ae11a6d')\"\n",
              "              title=\"Convert this dataframe to an interactive table.\"\n",
              "              style=\"display:none;\">\n",
              "        \n",
              "  <svg xmlns=\"http://www.w3.org/2000/svg\" height=\"24px\"viewBox=\"0 0 24 24\"\n",
              "       width=\"24px\">\n",
              "    <path d=\"M0 0h24v24H0V0z\" fill=\"none\"/>\n",
              "    <path d=\"M18.56 5.44l.94 2.06.94-2.06 2.06-.94-2.06-.94-.94-2.06-.94 2.06-2.06.94zm-11 1L8.5 8.5l.94-2.06 2.06-.94-2.06-.94L8.5 2.5l-.94 2.06-2.06.94zm10 10l.94 2.06.94-2.06 2.06-.94-2.06-.94-.94-2.06-.94 2.06-2.06.94z\"/><path d=\"M17.41 7.96l-1.37-1.37c-.4-.4-.92-.59-1.43-.59-.52 0-1.04.2-1.43.59L10.3 9.45l-7.72 7.72c-.78.78-.78 2.05 0 2.83L4 21.41c.39.39.9.59 1.41.59.51 0 1.02-.2 1.41-.59l7.78-7.78 2.81-2.81c.8-.78.8-2.07 0-2.86zM5.41 20L4 18.59l7.72-7.72 1.47 1.35L5.41 20z\"/>\n",
              "  </svg>\n",
              "      </button>\n",
              "      \n",
              "  <style>\n",
              "    .colab-df-container {\n",
              "      display:flex;\n",
              "      flex-wrap:wrap;\n",
              "      gap: 12px;\n",
              "    }\n",
              "\n",
              "    .colab-df-convert {\n",
              "      background-color: #E8F0FE;\n",
              "      border: none;\n",
              "      border-radius: 50%;\n",
              "      cursor: pointer;\n",
              "      display: none;\n",
              "      fill: #1967D2;\n",
              "      height: 32px;\n",
              "      padding: 0 0 0 0;\n",
              "      width: 32px;\n",
              "    }\n",
              "\n",
              "    .colab-df-convert:hover {\n",
              "      background-color: #E2EBFA;\n",
              "      box-shadow: 0px 1px 2px rgba(60, 64, 67, 0.3), 0px 1px 3px 1px rgba(60, 64, 67, 0.15);\n",
              "      fill: #174EA6;\n",
              "    }\n",
              "\n",
              "    [theme=dark] .colab-df-convert {\n",
              "      background-color: #3B4455;\n",
              "      fill: #D2E3FC;\n",
              "    }\n",
              "\n",
              "    [theme=dark] .colab-df-convert:hover {\n",
              "      background-color: #434B5C;\n",
              "      box-shadow: 0px 1px 3px 1px rgba(0, 0, 0, 0.15);\n",
              "      filter: drop-shadow(0px 1px 2px rgba(0, 0, 0, 0.3));\n",
              "      fill: #FFFFFF;\n",
              "    }\n",
              "  </style>\n",
              "\n",
              "      <script>\n",
              "        const buttonEl =\n",
              "          document.querySelector('#df-5ed42349-99ff-4b0e-a994-dfdc6ae11a6d button.colab-df-convert');\n",
              "        buttonEl.style.display =\n",
              "          google.colab.kernel.accessAllowed ? 'block' : 'none';\n",
              "\n",
              "        async function convertToInteractive(key) {\n",
              "          const element = document.querySelector('#df-5ed42349-99ff-4b0e-a994-dfdc6ae11a6d');\n",
              "          const dataTable =\n",
              "            await google.colab.kernel.invokeFunction('convertToInteractive',\n",
              "                                                     [key], {});\n",
              "          if (!dataTable) return;\n",
              "\n",
              "          const docLinkHtml = 'Like what you see? Visit the ' +\n",
              "            '<a target=\"_blank\" href=https://colab.research.google.com/notebooks/data_table.ipynb>data table notebook</a>'\n",
              "            + ' to learn more about interactive tables.';\n",
              "          element.innerHTML = '';\n",
              "          dataTable['output_type'] = 'display_data';\n",
              "          await google.colab.output.renderOutput(dataTable, element);\n",
              "          const docLink = document.createElement('div');\n",
              "          docLink.innerHTML = docLinkHtml;\n",
              "          element.appendChild(docLink);\n",
              "        }\n",
              "      </script>\n",
              "    </div>\n",
              "  </div>\n",
              "  "
            ],
            "text/plain": [
              "          date    open    high     low   close\n",
              "216   1/7/2011  $77.10  $77.59  $73.59  $74.37\n",
              "217  1/14/2011  $74.25  $74.49  $72.46  $74.06\n",
              "218  1/21/2011  $74.65  $75.75  $74.31  $75.01\n",
              "219  1/28/2011  $74.25  $75.85  $73.05  $73.28\n",
              "220   2/4/2011  $73.80  $74.50  $73.08  $74.05\n",
              "221  2/11/2011  $74.13  $76.32  $73.30  $76.14\n",
              "222  2/18/2011  $76.07  $76.45  $75.70  $76.13\n",
              "223  2/25/2011  $75.95  $76.45  $74.42  $74.44\n",
              "224   3/4/2011  $74.51  $76.63  $73.64  $76.03\n",
              "225  3/11/2011  $76.38  $77.25  $74.97  $76.73"
            ]
          },
          "metadata": {},
          "execution_count": 13
        }
      ]
    },
    {
      "cell_type": "code",
      "metadata": {
        "id": "8cx7gP6TyjOu",
        "colab": {
          "base_uri": "https://localhost:8080/"
        },
        "outputId": "7ad0befd-fb6c-4572-e47d-7078eef8636f"
      },
      "source": [
        "df_mcd.dtypes"
      ],
      "execution_count": 14,
      "outputs": [
        {
          "output_type": "execute_result",
          "data": {
            "text/plain": [
              "date     object\n",
              "open     object\n",
              "high     object\n",
              "low      object\n",
              "close    object\n",
              "dtype: object"
            ]
          },
          "metadata": {},
          "execution_count": 14
        }
      ]
    },
    {
      "cell_type": "markdown",
      "metadata": {
        "id": "IsSYxtOOys72"
      },
      "source": [
        "Vamos limpar as colunas com o método `apply`, que permite a aplicação de uma função anônima (`lambda`) qualquer. A função `lambda` remove o caracter **$** e faz a conversão do tipo de `str` para `float`."
      ]
    },
    {
      "cell_type": "code",
      "metadata": {
        "id": "u3OGT0r_sFCJ"
      },
      "source": [
        "for col in ['open', 'high', 'low', 'close']:\n",
        "  df_mcd[col] = df_mcd[col].apply(lambda value: float(value.split(sep='$')[-1]))"
      ],
      "execution_count": 15,
      "outputs": []
    },
    {
      "cell_type": "markdown",
      "metadata": {
        "id": "4xEkH-RdzLUi"
      },
      "source": [
        "Verifique novamente os dados e seus tipos."
      ]
    },
    {
      "cell_type": "code",
      "metadata": {
        "id": "4w3-4q1gsv3Y",
        "colab": {
          "base_uri": "https://localhost:8080/",
          "height": 363
        },
        "outputId": "a54d01a6-3b50-4b93-c210-709823c2ec66"
      },
      "source": [
        "df_mcd.head(n=10)"
      ],
      "execution_count": 16,
      "outputs": [
        {
          "output_type": "execute_result",
          "data": {
            "text/html": [
              "\n",
              "  <div id=\"df-2638b8db-7ea7-4ca0-ac60-1efb6c31a30f\">\n",
              "    <div class=\"colab-df-container\">\n",
              "      <div>\n",
              "<style scoped>\n",
              "    .dataframe tbody tr th:only-of-type {\n",
              "        vertical-align: middle;\n",
              "    }\n",
              "\n",
              "    .dataframe tbody tr th {\n",
              "        vertical-align: top;\n",
              "    }\n",
              "\n",
              "    .dataframe thead th {\n",
              "        text-align: right;\n",
              "    }\n",
              "</style>\n",
              "<table border=\"1\" class=\"dataframe\">\n",
              "  <thead>\n",
              "    <tr style=\"text-align: right;\">\n",
              "      <th></th>\n",
              "      <th>date</th>\n",
              "      <th>open</th>\n",
              "      <th>high</th>\n",
              "      <th>low</th>\n",
              "      <th>close</th>\n",
              "    </tr>\n",
              "  </thead>\n",
              "  <tbody>\n",
              "    <tr>\n",
              "      <th>216</th>\n",
              "      <td>1/7/2011</td>\n",
              "      <td>77.10</td>\n",
              "      <td>77.59</td>\n",
              "      <td>73.59</td>\n",
              "      <td>74.37</td>\n",
              "    </tr>\n",
              "    <tr>\n",
              "      <th>217</th>\n",
              "      <td>1/14/2011</td>\n",
              "      <td>74.25</td>\n",
              "      <td>74.49</td>\n",
              "      <td>72.46</td>\n",
              "      <td>74.06</td>\n",
              "    </tr>\n",
              "    <tr>\n",
              "      <th>218</th>\n",
              "      <td>1/21/2011</td>\n",
              "      <td>74.65</td>\n",
              "      <td>75.75</td>\n",
              "      <td>74.31</td>\n",
              "      <td>75.01</td>\n",
              "    </tr>\n",
              "    <tr>\n",
              "      <th>219</th>\n",
              "      <td>1/28/2011</td>\n",
              "      <td>74.25</td>\n",
              "      <td>75.85</td>\n",
              "      <td>73.05</td>\n",
              "      <td>73.28</td>\n",
              "    </tr>\n",
              "    <tr>\n",
              "      <th>220</th>\n",
              "      <td>2/4/2011</td>\n",
              "      <td>73.80</td>\n",
              "      <td>74.50</td>\n",
              "      <td>73.08</td>\n",
              "      <td>74.05</td>\n",
              "    </tr>\n",
              "    <tr>\n",
              "      <th>221</th>\n",
              "      <td>2/11/2011</td>\n",
              "      <td>74.13</td>\n",
              "      <td>76.32</td>\n",
              "      <td>73.30</td>\n",
              "      <td>76.14</td>\n",
              "    </tr>\n",
              "    <tr>\n",
              "      <th>222</th>\n",
              "      <td>2/18/2011</td>\n",
              "      <td>76.07</td>\n",
              "      <td>76.45</td>\n",
              "      <td>75.70</td>\n",
              "      <td>76.13</td>\n",
              "    </tr>\n",
              "    <tr>\n",
              "      <th>223</th>\n",
              "      <td>2/25/2011</td>\n",
              "      <td>75.95</td>\n",
              "      <td>76.45</td>\n",
              "      <td>74.42</td>\n",
              "      <td>74.44</td>\n",
              "    </tr>\n",
              "    <tr>\n",
              "      <th>224</th>\n",
              "      <td>3/4/2011</td>\n",
              "      <td>74.51</td>\n",
              "      <td>76.63</td>\n",
              "      <td>73.64</td>\n",
              "      <td>76.03</td>\n",
              "    </tr>\n",
              "    <tr>\n",
              "      <th>225</th>\n",
              "      <td>3/11/2011</td>\n",
              "      <td>76.38</td>\n",
              "      <td>77.25</td>\n",
              "      <td>74.97</td>\n",
              "      <td>76.73</td>\n",
              "    </tr>\n",
              "  </tbody>\n",
              "</table>\n",
              "</div>\n",
              "      <button class=\"colab-df-convert\" onclick=\"convertToInteractive('df-2638b8db-7ea7-4ca0-ac60-1efb6c31a30f')\"\n",
              "              title=\"Convert this dataframe to an interactive table.\"\n",
              "              style=\"display:none;\">\n",
              "        \n",
              "  <svg xmlns=\"http://www.w3.org/2000/svg\" height=\"24px\"viewBox=\"0 0 24 24\"\n",
              "       width=\"24px\">\n",
              "    <path d=\"M0 0h24v24H0V0z\" fill=\"none\"/>\n",
              "    <path d=\"M18.56 5.44l.94 2.06.94-2.06 2.06-.94-2.06-.94-.94-2.06-.94 2.06-2.06.94zm-11 1L8.5 8.5l.94-2.06 2.06-.94-2.06-.94L8.5 2.5l-.94 2.06-2.06.94zm10 10l.94 2.06.94-2.06 2.06-.94-2.06-.94-.94-2.06-.94 2.06-2.06.94z\"/><path d=\"M17.41 7.96l-1.37-1.37c-.4-.4-.92-.59-1.43-.59-.52 0-1.04.2-1.43.59L10.3 9.45l-7.72 7.72c-.78.78-.78 2.05 0 2.83L4 21.41c.39.39.9.59 1.41.59.51 0 1.02-.2 1.41-.59l7.78-7.78 2.81-2.81c.8-.78.8-2.07 0-2.86zM5.41 20L4 18.59l7.72-7.72 1.47 1.35L5.41 20z\"/>\n",
              "  </svg>\n",
              "      </button>\n",
              "      \n",
              "  <style>\n",
              "    .colab-df-container {\n",
              "      display:flex;\n",
              "      flex-wrap:wrap;\n",
              "      gap: 12px;\n",
              "    }\n",
              "\n",
              "    .colab-df-convert {\n",
              "      background-color: #E8F0FE;\n",
              "      border: none;\n",
              "      border-radius: 50%;\n",
              "      cursor: pointer;\n",
              "      display: none;\n",
              "      fill: #1967D2;\n",
              "      height: 32px;\n",
              "      padding: 0 0 0 0;\n",
              "      width: 32px;\n",
              "    }\n",
              "\n",
              "    .colab-df-convert:hover {\n",
              "      background-color: #E2EBFA;\n",
              "      box-shadow: 0px 1px 2px rgba(60, 64, 67, 0.3), 0px 1px 3px 1px rgba(60, 64, 67, 0.15);\n",
              "      fill: #174EA6;\n",
              "    }\n",
              "\n",
              "    [theme=dark] .colab-df-convert {\n",
              "      background-color: #3B4455;\n",
              "      fill: #D2E3FC;\n",
              "    }\n",
              "\n",
              "    [theme=dark] .colab-df-convert:hover {\n",
              "      background-color: #434B5C;\n",
              "      box-shadow: 0px 1px 3px 1px rgba(0, 0, 0, 0.15);\n",
              "      filter: drop-shadow(0px 1px 2px rgba(0, 0, 0, 0.3));\n",
              "      fill: #FFFFFF;\n",
              "    }\n",
              "  </style>\n",
              "\n",
              "      <script>\n",
              "        const buttonEl =\n",
              "          document.querySelector('#df-2638b8db-7ea7-4ca0-ac60-1efb6c31a30f button.colab-df-convert');\n",
              "        buttonEl.style.display =\n",
              "          google.colab.kernel.accessAllowed ? 'block' : 'none';\n",
              "\n",
              "        async function convertToInteractive(key) {\n",
              "          const element = document.querySelector('#df-2638b8db-7ea7-4ca0-ac60-1efb6c31a30f');\n",
              "          const dataTable =\n",
              "            await google.colab.kernel.invokeFunction('convertToInteractive',\n",
              "                                                     [key], {});\n",
              "          if (!dataTable) return;\n",
              "\n",
              "          const docLinkHtml = 'Like what you see? Visit the ' +\n",
              "            '<a target=\"_blank\" href=https://colab.research.google.com/notebooks/data_table.ipynb>data table notebook</a>'\n",
              "            + ' to learn more about interactive tables.';\n",
              "          element.innerHTML = '';\n",
              "          dataTable['output_type'] = 'display_data';\n",
              "          await google.colab.output.renderOutput(dataTable, element);\n",
              "          const docLink = document.createElement('div');\n",
              "          docLink.innerHTML = docLinkHtml;\n",
              "          element.appendChild(docLink);\n",
              "        }\n",
              "      </script>\n",
              "    </div>\n",
              "  </div>\n",
              "  "
            ],
            "text/plain": [
              "          date   open   high    low  close\n",
              "216   1/7/2011  77.10  77.59  73.59  74.37\n",
              "217  1/14/2011  74.25  74.49  72.46  74.06\n",
              "218  1/21/2011  74.65  75.75  74.31  75.01\n",
              "219  1/28/2011  74.25  75.85  73.05  73.28\n",
              "220   2/4/2011  73.80  74.50  73.08  74.05\n",
              "221  2/11/2011  74.13  76.32  73.30  76.14\n",
              "222  2/18/2011  76.07  76.45  75.70  76.13\n",
              "223  2/25/2011  75.95  76.45  74.42  74.44\n",
              "224   3/4/2011  74.51  76.63  73.64  76.03\n",
              "225  3/11/2011  76.38  77.25  74.97  76.73"
            ]
          },
          "metadata": {},
          "execution_count": 16
        }
      ]
    },
    {
      "cell_type": "code",
      "metadata": {
        "id": "FDZyy9SVzPoK",
        "colab": {
          "base_uri": "https://localhost:8080/"
        },
        "outputId": "007a3550-4848-4d57-def2-ce49e8694eb8"
      },
      "source": [
        "df_mcd.dtypes"
      ],
      "execution_count": 17,
      "outputs": [
        {
          "output_type": "execute_result",
          "data": {
            "text/plain": [
              "date      object\n",
              "open     float64\n",
              "high     float64\n",
              "low      float64\n",
              "close    float64\n",
              "dtype: object"
            ]
          },
          "metadata": {},
          "execution_count": 17
        }
      ]
    },
    {
      "cell_type": "markdown",
      "metadata": {
        "id": "lIzrYVGWkRJ9"
      },
      "source": [
        "Excelente, agora podemos explorar os dados visualmente."
      ]
    },
    {
      "cell_type": "markdown",
      "metadata": {
        "id": "_-TI78q1yuQa"
      },
      "source": [
        "**Agora é a sua vez!** Conduza o mesmo processo para extrair e tratar os dados da empresa Coca-Cola (`stock` column igual a `KO`)."
      ]
    },
    {
      "cell_type": "code",
      "metadata": {
        "id": "fGbOS3kNzNNF"
      },
      "source": [
        "# extração e tratamento dos dados da empresa Coca-Cola."
      ],
      "execution_count": null,
      "outputs": []
    },
    {
      "cell_type": "code",
      "source": [
        "df_ko = df[df['stock'] == 'KO']"
      ],
      "metadata": {
        "id": "eZy5ZJZdtzGW"
      },
      "execution_count": 20,
      "outputs": []
    },
    {
      "cell_type": "code",
      "source": [
        "df_ko = df_ko[['date', 'open', 'high', 'low', 'close']]"
      ],
      "metadata": {
        "id": "_l38utyJuDpJ"
      },
      "execution_count": 21,
      "outputs": []
    },
    {
      "cell_type": "code",
      "source": [
        "df_ko.head(n=10)"
      ],
      "metadata": {
        "colab": {
          "base_uri": "https://localhost:8080/",
          "height": 363
        },
        "id": "kvqMI-yOuMts",
        "outputId": "897eda6e-6bcf-4f85-b8ca-c4049d8a054d"
      },
      "execution_count": 22,
      "outputs": [
        {
          "output_type": "execute_result",
          "data": {
            "text/html": [
              "\n",
              "  <div id=\"df-8873427b-1455-4460-baa4-44d2f25f756c\">\n",
              "    <div class=\"colab-df-container\">\n",
              "      <div>\n",
              "<style scoped>\n",
              "    .dataframe tbody tr th:only-of-type {\n",
              "        vertical-align: middle;\n",
              "    }\n",
              "\n",
              "    .dataframe tbody tr th {\n",
              "        vertical-align: top;\n",
              "    }\n",
              "\n",
              "    .dataframe thead th {\n",
              "        text-align: right;\n",
              "    }\n",
              "</style>\n",
              "<table border=\"1\" class=\"dataframe\">\n",
              "  <thead>\n",
              "    <tr style=\"text-align: right;\">\n",
              "      <th></th>\n",
              "      <th>date</th>\n",
              "      <th>open</th>\n",
              "      <th>high</th>\n",
              "      <th>low</th>\n",
              "      <th>close</th>\n",
              "    </tr>\n",
              "  </thead>\n",
              "  <tbody>\n",
              "    <tr>\n",
              "      <th>204</th>\n",
              "      <td>1/7/2011</td>\n",
              "      <td>$65.88</td>\n",
              "      <td>$65.88</td>\n",
              "      <td>$62.56</td>\n",
              "      <td>$62.92</td>\n",
              "    </tr>\n",
              "    <tr>\n",
              "      <th>205</th>\n",
              "      <td>1/14/2011</td>\n",
              "      <td>$62.70</td>\n",
              "      <td>$63.86</td>\n",
              "      <td>$62.56</td>\n",
              "      <td>$63.13</td>\n",
              "    </tr>\n",
              "    <tr>\n",
              "      <th>206</th>\n",
              "      <td>1/21/2011</td>\n",
              "      <td>$63.21</td>\n",
              "      <td>$63.92</td>\n",
              "      <td>$62.72</td>\n",
              "      <td>$62.77</td>\n",
              "    </tr>\n",
              "    <tr>\n",
              "      <th>207</th>\n",
              "      <td>1/28/2011</td>\n",
              "      <td>$62.87</td>\n",
              "      <td>$63.31</td>\n",
              "      <td>$62.14</td>\n",
              "      <td>$62.21</td>\n",
              "    </tr>\n",
              "    <tr>\n",
              "      <th>208</th>\n",
              "      <td>2/4/2011</td>\n",
              "      <td>$62.32</td>\n",
              "      <td>$63.48</td>\n",
              "      <td>$61.89</td>\n",
              "      <td>$62.56</td>\n",
              "    </tr>\n",
              "    <tr>\n",
              "      <th>209</th>\n",
              "      <td>2/11/2011</td>\n",
              "      <td>$62.67</td>\n",
              "      <td>$64.75</td>\n",
              "      <td>$62.32</td>\n",
              "      <td>$63.57</td>\n",
              "    </tr>\n",
              "    <tr>\n",
              "      <th>210</th>\n",
              "      <td>2/18/2011</td>\n",
              "      <td>$63.67</td>\n",
              "      <td>$64.72</td>\n",
              "      <td>$62.55</td>\n",
              "      <td>$64.55</td>\n",
              "    </tr>\n",
              "    <tr>\n",
              "      <th>211</th>\n",
              "      <td>2/25/2011</td>\n",
              "      <td>$63.36</td>\n",
              "      <td>$64.40</td>\n",
              "      <td>$63.33</td>\n",
              "      <td>$64.31</td>\n",
              "    </tr>\n",
              "    <tr>\n",
              "      <th>212</th>\n",
              "      <td>3/4/2011</td>\n",
              "      <td>$64.17</td>\n",
              "      <td>$65.87</td>\n",
              "      <td>$63.86</td>\n",
              "      <td>$65.21</td>\n",
              "    </tr>\n",
              "    <tr>\n",
              "      <th>213</th>\n",
              "      <td>3/11/2011</td>\n",
              "      <td>$65.32</td>\n",
              "      <td>$65.84</td>\n",
              "      <td>$64.47</td>\n",
              "      <td>$64.81</td>\n",
              "    </tr>\n",
              "  </tbody>\n",
              "</table>\n",
              "</div>\n",
              "      <button class=\"colab-df-convert\" onclick=\"convertToInteractive('df-8873427b-1455-4460-baa4-44d2f25f756c')\"\n",
              "              title=\"Convert this dataframe to an interactive table.\"\n",
              "              style=\"display:none;\">\n",
              "        \n",
              "  <svg xmlns=\"http://www.w3.org/2000/svg\" height=\"24px\"viewBox=\"0 0 24 24\"\n",
              "       width=\"24px\">\n",
              "    <path d=\"M0 0h24v24H0V0z\" fill=\"none\"/>\n",
              "    <path d=\"M18.56 5.44l.94 2.06.94-2.06 2.06-.94-2.06-.94-.94-2.06-.94 2.06-2.06.94zm-11 1L8.5 8.5l.94-2.06 2.06-.94-2.06-.94L8.5 2.5l-.94 2.06-2.06.94zm10 10l.94 2.06.94-2.06 2.06-.94-2.06-.94-.94-2.06-.94 2.06-2.06.94z\"/><path d=\"M17.41 7.96l-1.37-1.37c-.4-.4-.92-.59-1.43-.59-.52 0-1.04.2-1.43.59L10.3 9.45l-7.72 7.72c-.78.78-.78 2.05 0 2.83L4 21.41c.39.39.9.59 1.41.59.51 0 1.02-.2 1.41-.59l7.78-7.78 2.81-2.81c.8-.78.8-2.07 0-2.86zM5.41 20L4 18.59l7.72-7.72 1.47 1.35L5.41 20z\"/>\n",
              "  </svg>\n",
              "      </button>\n",
              "      \n",
              "  <style>\n",
              "    .colab-df-container {\n",
              "      display:flex;\n",
              "      flex-wrap:wrap;\n",
              "      gap: 12px;\n",
              "    }\n",
              "\n",
              "    .colab-df-convert {\n",
              "      background-color: #E8F0FE;\n",
              "      border: none;\n",
              "      border-radius: 50%;\n",
              "      cursor: pointer;\n",
              "      display: none;\n",
              "      fill: #1967D2;\n",
              "      height: 32px;\n",
              "      padding: 0 0 0 0;\n",
              "      width: 32px;\n",
              "    }\n",
              "\n",
              "    .colab-df-convert:hover {\n",
              "      background-color: #E2EBFA;\n",
              "      box-shadow: 0px 1px 2px rgba(60, 64, 67, 0.3), 0px 1px 3px 1px rgba(60, 64, 67, 0.15);\n",
              "      fill: #174EA6;\n",
              "    }\n",
              "\n",
              "    [theme=dark] .colab-df-convert {\n",
              "      background-color: #3B4455;\n",
              "      fill: #D2E3FC;\n",
              "    }\n",
              "\n",
              "    [theme=dark] .colab-df-convert:hover {\n",
              "      background-color: #434B5C;\n",
              "      box-shadow: 0px 1px 3px 1px rgba(0, 0, 0, 0.15);\n",
              "      filter: drop-shadow(0px 1px 2px rgba(0, 0, 0, 0.3));\n",
              "      fill: #FFFFFF;\n",
              "    }\n",
              "  </style>\n",
              "\n",
              "      <script>\n",
              "        const buttonEl =\n",
              "          document.querySelector('#df-8873427b-1455-4460-baa4-44d2f25f756c button.colab-df-convert');\n",
              "        buttonEl.style.display =\n",
              "          google.colab.kernel.accessAllowed ? 'block' : 'none';\n",
              "\n",
              "        async function convertToInteractive(key) {\n",
              "          const element = document.querySelector('#df-8873427b-1455-4460-baa4-44d2f25f756c');\n",
              "          const dataTable =\n",
              "            await google.colab.kernel.invokeFunction('convertToInteractive',\n",
              "                                                     [key], {});\n",
              "          if (!dataTable) return;\n",
              "\n",
              "          const docLinkHtml = 'Like what you see? Visit the ' +\n",
              "            '<a target=\"_blank\" href=https://colab.research.google.com/notebooks/data_table.ipynb>data table notebook</a>'\n",
              "            + ' to learn more about interactive tables.';\n",
              "          element.innerHTML = '';\n",
              "          dataTable['output_type'] = 'display_data';\n",
              "          await google.colab.output.renderOutput(dataTable, element);\n",
              "          const docLink = document.createElement('div');\n",
              "          docLink.innerHTML = docLinkHtml;\n",
              "          element.appendChild(docLink);\n",
              "        }\n",
              "      </script>\n",
              "    </div>\n",
              "  </div>\n",
              "  "
            ],
            "text/plain": [
              "          date    open    high     low   close\n",
              "204   1/7/2011  $65.88  $65.88  $62.56  $62.92\n",
              "205  1/14/2011  $62.70  $63.86  $62.56  $63.13\n",
              "206  1/21/2011  $63.21  $63.92  $62.72  $62.77\n",
              "207  1/28/2011  $62.87  $63.31  $62.14  $62.21\n",
              "208   2/4/2011  $62.32  $63.48  $61.89  $62.56\n",
              "209  2/11/2011  $62.67  $64.75  $62.32  $63.57\n",
              "210  2/18/2011  $63.67  $64.72  $62.55  $64.55\n",
              "211  2/25/2011  $63.36  $64.40  $63.33  $64.31\n",
              "212   3/4/2011  $64.17  $65.87  $63.86  $65.21\n",
              "213  3/11/2011  $65.32  $65.84  $64.47  $64.81"
            ]
          },
          "metadata": {},
          "execution_count": 22
        }
      ]
    },
    {
      "cell_type": "code",
      "source": [
        "df_ko.dtypes"
      ],
      "metadata": {
        "colab": {
          "base_uri": "https://localhost:8080/"
        },
        "id": "NicZyj8yuWzW",
        "outputId": "a57ab0de-d9f5-4b99-893f-16c791782d88"
      },
      "execution_count": 23,
      "outputs": [
        {
          "output_type": "execute_result",
          "data": {
            "text/plain": [
              "date     object\n",
              "open     object\n",
              "high     object\n",
              "low      object\n",
              "close    object\n",
              "dtype: object"
            ]
          },
          "metadata": {},
          "execution_count": 23
        }
      ]
    },
    {
      "cell_type": "code",
      "source": [
        "for col in ['open', 'high', 'low', 'close']:\n",
        "  df_ko[col] = df_ko[col].apply(lambda value: float(value.split(sep='$')[-1]))"
      ],
      "metadata": {
        "id": "_TDufu4AufYF"
      },
      "execution_count": 24,
      "outputs": []
    },
    {
      "cell_type": "code",
      "source": [
        "df_ko.head(n=10)"
      ],
      "metadata": {
        "colab": {
          "base_uri": "https://localhost:8080/",
          "height": 363
        },
        "id": "98BCjZRju1He",
        "outputId": "793c8236-4a17-4e7f-ddca-678e0827af1b"
      },
      "execution_count": 27,
      "outputs": [
        {
          "output_type": "execute_result",
          "data": {
            "text/html": [
              "\n",
              "  <div id=\"df-9fa82a18-1917-4a23-a348-b4c0461790cd\">\n",
              "    <div class=\"colab-df-container\">\n",
              "      <div>\n",
              "<style scoped>\n",
              "    .dataframe tbody tr th:only-of-type {\n",
              "        vertical-align: middle;\n",
              "    }\n",
              "\n",
              "    .dataframe tbody tr th {\n",
              "        vertical-align: top;\n",
              "    }\n",
              "\n",
              "    .dataframe thead th {\n",
              "        text-align: right;\n",
              "    }\n",
              "</style>\n",
              "<table border=\"1\" class=\"dataframe\">\n",
              "  <thead>\n",
              "    <tr style=\"text-align: right;\">\n",
              "      <th></th>\n",
              "      <th>date</th>\n",
              "      <th>open</th>\n",
              "      <th>high</th>\n",
              "      <th>low</th>\n",
              "      <th>close</th>\n",
              "    </tr>\n",
              "  </thead>\n",
              "  <tbody>\n",
              "    <tr>\n",
              "      <th>204</th>\n",
              "      <td>1/7/2011</td>\n",
              "      <td>65.88</td>\n",
              "      <td>65.88</td>\n",
              "      <td>62.56</td>\n",
              "      <td>62.92</td>\n",
              "    </tr>\n",
              "    <tr>\n",
              "      <th>205</th>\n",
              "      <td>1/14/2011</td>\n",
              "      <td>62.70</td>\n",
              "      <td>63.86</td>\n",
              "      <td>62.56</td>\n",
              "      <td>63.13</td>\n",
              "    </tr>\n",
              "    <tr>\n",
              "      <th>206</th>\n",
              "      <td>1/21/2011</td>\n",
              "      <td>63.21</td>\n",
              "      <td>63.92</td>\n",
              "      <td>62.72</td>\n",
              "      <td>62.77</td>\n",
              "    </tr>\n",
              "    <tr>\n",
              "      <th>207</th>\n",
              "      <td>1/28/2011</td>\n",
              "      <td>62.87</td>\n",
              "      <td>63.31</td>\n",
              "      <td>62.14</td>\n",
              "      <td>62.21</td>\n",
              "    </tr>\n",
              "    <tr>\n",
              "      <th>208</th>\n",
              "      <td>2/4/2011</td>\n",
              "      <td>62.32</td>\n",
              "      <td>63.48</td>\n",
              "      <td>61.89</td>\n",
              "      <td>62.56</td>\n",
              "    </tr>\n",
              "    <tr>\n",
              "      <th>209</th>\n",
              "      <td>2/11/2011</td>\n",
              "      <td>62.67</td>\n",
              "      <td>64.75</td>\n",
              "      <td>62.32</td>\n",
              "      <td>63.57</td>\n",
              "    </tr>\n",
              "    <tr>\n",
              "      <th>210</th>\n",
              "      <td>2/18/2011</td>\n",
              "      <td>63.67</td>\n",
              "      <td>64.72</td>\n",
              "      <td>62.55</td>\n",
              "      <td>64.55</td>\n",
              "    </tr>\n",
              "    <tr>\n",
              "      <th>211</th>\n",
              "      <td>2/25/2011</td>\n",
              "      <td>63.36</td>\n",
              "      <td>64.40</td>\n",
              "      <td>63.33</td>\n",
              "      <td>64.31</td>\n",
              "    </tr>\n",
              "    <tr>\n",
              "      <th>212</th>\n",
              "      <td>3/4/2011</td>\n",
              "      <td>64.17</td>\n",
              "      <td>65.87</td>\n",
              "      <td>63.86</td>\n",
              "      <td>65.21</td>\n",
              "    </tr>\n",
              "    <tr>\n",
              "      <th>213</th>\n",
              "      <td>3/11/2011</td>\n",
              "      <td>65.32</td>\n",
              "      <td>65.84</td>\n",
              "      <td>64.47</td>\n",
              "      <td>64.81</td>\n",
              "    </tr>\n",
              "  </tbody>\n",
              "</table>\n",
              "</div>\n",
              "      <button class=\"colab-df-convert\" onclick=\"convertToInteractive('df-9fa82a18-1917-4a23-a348-b4c0461790cd')\"\n",
              "              title=\"Convert this dataframe to an interactive table.\"\n",
              "              style=\"display:none;\">\n",
              "        \n",
              "  <svg xmlns=\"http://www.w3.org/2000/svg\" height=\"24px\"viewBox=\"0 0 24 24\"\n",
              "       width=\"24px\">\n",
              "    <path d=\"M0 0h24v24H0V0z\" fill=\"none\"/>\n",
              "    <path d=\"M18.56 5.44l.94 2.06.94-2.06 2.06-.94-2.06-.94-.94-2.06-.94 2.06-2.06.94zm-11 1L8.5 8.5l.94-2.06 2.06-.94-2.06-.94L8.5 2.5l-.94 2.06-2.06.94zm10 10l.94 2.06.94-2.06 2.06-.94-2.06-.94-.94-2.06-.94 2.06-2.06.94z\"/><path d=\"M17.41 7.96l-1.37-1.37c-.4-.4-.92-.59-1.43-.59-.52 0-1.04.2-1.43.59L10.3 9.45l-7.72 7.72c-.78.78-.78 2.05 0 2.83L4 21.41c.39.39.9.59 1.41.59.51 0 1.02-.2 1.41-.59l7.78-7.78 2.81-2.81c.8-.78.8-2.07 0-2.86zM5.41 20L4 18.59l7.72-7.72 1.47 1.35L5.41 20z\"/>\n",
              "  </svg>\n",
              "      </button>\n",
              "      \n",
              "  <style>\n",
              "    .colab-df-container {\n",
              "      display:flex;\n",
              "      flex-wrap:wrap;\n",
              "      gap: 12px;\n",
              "    }\n",
              "\n",
              "    .colab-df-convert {\n",
              "      background-color: #E8F0FE;\n",
              "      border: none;\n",
              "      border-radius: 50%;\n",
              "      cursor: pointer;\n",
              "      display: none;\n",
              "      fill: #1967D2;\n",
              "      height: 32px;\n",
              "      padding: 0 0 0 0;\n",
              "      width: 32px;\n",
              "    }\n",
              "\n",
              "    .colab-df-convert:hover {\n",
              "      background-color: #E2EBFA;\n",
              "      box-shadow: 0px 1px 2px rgba(60, 64, 67, 0.3), 0px 1px 3px 1px rgba(60, 64, 67, 0.15);\n",
              "      fill: #174EA6;\n",
              "    }\n",
              "\n",
              "    [theme=dark] .colab-df-convert {\n",
              "      background-color: #3B4455;\n",
              "      fill: #D2E3FC;\n",
              "    }\n",
              "\n",
              "    [theme=dark] .colab-df-convert:hover {\n",
              "      background-color: #434B5C;\n",
              "      box-shadow: 0px 1px 3px 1px rgba(0, 0, 0, 0.15);\n",
              "      filter: drop-shadow(0px 1px 2px rgba(0, 0, 0, 0.3));\n",
              "      fill: #FFFFFF;\n",
              "    }\n",
              "  </style>\n",
              "\n",
              "      <script>\n",
              "        const buttonEl =\n",
              "          document.querySelector('#df-9fa82a18-1917-4a23-a348-b4c0461790cd button.colab-df-convert');\n",
              "        buttonEl.style.display =\n",
              "          google.colab.kernel.accessAllowed ? 'block' : 'none';\n",
              "\n",
              "        async function convertToInteractive(key) {\n",
              "          const element = document.querySelector('#df-9fa82a18-1917-4a23-a348-b4c0461790cd');\n",
              "          const dataTable =\n",
              "            await google.colab.kernel.invokeFunction('convertToInteractive',\n",
              "                                                     [key], {});\n",
              "          if (!dataTable) return;\n",
              "\n",
              "          const docLinkHtml = 'Like what you see? Visit the ' +\n",
              "            '<a target=\"_blank\" href=https://colab.research.google.com/notebooks/data_table.ipynb>data table notebook</a>'\n",
              "            + ' to learn more about interactive tables.';\n",
              "          element.innerHTML = '';\n",
              "          dataTable['output_type'] = 'display_data';\n",
              "          await google.colab.output.renderOutput(dataTable, element);\n",
              "          const docLink = document.createElement('div');\n",
              "          docLink.innerHTML = docLinkHtml;\n",
              "          element.appendChild(docLink);\n",
              "        }\n",
              "      </script>\n",
              "    </div>\n",
              "  </div>\n",
              "  "
            ],
            "text/plain": [
              "          date   open   high    low  close\n",
              "204   1/7/2011  65.88  65.88  62.56  62.92\n",
              "205  1/14/2011  62.70  63.86  62.56  63.13\n",
              "206  1/21/2011  63.21  63.92  62.72  62.77\n",
              "207  1/28/2011  62.87  63.31  62.14  62.21\n",
              "208   2/4/2011  62.32  63.48  61.89  62.56\n",
              "209  2/11/2011  62.67  64.75  62.32  63.57\n",
              "210  2/18/2011  63.67  64.72  62.55  64.55\n",
              "211  2/25/2011  63.36  64.40  63.33  64.31\n",
              "212   3/4/2011  64.17  65.87  63.86  65.21\n",
              "213  3/11/2011  65.32  65.84  64.47  64.81"
            ]
          },
          "metadata": {},
          "execution_count": 27
        }
      ]
    },
    {
      "cell_type": "code",
      "source": [
        "df_ko.dtypes"
      ],
      "metadata": {
        "colab": {
          "base_uri": "https://localhost:8080/"
        },
        "id": "QTUrPSBju36d",
        "outputId": "329025d8-b08f-404b-b9e6-764786886b4a"
      },
      "execution_count": 28,
      "outputs": [
        {
          "output_type": "execute_result",
          "data": {
            "text/plain": [
              "date      object\n",
              "open     float64\n",
              "high     float64\n",
              "low      float64\n",
              "close    float64\n",
              "dtype: object"
            ]
          },
          "metadata": {},
          "execution_count": 28
        }
      ]
    },
    {
      "cell_type": "markdown",
      "metadata": {
        "id": "AAyOBwWQkRJ-"
      },
      "source": [
        "---"
      ]
    },
    {
      "cell_type": "markdown",
      "metadata": {
        "id": "1YCQI-BskR5H"
      },
      "source": [
        "## 2\\. Seaborn"
      ]
    },
    {
      "cell_type": "markdown",
      "metadata": {
        "id": "VSgsKxY4kR5I"
      },
      "source": [
        "Para visualizar os dados, vamos utilizar o pacote `seaborn` na versão `0.11.1`. A documentação completa por ser encontrada neste [link](https://seaborn.pydata.org/)"
      ]
    },
    {
      "cell_type": "code",
      "metadata": {
        "id": "fYNfn2eDs1MN",
        "colab": {
          "base_uri": "https://localhost:8080/"
        },
        "outputId": "1559fb59-9aa3-4f8b-bbc1-13fbdd6e569b"
      },
      "source": [
        "!pip install seaborn==0.11.1"
      ],
      "execution_count": 29,
      "outputs": [
        {
          "output_type": "stream",
          "name": "stdout",
          "text": [
            "Collecting seaborn==0.11.1\n",
            "  Downloading seaborn-0.11.1-py3-none-any.whl (285 kB)\n",
            "\u001b[?25l\r\u001b[K     |█▏                              | 10 kB 26.1 MB/s eta 0:00:01\r\u001b[K     |██▎                             | 20 kB 32.1 MB/s eta 0:00:01\r\u001b[K     |███▌                            | 30 kB 14.2 MB/s eta 0:00:01\r\u001b[K     |████▋                           | 40 kB 11.1 MB/s eta 0:00:01\r\u001b[K     |█████▊                          | 51 kB 8.8 MB/s eta 0:00:01\r\u001b[K     |███████                         | 61 kB 9.1 MB/s eta 0:00:01\r\u001b[K     |████████                        | 71 kB 7.5 MB/s eta 0:00:01\r\u001b[K     |█████████▏                      | 81 kB 8.3 MB/s eta 0:00:01\r\u001b[K     |██████████▍                     | 92 kB 7.6 MB/s eta 0:00:01\r\u001b[K     |███████████▌                    | 102 kB 8.2 MB/s eta 0:00:01\r\u001b[K     |████████████▋                   | 112 kB 8.2 MB/s eta 0:00:01\r\u001b[K     |█████████████▉                  | 122 kB 8.2 MB/s eta 0:00:01\r\u001b[K     |███████████████                 | 133 kB 8.2 MB/s eta 0:00:01\r\u001b[K     |████████████████                | 143 kB 8.2 MB/s eta 0:00:01\r\u001b[K     |█████████████████▎              | 153 kB 8.2 MB/s eta 0:00:01\r\u001b[K     |██████████████████▍             | 163 kB 8.2 MB/s eta 0:00:01\r\u001b[K     |███████████████████▌            | 174 kB 8.2 MB/s eta 0:00:01\r\u001b[K     |████████████████████▊           | 184 kB 8.2 MB/s eta 0:00:01\r\u001b[K     |█████████████████████▉          | 194 kB 8.2 MB/s eta 0:00:01\r\u001b[K     |███████████████████████         | 204 kB 8.2 MB/s eta 0:00:01\r\u001b[K     |████████████████████████▏       | 215 kB 8.2 MB/s eta 0:00:01\r\u001b[K     |█████████████████████████▎      | 225 kB 8.2 MB/s eta 0:00:01\r\u001b[K     |██████████████████████████▍     | 235 kB 8.2 MB/s eta 0:00:01\r\u001b[K     |███████████████████████████▋    | 245 kB 8.2 MB/s eta 0:00:01\r\u001b[K     |████████████████████████████▊   | 256 kB 8.2 MB/s eta 0:00:01\r\u001b[K     |██████████████████████████████  | 266 kB 8.2 MB/s eta 0:00:01\r\u001b[K     |███████████████████████████████ | 276 kB 8.2 MB/s eta 0:00:01\r\u001b[K     |████████████████████████████████| 285 kB 8.2 MB/s \n",
            "\u001b[?25hRequirement already satisfied: numpy>=1.15 in /usr/local/lib/python3.7/dist-packages (from seaborn==0.11.1) (1.19.5)\n",
            "Requirement already satisfied: pandas>=0.23 in /usr/local/lib/python3.7/dist-packages (from seaborn==0.11.1) (1.1.5)\n",
            "Requirement already satisfied: matplotlib>=2.2 in /usr/local/lib/python3.7/dist-packages (from seaborn==0.11.1) (3.2.2)\n",
            "Requirement already satisfied: scipy>=1.0 in /usr/local/lib/python3.7/dist-packages (from seaborn==0.11.1) (1.4.1)\n",
            "Requirement already satisfied: kiwisolver>=1.0.1 in /usr/local/lib/python3.7/dist-packages (from matplotlib>=2.2->seaborn==0.11.1) (1.3.2)\n",
            "Requirement already satisfied: python-dateutil>=2.1 in /usr/local/lib/python3.7/dist-packages (from matplotlib>=2.2->seaborn==0.11.1) (2.8.2)\n",
            "Requirement already satisfied: cycler>=0.10 in /usr/local/lib/python3.7/dist-packages (from matplotlib>=2.2->seaborn==0.11.1) (0.11.0)\n",
            "Requirement already satisfied: pyparsing!=2.0.4,!=2.1.2,!=2.1.6,>=2.0.1 in /usr/local/lib/python3.7/dist-packages (from matplotlib>=2.2->seaborn==0.11.1) (3.0.6)\n",
            "Requirement already satisfied: pytz>=2017.2 in /usr/local/lib/python3.7/dist-packages (from pandas>=0.23->seaborn==0.11.1) (2018.9)\n",
            "Requirement already satisfied: six>=1.5 in /usr/local/lib/python3.7/dist-packages (from python-dateutil>=2.1->matplotlib>=2.2->seaborn==0.11.1) (1.15.0)\n",
            "Installing collected packages: seaborn\n",
            "  Attempting uninstall: seaborn\n",
            "    Found existing installation: seaborn 0.11.2\n",
            "    Uninstalling seaborn-0.11.2:\n",
            "      Successfully uninstalled seaborn-0.11.2\n",
            "Successfully installed seaborn-0.11.1\n"
          ]
        }
      ]
    },
    {
      "cell_type": "markdown",
      "metadata": {
        "id": "DtuGrHyQ0CJ-"
      },
      "source": [
        "Vamos importar o pacote com o apelido (alias) `sns`."
      ]
    },
    {
      "cell_type": "code",
      "metadata": {
        "id": "fAeWYQjis8E5"
      },
      "source": [
        "import seaborn as sns"
      ],
      "execution_count": 30,
      "outputs": []
    },
    {
      "cell_type": "markdown",
      "metadata": {
        "id": "TqYmOY1m0Eh3"
      },
      "source": [
        "Vamos visualizar o os valores de abertura das ações ao longo do tempo."
      ]
    },
    {
      "cell_type": "code",
      "metadata": {
        "id": "7-5D1wKcwAuO",
        "colab": {
          "base_uri": "https://localhost:8080/",
          "height": 321
        },
        "outputId": "f58220ba-0d90-4ecb-fab1-6e67b8b818af"
      },
      "source": [
        "plot = sns.lineplot(x=\"date\", y=\"open\", data=df_mcd)\n",
        "_ = plot.set_xticklabels(labels=df_mcd['date'], rotation=90)"
      ],
      "execution_count": 31,
      "outputs": [
        {
          "output_type": "display_data",
          "data": {
            "image/png": "[encoded data removed]",
            "text/plain": [
              "<Figure size 432x288 with 1 Axes>"
            ]
          },
          "metadata": {
            "needs_background": "light"
          }
        }
      ]
    },
    {
      "cell_type": "markdown",
      "metadata": {
        "id": "gh5Fz23t0MA-"
      },
      "source": [
        "Vamos também visualizar o os valores de fechamento das ações ao longo do tempo."
      ]
    },
    {
      "cell_type": "code",
      "metadata": {
        "id": "5QARzs47wP_O",
        "colab": {
          "base_uri": "https://localhost:8080/",
          "height": 321
        },
        "outputId": "7e85f6bb-09a9-4641-9fdc-8bde1d982c23"
      },
      "source": [
        "plot = sns.lineplot(x=\"date\", y=\"close\", data=df_mcd)\n",
        "_ = plot.set_xticklabels(labels=df_mcd['date'], rotation=90)"
      ],
      "execution_count": 32,
      "outputs": [
        {
          "output_type": "display_data",
          "data": {
            "image/png": "[encoded data removed]",
            "text/plain": [
              "<Figure size 432x288 with 1 Axes>"
            ]
          },
          "metadata": {
            "needs_background": "light"
          }
        }
      ]
    },
    {
      "cell_type": "markdown",
      "metadata": {
        "id": "08BOzhId0TfH"
      },
      "source": [
        "Para facilitar a comparação, vamo visualizar os quatro valores no mesmo gráfico."
      ]
    },
    {
      "cell_type": "code",
      "metadata": {
        "id": "boKoMZbXtAJV",
        "colab": {
          "base_uri": "https://localhost:8080/",
          "height": 321
        },
        "outputId": "fa13a149-31c8-4bc9-c812-4b001dd4b309"
      },
      "source": [
        "plot = sns.lineplot(x=\"date\", y=\"value\", hue='variable', data=pd.melt(df_mcd, ['date']))\n",
        "_ = plot.set_xticklabels(labels=df_mcd['date'], rotation=90)"
      ],
      "execution_count": 33,
      "outputs": [
        {
          "output_type": "display_data",
          "data": {
            "image/png": "[encoded data removed]",
            "text/plain": [
              "<Figure size 432x288 with 1 Axes>"
            ]
          },
          "metadata": {
            "needs_background": "light"
          }
        }
      ]
    },
    {
      "cell_type": "markdown",
      "metadata": {
        "id": "H6nM4hJQ1mnb"
      },
      "source": [
        "Para finalizar, vamos salvar o gráfico numa figura."
      ]
    },
    {
      "cell_type": "code",
      "metadata": {
        "id": "I7Wncbvd1lzE"
      },
      "source": [
        "plot.figure.savefig(\"./mcd.png\")"
      ],
      "execution_count": 34,
      "outputs": []
    },
    {
      "cell_type": "markdown",
      "metadata": {
        "id": "4mJNcUM7kR5J"
      },
      "source": [
        "**Agora é a sua vez,** faça o gráfico acima para a empresa Coca-Cola e salve a imagem com o nome `ko.png`."
      ]
    },
    {
      "cell_type": "code",
      "metadata": {
        "id": "0S_xMlt_zjwV"
      },
      "source": [
        "# visualização dos dados da Coca-Cola."
      ],
      "execution_count": null,
      "outputs": []
    },
    {
      "cell_type": "code",
      "source": [
        "plot = sns.lineplot(x=\"date\", y=\"value\", hue='variable', data=pd.melt(df_ko, ['date']))\n",
        "_ = plot.set_xticklabels(labels=df_ko['date'], rotation=90)"
      ],
      "metadata": {
        "colab": {
          "base_uri": "https://localhost:8080/",
          "height": 321
        },
        "id": "CVUdPlUP0qm-",
        "outputId": "cd9461f5-d7e7-479e-f0a0-8ace55a59605"
      },
      "execution_count": 39,
      "outputs": [
        {
          "output_type": "display_data",
          "data": {
            "image/png": "[encoded data removed]",
            "text/plain": [
              "<Figure size 432x288 with 1 Axes>"
            ]
          },
          "metadata": {
            "needs_background": "light"
          }
        }
      ]
    },
    {
      "cell_type": "code",
      "source": [
        "plot.figure.savefig(\"./ko.png\")"
      ],
      "metadata": {
        "id": "X_-4Wz2Y1Cd1"
      },
      "execution_count": 40,
      "outputs": []
    },
    {
      "cell_type": "markdown",
      "metadata": {
        "id": "fYM0WRi0zoQx"
      },
      "source": [
        "Analise as duas imagens e escreva pelo menos um *insight* que você consegue extrair dos dados. Fique a vontade para escrever quantos *insights* você quiser."
      ]
    },
    {
      "cell_type": "markdown",
      "metadata": {
        "id": "xGcI2Yl-0xBY"
      },
      "source": [
        "**Insight #1**: ..."
      ]
    },
    {
      "cell_type": "markdown",
      "source": [
        "a variável open estava em alta no começo de 2011 com valor 66, houve uma queda a partir do dia 14 esteve em baixa durante janeiro, até que a partir de feveiro começou a subir teve uma instabilidade indo para o início de abril que ocorreu uma crescente no valor alguns dias depois e se manteve entre os valores 66,5 e 67,5 até maio quando houve um declinio mais controlado em junho e fechou no valor de 66 bem parecido com o início do ano. "
      ],
      "metadata": {
        "id": "5uclcNWh30nn"
      }
    },
    {
      "cell_type": "markdown",
      "source": [
        "a variável high assim como a open estava em alta no começo de 2011 ambas com valor 66, houve uma queda menor que a open que caiu para 62,5 já a high ficou entre 64 e 63,5 queda que durou até o início de fevereiro, que ocorreu um crescimento que foi acontecendo até junho bem maior que todas as outras variáveis seu período de alta do mês 4 ao 6 houve algumas instabilidades e fechou no 66,5 "
      ],
      "metadata": {
        "id": "E8BrV-UDIH2p"
      }
    },
    {
      "cell_type": "markdown",
      "source": [
        "a variável low iniciou em baixa no valor de aproximadamente 62,5 e teve uma queda muito brusca durante o mês de março que chegou quase ao valor mínimo de 61 precedeu uma alta até maio que ocorreu outra queda brusca até fechar por volta do 64,5"
      ],
      "metadata": {
        "id": "ztVfOEN6KgJK"
      }
    },
    {
      "cell_type": "markdown",
      "source": [
        "a variável close iniciou em baixa mas ainda sim teve um desempenho melhor que as variáveis low e open, sua alta por volta de março até maio quase ultrapassou o valor 68 logo em seguida ocorreu uma queda que fez com que ficasse abaixo da open e fechasse no 65 bem maior que no começo do ano que estava no 62,5 "
      ],
      "metadata": {
        "id": "qmPJh4u8Li0F"
      }
    },
    {
      "cell_type": "markdown",
      "metadata": {
        "id": "8Ubx9z_NkR5K"
      },
      "source": [
        "---"
      ]
    }
  ]
}