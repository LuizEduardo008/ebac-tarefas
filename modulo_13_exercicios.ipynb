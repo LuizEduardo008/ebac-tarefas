{
  "nbformat": 4,
  "nbformat_minor": 0,
  "metadata": {
    "colab": {
      "name": "modulo_13_exercicios_(1) (1).ipynb",
      "provenance": [],
      "collapsed_sections": []
    },
    "kernelspec": {
      "name": "python3",
      "display_name": "Python 3"
    }
  },
  "cells": [
    {
      "cell_type": "markdown",
      "metadata": {
        "id": "KJqp9AANOCtf"
      },
      "source": [
        "<img src=\"https://raw.githubusercontent.com/andre-marcos-perez/ebac-course-utils/main/media/logo/newebac_logo_black_half.png\" alt=\"ebac-logo\">\n",
        "\n",
        "---\n",
        "\n",
        "# **Módulo** | Análise de Dados: Data Wrangling II\n",
        "Caderno de **Exercícios**<br> \n",
        "Professor [André Perez](https://www.linkedin.com/in/andremarcosperez/)\n",
        "\n",
        "---"
      ]
    },
    {
      "cell_type": "markdown",
      "metadata": {
        "id": "d9jDtUbDOE1-"
      },
      "source": [
        "# **Tópicos**\n",
        "\n",
        "<ol type=\"1\">\n",
        "  <li>Agregação e Ordenação;</li>\n",
        "  <li>Combinação;</li>\n",
        "  <li>Técnicas Avançadas.</li>\n",
        "</ol>"
      ]
    },
    {
      "cell_type": "markdown",
      "metadata": {
        "id": "SmoHgt-lwkpD"
      },
      "source": [
        "---"
      ]
    },
    {
      "cell_type": "markdown",
      "metadata": {
        "id": "GABI6OW8OfQ2"
      },
      "source": [
        "# **Exercícios**"
      ]
    },
    {
      "cell_type": "markdown",
      "metadata": {
        "id": "45DbYPgFhuR7"
      },
      "source": [
        "Neste exercícios, vamos trabalhar com dados geográficos, demográficos e econômicos do Brasil. Vamos manipular e combinar dados de duas frentes distintas para poder responder perguntas de negócios."
      ]
    },
    {
      "cell_type": "markdown",
      "metadata": {
        "id": "GWgNoJN8DHyY"
      },
      "source": [
        "## 1\\. Data Wrangling"
      ]
    },
    {
      "cell_type": "markdown",
      "metadata": {
        "id": "E30KnCdKRdYl"
      },
      "source": [
        "### **1.1. Estados** "
      ]
    },
    {
      "cell_type": "markdown",
      "metadata": {
        "id": "w2q1apyNYHbu"
      },
      "source": [
        "O arquivo `estados-bruto.xml` contém informações sobre estados (nome, sigla e região). **Carregue-o na máquina virtual do Google Colab**. Um arquivo do tipo XML é similar a um arquivo do tipo HTML, exemplo do estado do Acre:"
      ]
    },
    {
      "cell_type": "markdown",
      "metadata": {
        "id": "GzjE2aEyYW5A"
      },
      "source": [
        "```xml\n",
        "<ESTADO>\n",
        "  <ID>1</ID>\n",
        "  <NOME>ACRE</NOME>\n",
        "  <IDCAPITAL>16</IDCAPITAL>\n",
        "  <SIGLA>AC</SIGLA>\n",
        "  <REGIAO>NORTE</REGIAO>\n",
        "</ESTADO>\n",
        "```"
      ]
    },
    {
      "cell_type": "markdown",
      "metadata": {
        "id": "7Mtk7Dd9UHqg"
      },
      "source": [
        "Utilize o pacote Python `beautifulsoup4` para extrair os dados do arquivo `estados-bruto.xml` providenciado. Salve os dados extraidos no arquivo `estados-limpo.csv` separado por `;`. Exemplo das três primeiras linhas mais o cabeçalho:\n",
        "\n",
        "```\n",
        "estado;sigla;regiao\n",
        "ACRE;AC;NORTE\n",
        "ALAGOAS;AL;NORDESTE\n",
        "AMAPA;AP;NORTE\n",
        "```\n",
        "\n",
        "**Dica**: Utilize o parser de xml chamado `lxml` do `beautifulsoup4`."
      ]
    },
    {
      "cell_type": "code",
      "source": [
        "pip install lxml"
      ],
      "metadata": {
        "colab": {
          "base_uri": "https://localhost:8080/"
        },
        "id": "GHLcBM4PwWQ0",
        "outputId": "b839c1b5-3191-4598-a222-c0e3617d3824"
      },
      "execution_count": 1,
      "outputs": [
        {
          "output_type": "stream",
          "name": "stdout",
          "text": [
            "Looking in indexes: https://pypi.org/simple, https://us-python.pkg.dev/colab-wheels/public/simple/\n",
            "Requirement already satisfied: lxml in /usr/local/lib/python3.7/dist-packages (4.2.6)\n"
          ]
        }
      ]
    },
    {
      "cell_type": "code",
      "metadata": {
        "id": "kz0ZyYI0Sg6P",
        "colab": {
          "base_uri": "https://localhost:8080/"
        },
        "outputId": "7d6b46f6-7e8d-4404-8f0d-505c2515916a"
      },
      "source": [
        "# ler o arquivo estados-bruto.xml, utilize o xml parser chamado lxml\n",
        "\n",
        "!pip install bs4\n",
        "from bs4 import BeautifulSoup\n",
        "\n",
        "NOME_ARQUIVO_FONTE = 'estados-bruto.xml'\n",
        "\n",
        "fonte = BeautifulSoup(open(NOME_ARQUIVO_FONTE, mode='r'), 'lxml')"
      ],
      "execution_count": 2,
      "outputs": [
        {
          "output_type": "stream",
          "name": "stdout",
          "text": [
            "Looking in indexes: https://pypi.org/simple, https://us-python.pkg.dev/colab-wheels/public/simple/\n",
            "Requirement already satisfied: bs4 in /usr/local/lib/python3.7/dist-packages (0.0.1)\n",
            "Requirement already satisfied: beautifulsoup4 in /usr/local/lib/python3.7/dist-packages (from bs4) (4.6.3)\n"
          ]
        }
      ]
    },
    {
      "cell_type": "code",
      "metadata": {
        "id": "rB0u2NjEXhDo",
        "colab": {
          "base_uri": "https://localhost:8080/"
        },
        "outputId": "4da7b94d-983c-42a4-a7fb-9ff559ea80a6"
      },
      "source": [
        "# visualize os resultados\n",
        "fonte"
      ],
      "execution_count": 3,
      "outputs": [
        {
          "output_type": "execute_result",
          "data": {
            "text/plain": [
              "<?xml version=\"1.0\" encoding=\"utf-8\" ?><html><body><estados>\n",
              "<estado>\n",
              "<id>1</id>\n",
              "<nome>ACRE</nome>\n",
              "<idcapital>16</idcapital>\n",
              "<sigla>AC</sigla>\n",
              "<regiao>NORTE</regiao>\n",
              "</estado>\n",
              "<estado>\n",
              "<id>2</id>\n",
              "<nome>ALAGOAS</nome>\n",
              "<idcapital>68</idcapital>\n",
              "<sigla>AL</sigla>\n",
              "<regiao>NORDESTE</regiao>\n",
              "</estado>\n",
              "<estado>\n",
              "<id>3</id>\n",
              "<nome>AMAPA</nome>\n",
              "<idcapital>131</idcapital>\n",
              "<sigla>AP</sigla>\n",
              "<regiao>NORTE</regiao>\n",
              "</estado>\n",
              "<estado>\n",
              "<id>4</id>\n",
              "<nome>AMAZONAS</nome>\n",
              "<idcapital>178</idcapital>\n",
              "<sigla>AM</sigla>\n",
              "<regiao>NORTE</regiao>\n",
              "</estado>\n",
              "<estado>\n",
              "<id>5</id>\n",
              "<nome>BAHIA</nome>\n",
              "<idcapital>536</idcapital>\n",
              "<sigla>BA</sigla>\n",
              "<regiao>NORDESTE</regiao>\n",
              "</estado>\n",
              "<estado>\n",
              "<id>6</id>\n",
              "<nome>CEARA</nome>\n",
              "<idcapital>676</idcapital>\n",
              "<sigla>CE</sigla>\n",
              "<regiao>NORDESTE</regiao>\n",
              "</estado>\n",
              "<estado>\n",
              "<id>7</id>\n",
              "<nome>DISTRITO FEDERAL</nome>\n",
              "<idcapital>916</idcapital>\n",
              "<sigla>DF</sigla>\n",
              "<regiao>CENTRO-OESTE</regiao>\n",
              "</estado>\n",
              "<estado>\n",
              "<id>8</id>\n",
              "<nome>ESPIRITO SANTO</nome>\n",
              "<idcapital>879</idcapital>\n",
              "<sigla>ES</sigla>\n",
              "<regiao>SUDESTE</regiao>\n",
              "</estado>\n",
              "<estado>\n",
              "<id>9</id>\n",
              "<nome>GOIAS</nome>\n",
              "<idcapital>973</idcapital>\n",
              "<sigla>GO</sigla>\n",
              "<regiao>CENTRO-OESTE</regiao>\n",
              "</estado>\n",
              "<estado>\n",
              "<id>10</id>\n",
              "<nome>MARANHAO</nome>\n",
              "<idcapital>1309</idcapital>\n",
              "<sigla>MA</sigla>\n",
              "<regiao>NORDESTE</regiao>\n",
              "</estado>\n",
              "<estado>\n",
              "<id>11</id>\n",
              "<nome>MATO GROSSO</nome>\n",
              "<idcapital>1374</idcapital>\n",
              "<sigla>MT</sigla>\n",
              "<regiao>CENTRO-OESTE</regiao>\n",
              "</estado>\n",
              "<estado>\n",
              "<id>12</id>\n",
              "<nome>MATO GROSSO DO SUL</nome>\n",
              "<idcapital>1485</idcapital>\n",
              "<sigla>MS</sigla>\n",
              "<regiao>CENTRO-OESTE</regiao>\n",
              "</estado>\n",
              "<estado>\n",
              "<id>13</id>\n",
              "<nome>PARA</nome>\n",
              "<idcapital>1561</idcapital>\n",
              "<sigla>PA</sigla>\n",
              "<regiao>NORTE</regiao>\n",
              "</estado>\n",
              "<estado>\n",
              "<id>14</id>\n",
              "<nome>PARAIBA</nome>\n",
              "<idcapital>1779</idcapital>\n",
              "<sigla>PB</sigla>\n",
              "<regiao>NORDESTE</regiao>\n",
              "</estado>\n",
              "<estado>\n",
              "<id>15</id>\n",
              "<nome>PARANA</nome>\n",
              "<idcapital>2002</idcapital>\n",
              "<sigla>PR</sigla>\n",
              "<regiao>SUL</regiao>\n",
              "</estado>\n",
              "<estado>\n",
              "<id>16</id>\n",
              "<nome>PERNAMBUCO</nome>\n",
              "<idcapital>2439</idcapital>\n",
              "<sigla>PE</sigla>\n",
              "<regiao>NORDESTE</regiao>\n",
              "</estado>\n",
              "<estado>\n",
              "<id>17</id>\n",
              "<nome>PIAUI</nome>\n",
              "<idcapital>2704</idcapital>\n",
              "<sigla>PI</sigla>\n",
              "<regiao>NORDESTE</regiao>\n",
              "</estado>\n",
              "<estado>\n",
              "<id>18</id>\n",
              "<nome>RIO DE JANEIRO</nome>\n",
              "<idcapital>2779</idcapital>\n",
              "<sigla>RJ</sigla>\n",
              "<regiao>SUDESTE</regiao>\n",
              "</estado>\n",
              "<estado>\n",
              "<id>19</id>\n",
              "<nome>RIO GRANDE DO NORTE</nome>\n",
              "<idcapital>2890</idcapital>\n",
              "<sigla>RN</sigla>\n",
              "<regiao>NORDESTE</regiao>\n",
              "</estado>\n",
              "<estado>\n",
              "<id>20</id>\n",
              "<nome>RIO GRANDE DO SUL</nome>\n",
              "<idcapital>3273</idcapital>\n",
              "<sigla>RS</sigla>\n",
              "<regiao>SUL</regiao>\n",
              "</estado>\n",
              "<estado>\n",
              "<id>21</id>\n",
              "<nome>RONDONIA</nome>\n",
              "<idcapital>3473</idcapital>\n",
              "<sigla>RO</sigla>\n",
              "<regiao>NORTE</regiao>\n",
              "</estado>\n",
              "<estado>\n",
              "<id>22</id>\n",
              "<nome>RORAIMA</nome>\n",
              "<idcapital>3491</idcapital>\n",
              "<sigla>RR</sigla>\n",
              "<regiao>NORTE</regiao>\n",
              "</estado>\n",
              "<estado>\n",
              "<id>23</id>\n",
              "<nome>SANTA CATARINA</nome>\n",
              "<idcapital>3591</idcapital>\n",
              "<sigla>SC</sigla>\n",
              "<regiao>SUL</regiao>\n",
              "</estado>\n",
              "<estado>\n",
              "<id>24</id>\n",
              "<nome>SAO PAULO</nome>\n",
              "<idcapital>4361</idcapital>\n",
              "<sigla>SP</sigla>\n",
              "<regiao>SUDESTE</regiao>\n",
              "</estado>\n",
              "<estado>\n",
              "<id>25</id>\n",
              "<nome>SERGIPE</nome>\n",
              "<idcapital>4444</idcapital>\n",
              "<sigla>SE</sigla>\n",
              "<regiao>NORDESTE</regiao>\n",
              "</estado>\n",
              "<estado>\n",
              "<id>26</id>\n",
              "<nome>TOCANTINS</nome>\n",
              "<idcapital>4606</idcapital>\n",
              "<sigla>TO</sigla>\n",
              "<regiao>NORTE</regiao>\n",
              "</estado>\n",
              "<estado>\n",
              "<id>27</id>\n",
              "<nome>MINAS GERAIS</nome>\n",
              "<idcapital>4790</idcapital>\n",
              "<sigla>MG</sigla>\n",
              "<regiao>SUDESTE</regiao>\n",
              "</estado>\n",
              "</estados>\n",
              "</body></html>"
            ]
          },
          "metadata": {},
          "execution_count": 3
        }
      ]
    },
    {
      "cell_type": "code",
      "metadata": {
        "id": "6mos3LTVXrzV"
      },
      "source": [
        "# manipule os dados\n",
        "estados_bruto = fonte.find_all('estado')\n",
        "\n",
        "estados_limpo = [['estado', 'sigla', 'região']]\n",
        "\n",
        "# continue o codigo aqui\n",
        "for estado in estados_bruto:\n",
        "    idid = estado.find('id').text\n",
        "    nome = estado.find('nome').text\n",
        "    idcapital = estado.find('idcapital').text\n",
        "    sigla = estado.find('sigla').text\n",
        "    regiao = estado.find('regiao').text\n",
        "\n",
        "    estados_limpo.append([nome,sigla,regiao])"
      ],
      "execution_count": 4,
      "outputs": []
    },
    {
      "cell_type": "code",
      "metadata": {
        "id": "9yCma_LASxFg",
        "colab": {
          "base_uri": "https://localhost:8080/"
        },
        "outputId": "63d65b35-a75b-42ec-dd4a-76a7ddaf9414"
      },
      "source": [
        "# escrever o conteudo extraido no arquivo estados-limpo.csv separados por ;\n",
        "NOME_ARQUIVO_DESTINO = 'estados-limpo.csv'\n",
        "\n",
        "# continue o codigo aqui\n",
        "import csv\n",
        "\n",
        "with open(NOME_ARQUIVO_DESTINO, mode='w', encoding='utf8') as arquivo:\n",
        "    escritor_csv = csv.writer(arquivo, delimiter=';')\n",
        "    escritor_csv.writerows(estados_limpo)\n",
        "\n",
        "with open('estados-limpo.csv', mode='r', encoding='utf8') as arquivo:\n",
        "    texto = arquivo.read()\n",
        "\n",
        "print(texto)"
      ],
      "execution_count": 6,
      "outputs": [
        {
          "output_type": "stream",
          "name": "stdout",
          "text": [
            "estado;sigla;região\n",
            "ACRE;AC;NORTE\n",
            "ALAGOAS;AL;NORDESTE\n",
            "AMAPA;AP;NORTE\n",
            "AMAZONAS;AM;NORTE\n",
            "BAHIA;BA;NORDESTE\n",
            "CEARA;CE;NORDESTE\n",
            "DISTRITO FEDERAL;DF;CENTRO-OESTE\n",
            "ESPIRITO SANTO;ES;SUDESTE\n",
            "GOIAS;GO;CENTRO-OESTE\n",
            "MARANHAO;MA;NORDESTE\n",
            "MATO GROSSO;MT;CENTRO-OESTE\n",
            "MATO GROSSO DO SUL;MS;CENTRO-OESTE\n",
            "PARA;PA;NORTE\n",
            "PARAIBA;PB;NORDESTE\n",
            "PARANA;PR;SUL\n",
            "PERNAMBUCO;PE;NORDESTE\n",
            "PIAUI;PI;NORDESTE\n",
            "RIO DE JANEIRO;RJ;SUDESTE\n",
            "RIO GRANDE DO NORTE;RN;NORDESTE\n",
            "RIO GRANDE DO SUL;RS;SUL\n",
            "RONDONIA;RO;NORTE\n",
            "RORAIMA;RR;NORTE\n",
            "SANTA CATARINA;SC;SUL\n",
            "SAO PAULO;SP;SUDESTE\n",
            "SERGIPE;SE;NORDESTE\n",
            "TOCANTINS;TO;NORTE\n",
            "MINAS GERAIS;MG;SUDESTE\n",
            "\n"
          ]
        }
      ]
    },
    {
      "cell_type": "markdown",
      "metadata": {
        "id": "Fq0xqYYSYq92"
      },
      "source": [
        "### **1.2. Cidades** "
      ]
    },
    {
      "cell_type": "markdown",
      "metadata": {
        "id": "eWRbjhOQYq93"
      },
      "source": [
        "O arquivo `cidades-bruto.csv` contém informações demográficas e socioeconomicas das cidades do Brasil. **Carregue-o na máquina virtual do Google Colab**. Utilize o pacote Python `pandas` para extrair os dados do arquivo `cidades-bruto.xml` providenciado. Seguindo as seguintes especificações:"
      ]
    },
    {
      "cell_type": "markdown",
      "metadata": {
        "id": "76zW8sMsbhEu"
      },
      "source": [
        "1. Apenas dados do censo de 2010;\n",
        "1. Apenas as colunas UF, Nome, PIB, Pop_est_2009 e PIB_percapita."
      ]
    },
    {
      "cell_type": "markdown",
      "metadata": {
        "id": "auiIxlw-blp8"
      },
      "source": [
        "Salve os dados extraidos no arquivo `cidades-limpo.csv` separado por `;`. Exemplo das três primeiras linhas mais o cabeçalho:\n",
        "\n",
        "```\n",
        "estado;cidade;populacao;pib;pib_percapita\n",
        "BAHIA;TREMEDAL;18433;57883.9921875;3140.23999023\n",
        "RIO GRANDE DO SUL;TURUÇU;4000;45723875;11430.96972656\n",
        "ESPIRITO SANTO;VITÓRIA;320156;19782628;61790.58984375\n",
        "```"
      ]
    },
    {
      "cell_type": "code",
      "metadata": {
        "id": "nBmWOkvzYq94",
        "colab": {
          "base_uri": "https://localhost:8080/"
        },
        "outputId": "c37bf1fe-83f7-4357-e0fa-05e0b633fb5f"
      },
      "source": [
        "# ler o arquivo cidades-bruto.csv\n",
        "import pandas as pd\n",
        "\n",
        "NOME_ARQUIVO_FONTE = 'cidades-bruto.csv'\n",
        "\n",
        "fonte = pd.read_csv(NOME_ARQUIVO_FONTE) # continue o codigo aqui\n",
        "print(fonte)"
      ],
      "execution_count": 7,
      "outputs": [
        {
          "output_type": "stream",
          "name": "stdout",
          "text": [
            "                                                  FID   gid  \\\n",
            "0     vw_pib_percapita.fid-4514e25a_17aaa325034_-258f   215   \n",
            "1     vw_pib_percapita.fid-4514e25a_17aaa325034_-258e   306   \n",
            "2     vw_pib_percapita.fid-4514e25a_17aaa325034_-258d   900   \n",
            "3     vw_pib_percapita.fid-4514e25a_17aaa325034_-258c  3613   \n",
            "4     vw_pib_percapita.fid-4514e25a_17aaa325034_-258b  1028   \n",
            "...                                               ...   ...   \n",
            "5561   vw_pib_percapita.fid-4514e25a_17aaa325034_-eba  5254   \n",
            "5562   vw_pib_percapita.fid-4514e25a_17aaa325034_-eb9  2749   \n",
            "5563   vw_pib_percapita.fid-4514e25a_17aaa325034_-eb8  3779   \n",
            "5564   vw_pib_percapita.fid-4514e25a_17aaa325034_-eb7   617   \n",
            "5565   vw_pib_percapita.fid-4514e25a_17aaa325034_-eb6   672   \n",
            "\n",
            "                     UF              nome   Censo           PIB  Pop_est_2009  \\\n",
            "0                 BAHIA          Tremedal  2010.0  5.788399e+04         18433   \n",
            "1     RIO GRANDE DO SUL            Turuçu  2010.0  4.572388e+04          4000   \n",
            "2        ESPIRITO SANTO           Vitória  2010.0  1.978263e+07        320156   \n",
            "3          MINAS GERAIS         Jacutinga  2010.0  2.478160e+05         21424   \n",
            "4                 PIAUÍ           Nazária  2010.0  2.095138e+04          7895   \n",
            "...                 ...               ...     ...           ...           ...   \n",
            "5561     SANTA CATARINA         Campo Erê  2010.0  1.876289e+05          9737   \n",
            "5562             PARANÁ          Planalto  2010.0  1.385535e+05         13983   \n",
            "5563          SÃO PAULO        Guararapes  2010.0  5.320191e+05         29639   \n",
            "5564  RIO GRANDE DO SUL  Barra do Guarita  2010.0  2.198064e+04          3067   \n",
            "5565  RIO GRANDE DO SUL        Machadinho  2010.0  5.715017e+04          5623   \n",
            "\n",
            "      PIB_percapita                         Descrição               legenda  \\\n",
            "0       3140.239990  Produto Interno Bruto per capita             - 9639.65   \n",
            "1      11430.969727  Produto Interno Bruto per capita    9639.65 - 22144.80   \n",
            "2      61790.589844  Produto Interno Bruto per capita  52702.10 - 133669.00   \n",
            "3      11567.209961  Produto Interno Bruto per capita    9639.65 - 22144.80   \n",
            "4       2653.750000  Produto Interno Bruto per capita             - 9639.65   \n",
            "...             ...                               ...                   ...   \n",
            "5561   19269.679688  Produto Interno Bruto per capita    9639.65 - 22144.80   \n",
            "5562    9908.709961  Produto Interno Bruto per capita    9639.65 - 22144.80   \n",
            "5563   17949.970703  Produto Interno Bruto per capita    9639.65 - 22144.80   \n",
            "5564    7166.819824  Produto Interno Bruto per capita             - 9639.65   \n",
            "5565   10163.639648  Produto Interno Bruto per capita    9639.65 - 22144.80   \n",
            "\n",
            "      classe                                               geom  \n",
            "0          1  MULTIPOLYGON (((-41.458803305191566 -14.781415...  \n",
            "1          2  MULTIPOLYGON (((-52.035349932081274 -31.567509...  \n",
            "2          4  MULTIPOLYGON (((-40.3292566978242 -20.23997417...  \n",
            "3          2  MULTIPOLYGON (((-46.50528160015326 -22.3400120...  \n",
            "4          1  POLYGON ((-42.826685407155495 -5.3480291684437...  \n",
            "...      ...                                                ...  \n",
            "5561       2  MULTIPOLYGON (((-53.024131281087385 -26.361357...  \n",
            "5562       2  MULTIPOLYGON (((-53.61882711231503 -25.6460599...  \n",
            "5563       2  MULTIPOLYGON (((-50.70271677275949 -21.0257124...  \n",
            "5564       1  MULTIPOLYGON (((-53.778785810369236 -27.152703...  \n",
            "5565       2  MULTIPOLYGON (((-51.63183373195086 -27.4885374...  \n",
            "\n",
            "[5566 rows x 12 columns]\n"
          ]
        }
      ]
    },
    {
      "cell_type": "code",
      "metadata": {
        "id": "2NKpI4h9Yq95"
      },
      "source": [
        "# visualize os resultados\n",
        "censo_2010 = fonte[lambda censo: fonte['Censo'] == 2010]\n",
        "dados_df = censo_2010[['UF', \"nome\", 'Pop_est_2009', 'PIB', 'PIB_percapita']]"
      ],
      "execution_count": 8,
      "outputs": []
    },
    {
      "cell_type": "code",
      "source": [
        "dados_df"
      ],
      "metadata": {
        "colab": {
          "base_uri": "https://localhost:8080/",
          "height": 424
        },
        "id": "Z-bUDiELXwWC",
        "outputId": "60118f3c-a3d7-4549-c8ac-b58999246ff5"
      },
      "execution_count": 9,
      "outputs": [
        {
          "output_type": "execute_result",
          "data": {
            "text/plain": [
              "                     UF              nome  Pop_est_2009           PIB  \\\n",
              "0                 BAHIA          Tremedal         18433  5.788399e+04   \n",
              "1     RIO GRANDE DO SUL            Turuçu          4000  4.572388e+04   \n",
              "2        ESPIRITO SANTO           Vitória        320156  1.978263e+07   \n",
              "3          MINAS GERAIS         Jacutinga         21424  2.478160e+05   \n",
              "4                 PIAUÍ           Nazária          7895  2.095138e+04   \n",
              "...                 ...               ...           ...           ...   \n",
              "5561     SANTA CATARINA         Campo Erê          9737  1.876289e+05   \n",
              "5562             PARANÁ          Planalto         13983  1.385535e+05   \n",
              "5563          SÃO PAULO        Guararapes         29639  5.320191e+05   \n",
              "5564  RIO GRANDE DO SUL  Barra do Guarita          3067  2.198064e+04   \n",
              "5565  RIO GRANDE DO SUL        Machadinho          5623  5.715017e+04   \n",
              "\n",
              "      PIB_percapita  \n",
              "0       3140.239990  \n",
              "1      11430.969727  \n",
              "2      61790.589844  \n",
              "3      11567.209961  \n",
              "4       2653.750000  \n",
              "...             ...  \n",
              "5561   19269.679688  \n",
              "5562    9908.709961  \n",
              "5563   17949.970703  \n",
              "5564    7166.819824  \n",
              "5565   10163.639648  \n",
              "\n",
              "[5555 rows x 5 columns]"
            ],
            "text/html": [
              "\n",
              "  <div id=\"df-fc0a5f4b-4668-4df6-bc49-b9cf5d32301c\">\n",
              "    <div class=\"colab-df-container\">\n",
              "      <div>\n",
              "<style scoped>\n",
              "    .dataframe tbody tr th:only-of-type {\n",
              "        vertical-align: middle;\n",
              "    }\n",
              "\n",
              "    .dataframe tbody tr th {\n",
              "        vertical-align: top;\n",
              "    }\n",
              "\n",
              "    .dataframe thead th {\n",
              "        text-align: right;\n",
              "    }\n",
              "</style>\n",
              "<table border=\"1\" class=\"dataframe\">\n",
              "  <thead>\n",
              "    <tr style=\"text-align: right;\">\n",
              "      <th></th>\n",
              "      <th>UF</th>\n",
              "      <th>nome</th>\n",
              "      <th>Pop_est_2009</th>\n",
              "      <th>PIB</th>\n",
              "      <th>PIB_percapita</th>\n",
              "    </tr>\n",
              "  </thead>\n",
              "  <tbody>\n",
              "    <tr>\n",
              "      <th>0</th>\n",
              "      <td>BAHIA</td>\n",
              "      <td>Tremedal</td>\n",
              "      <td>18433</td>\n",
              "      <td>5.788399e+04</td>\n",
              "      <td>3140.239990</td>\n",
              "    </tr>\n",
              "    <tr>\n",
              "      <th>1</th>\n",
              "      <td>RIO GRANDE DO SUL</td>\n",
              "      <td>Turuçu</td>\n",
              "      <td>4000</td>\n",
              "      <td>4.572388e+04</td>\n",
              "      <td>11430.969727</td>\n",
              "    </tr>\n",
              "    <tr>\n",
              "      <th>2</th>\n",
              "      <td>ESPIRITO SANTO</td>\n",
              "      <td>Vitória</td>\n",
              "      <td>320156</td>\n",
              "      <td>1.978263e+07</td>\n",
              "      <td>61790.589844</td>\n",
              "    </tr>\n",
              "    <tr>\n",
              "      <th>3</th>\n",
              "      <td>MINAS GERAIS</td>\n",
              "      <td>Jacutinga</td>\n",
              "      <td>21424</td>\n",
              "      <td>2.478160e+05</td>\n",
              "      <td>11567.209961</td>\n",
              "    </tr>\n",
              "    <tr>\n",
              "      <th>4</th>\n",
              "      <td>PIAUÍ</td>\n",
              "      <td>Nazária</td>\n",
              "      <td>7895</td>\n",
              "      <td>2.095138e+04</td>\n",
              "      <td>2653.750000</td>\n",
              "    </tr>\n",
              "    <tr>\n",
              "      <th>...</th>\n",
              "      <td>...</td>\n",
              "      <td>...</td>\n",
              "      <td>...</td>\n",
              "      <td>...</td>\n",
              "      <td>...</td>\n",
              "    </tr>\n",
              "    <tr>\n",
              "      <th>5561</th>\n",
              "      <td>SANTA CATARINA</td>\n",
              "      <td>Campo Erê</td>\n",
              "      <td>9737</td>\n",
              "      <td>1.876289e+05</td>\n",
              "      <td>19269.679688</td>\n",
              "    </tr>\n",
              "    <tr>\n",
              "      <th>5562</th>\n",
              "      <td>PARANÁ</td>\n",
              "      <td>Planalto</td>\n",
              "      <td>13983</td>\n",
              "      <td>1.385535e+05</td>\n",
              "      <td>9908.709961</td>\n",
              "    </tr>\n",
              "    <tr>\n",
              "      <th>5563</th>\n",
              "      <td>SÃO PAULO</td>\n",
              "      <td>Guararapes</td>\n",
              "      <td>29639</td>\n",
              "      <td>5.320191e+05</td>\n",
              "      <td>17949.970703</td>\n",
              "    </tr>\n",
              "    <tr>\n",
              "      <th>5564</th>\n",
              "      <td>RIO GRANDE DO SUL</td>\n",
              "      <td>Barra do Guarita</td>\n",
              "      <td>3067</td>\n",
              "      <td>2.198064e+04</td>\n",
              "      <td>7166.819824</td>\n",
              "    </tr>\n",
              "    <tr>\n",
              "      <th>5565</th>\n",
              "      <td>RIO GRANDE DO SUL</td>\n",
              "      <td>Machadinho</td>\n",
              "      <td>5623</td>\n",
              "      <td>5.715017e+04</td>\n",
              "      <td>10163.639648</td>\n",
              "    </tr>\n",
              "  </tbody>\n",
              "</table>\n",
              "<p>5555 rows × 5 columns</p>\n",
              "</div>\n",
              "      <button class=\"colab-df-convert\" onclick=\"convertToInteractive('df-fc0a5f4b-4668-4df6-bc49-b9cf5d32301c')\"\n",
              "              title=\"Convert this dataframe to an interactive table.\"\n",
              "              style=\"display:none;\">\n",
              "        \n",
              "  <svg xmlns=\"http://www.w3.org/2000/svg\" height=\"24px\"viewBox=\"0 0 24 24\"\n",
              "       width=\"24px\">\n",
              "    <path d=\"M0 0h24v24H0V0z\" fill=\"none\"/>\n",
              "    <path d=\"M18.56 5.44l.94 2.06.94-2.06 2.06-.94-2.06-.94-.94-2.06-.94 2.06-2.06.94zm-11 1L8.5 8.5l.94-2.06 2.06-.94-2.06-.94L8.5 2.5l-.94 2.06-2.06.94zm10 10l.94 2.06.94-2.06 2.06-.94-2.06-.94-.94-2.06-.94 2.06-2.06.94z\"/><path d=\"M17.41 7.96l-1.37-1.37c-.4-.4-.92-.59-1.43-.59-.52 0-1.04.2-1.43.59L10.3 9.45l-7.72 7.72c-.78.78-.78 2.05 0 2.83L4 21.41c.39.39.9.59 1.41.59.51 0 1.02-.2 1.41-.59l7.78-7.78 2.81-2.81c.8-.78.8-2.07 0-2.86zM5.41 20L4 18.59l7.72-7.72 1.47 1.35L5.41 20z\"/>\n",
              "  </svg>\n",
              "      </button>\n",
              "      \n",
              "  <style>\n",
              "    .colab-df-container {\n",
              "      display:flex;\n",
              "      flex-wrap:wrap;\n",
              "      gap: 12px;\n",
              "    }\n",
              "\n",
              "    .colab-df-convert {\n",
              "      background-color: #E8F0FE;\n",
              "      border: none;\n",
              "      border-radius: 50%;\n",
              "      cursor: pointer;\n",
              "      display: none;\n",
              "      fill: #1967D2;\n",
              "      height: 32px;\n",
              "      padding: 0 0 0 0;\n",
              "      width: 32px;\n",
              "    }\n",
              "\n",
              "    .colab-df-convert:hover {\n",
              "      background-color: #E2EBFA;\n",
              "      box-shadow: 0px 1px 2px rgba(60, 64, 67, 0.3), 0px 1px 3px 1px rgba(60, 64, 67, 0.15);\n",
              "      fill: #174EA6;\n",
              "    }\n",
              "\n",
              "    [theme=dark] .colab-df-convert {\n",
              "      background-color: #3B4455;\n",
              "      fill: #D2E3FC;\n",
              "    }\n",
              "\n",
              "    [theme=dark] .colab-df-convert:hover {\n",
              "      background-color: #434B5C;\n",
              "      box-shadow: 0px 1px 3px 1px rgba(0, 0, 0, 0.15);\n",
              "      filter: drop-shadow(0px 1px 2px rgba(0, 0, 0, 0.3));\n",
              "      fill: #FFFFFF;\n",
              "    }\n",
              "  </style>\n",
              "\n",
              "      <script>\n",
              "        const buttonEl =\n",
              "          document.querySelector('#df-fc0a5f4b-4668-4df6-bc49-b9cf5d32301c button.colab-df-convert');\n",
              "        buttonEl.style.display =\n",
              "          google.colab.kernel.accessAllowed ? 'block' : 'none';\n",
              "\n",
              "        async function convertToInteractive(key) {\n",
              "          const element = document.querySelector('#df-fc0a5f4b-4668-4df6-bc49-b9cf5d32301c');\n",
              "          const dataTable =\n",
              "            await google.colab.kernel.invokeFunction('convertToInteractive',\n",
              "                                                     [key], {});\n",
              "          if (!dataTable) return;\n",
              "\n",
              "          const docLinkHtml = 'Like what you see? Visit the ' +\n",
              "            '<a target=\"_blank\" href=https://colab.research.google.com/notebooks/data_table.ipynb>data table notebook</a>'\n",
              "            + ' to learn more about interactive tables.';\n",
              "          element.innerHTML = '';\n",
              "          dataTable['output_type'] = 'display_data';\n",
              "          await google.colab.output.renderOutput(dataTable, element);\n",
              "          const docLink = document.createElement('div');\n",
              "          docLink.innerHTML = docLinkHtml;\n",
              "          element.appendChild(docLink);\n",
              "        }\n",
              "      </script>\n",
              "    </div>\n",
              "  </div>\n",
              "  "
            ]
          },
          "metadata": {},
          "execution_count": 9
        }
      ]
    },
    {
      "cell_type": "code",
      "metadata": {
        "id": "BRVLwHxHYq96",
        "colab": {
          "base_uri": "https://localhost:8080/"
        },
        "outputId": "1fcad187-fcea-47dc-b1dd-95be39fe54c0"
      },
      "source": [
        "# manipule os dados\n",
        "dados_df.columns = ['estado', 'cidade', 'populacao', 'pib','pib_percapita']\n",
        "print(dados_df)"
      ],
      "execution_count": 10,
      "outputs": [
        {
          "output_type": "stream",
          "name": "stdout",
          "text": [
            "                 estado            cidade  populacao           pib  \\\n",
            "0                 BAHIA          Tremedal      18433  5.788399e+04   \n",
            "1     RIO GRANDE DO SUL            Turuçu       4000  4.572388e+04   \n",
            "2        ESPIRITO SANTO           Vitória     320156  1.978263e+07   \n",
            "3          MINAS GERAIS         Jacutinga      21424  2.478160e+05   \n",
            "4                 PIAUÍ           Nazária       7895  2.095138e+04   \n",
            "...                 ...               ...        ...           ...   \n",
            "5561     SANTA CATARINA         Campo Erê       9737  1.876289e+05   \n",
            "5562             PARANÁ          Planalto      13983  1.385535e+05   \n",
            "5563          SÃO PAULO        Guararapes      29639  5.320191e+05   \n",
            "5564  RIO GRANDE DO SUL  Barra do Guarita       3067  2.198064e+04   \n",
            "5565  RIO GRANDE DO SUL        Machadinho       5623  5.715017e+04   \n",
            "\n",
            "      pib_percapita  \n",
            "0       3140.239990  \n",
            "1      11430.969727  \n",
            "2      61790.589844  \n",
            "3      11567.209961  \n",
            "4       2653.750000  \n",
            "...             ...  \n",
            "5561   19269.679688  \n",
            "5562    9908.709961  \n",
            "5563   17949.970703  \n",
            "5564    7166.819824  \n",
            "5565   10163.639648  \n",
            "\n",
            "[5555 rows x 5 columns]\n"
          ]
        }
      ]
    },
    {
      "cell_type": "code",
      "metadata": {
        "id": "GcAWBfwhYq96",
        "colab": {
          "base_uri": "https://localhost:8080/",
          "height": 424
        },
        "outputId": "7ae11f04-1d36-4a8a-a273-b524e6162b8a"
      },
      "source": [
        "# escrever o conteudo extraido no arquivo cidades-limpo.csv separados por ;\n",
        "\n",
        "NOME_ARQUIVO_DESTINO = 'dados-limpos.csv'\n",
        "\n",
        "# continue o codigo aqui\n",
        "dados_df.to_csv(NOME_ARQUIVO_DESTINO, sep=';')\n",
        "\n",
        "dados_lidos_df = pd.read_csv(NOME_ARQUIVO_DESTINO, delimiter=';', index_col=None)\n",
        "\n",
        "dados_lidos_df"
      ],
      "execution_count": 11,
      "outputs": [
        {
          "output_type": "execute_result",
          "data": {
            "text/plain": [
              "      Unnamed: 0             estado            cidade  populacao  \\\n",
              "0              0              BAHIA          Tremedal      18433   \n",
              "1              1  RIO GRANDE DO SUL            Turuçu       4000   \n",
              "2              2     ESPIRITO SANTO           Vitória     320156   \n",
              "3              3       MINAS GERAIS         Jacutinga      21424   \n",
              "4              4              PIAUÍ           Nazária       7895   \n",
              "...          ...                ...               ...        ...   \n",
              "5550        5561     SANTA CATARINA         Campo Erê       9737   \n",
              "5551        5562             PARANÁ          Planalto      13983   \n",
              "5552        5563          SÃO PAULO        Guararapes      29639   \n",
              "5553        5564  RIO GRANDE DO SUL  Barra do Guarita       3067   \n",
              "5554        5565  RIO GRANDE DO SUL        Machadinho       5623   \n",
              "\n",
              "               pib  pib_percapita  \n",
              "0     5.788399e+04    3140.239990  \n",
              "1     4.572388e+04   11430.969727  \n",
              "2     1.978263e+07   61790.589844  \n",
              "3     2.478160e+05   11567.209961  \n",
              "4     2.095138e+04    2653.750000  \n",
              "...            ...            ...  \n",
              "5550  1.876289e+05   19269.679688  \n",
              "5551  1.385535e+05    9908.709961  \n",
              "5552  5.320191e+05   17949.970703  \n",
              "5553  2.198064e+04    7166.819824  \n",
              "5554  5.715017e+04   10163.639648  \n",
              "\n",
              "[5555 rows x 6 columns]"
            ],
            "text/html": [
              "\n",
              "  <div id=\"df-3f91e04d-cac5-4d2f-be74-ee97b8496901\">\n",
              "    <div class=\"colab-df-container\">\n",
              "      <div>\n",
              "<style scoped>\n",
              "    .dataframe tbody tr th:only-of-type {\n",
              "        vertical-align: middle;\n",
              "    }\n",
              "\n",
              "    .dataframe tbody tr th {\n",
              "        vertical-align: top;\n",
              "    }\n",
              "\n",
              "    .dataframe thead th {\n",
              "        text-align: right;\n",
              "    }\n",
              "</style>\n",
              "<table border=\"1\" class=\"dataframe\">\n",
              "  <thead>\n",
              "    <tr style=\"text-align: right;\">\n",
              "      <th></th>\n",
              "      <th>Unnamed: 0</th>\n",
              "      <th>estado</th>\n",
              "      <th>cidade</th>\n",
              "      <th>populacao</th>\n",
              "      <th>pib</th>\n",
              "      <th>pib_percapita</th>\n",
              "    </tr>\n",
              "  </thead>\n",
              "  <tbody>\n",
              "    <tr>\n",
              "      <th>0</th>\n",
              "      <td>0</td>\n",
              "      <td>BAHIA</td>\n",
              "      <td>Tremedal</td>\n",
              "      <td>18433</td>\n",
              "      <td>5.788399e+04</td>\n",
              "      <td>3140.239990</td>\n",
              "    </tr>\n",
              "    <tr>\n",
              "      <th>1</th>\n",
              "      <td>1</td>\n",
              "      <td>RIO GRANDE DO SUL</td>\n",
              "      <td>Turuçu</td>\n",
              "      <td>4000</td>\n",
              "      <td>4.572388e+04</td>\n",
              "      <td>11430.969727</td>\n",
              "    </tr>\n",
              "    <tr>\n",
              "      <th>2</th>\n",
              "      <td>2</td>\n",
              "      <td>ESPIRITO SANTO</td>\n",
              "      <td>Vitória</td>\n",
              "      <td>320156</td>\n",
              "      <td>1.978263e+07</td>\n",
              "      <td>61790.589844</td>\n",
              "    </tr>\n",
              "    <tr>\n",
              "      <th>3</th>\n",
              "      <td>3</td>\n",
              "      <td>MINAS GERAIS</td>\n",
              "      <td>Jacutinga</td>\n",
              "      <td>21424</td>\n",
              "      <td>2.478160e+05</td>\n",
              "      <td>11567.209961</td>\n",
              "    </tr>\n",
              "    <tr>\n",
              "      <th>4</th>\n",
              "      <td>4</td>\n",
              "      <td>PIAUÍ</td>\n",
              "      <td>Nazária</td>\n",
              "      <td>7895</td>\n",
              "      <td>2.095138e+04</td>\n",
              "      <td>2653.750000</td>\n",
              "    </tr>\n",
              "    <tr>\n",
              "      <th>...</th>\n",
              "      <td>...</td>\n",
              "      <td>...</td>\n",
              "      <td>...</td>\n",
              "      <td>...</td>\n",
              "      <td>...</td>\n",
              "      <td>...</td>\n",
              "    </tr>\n",
              "    <tr>\n",
              "      <th>5550</th>\n",
              "      <td>5561</td>\n",
              "      <td>SANTA CATARINA</td>\n",
              "      <td>Campo Erê</td>\n",
              "      <td>9737</td>\n",
              "      <td>1.876289e+05</td>\n",
              "      <td>19269.679688</td>\n",
              "    </tr>\n",
              "    <tr>\n",
              "      <th>5551</th>\n",
              "      <td>5562</td>\n",
              "      <td>PARANÁ</td>\n",
              "      <td>Planalto</td>\n",
              "      <td>13983</td>\n",
              "      <td>1.385535e+05</td>\n",
              "      <td>9908.709961</td>\n",
              "    </tr>\n",
              "    <tr>\n",
              "      <th>5552</th>\n",
              "      <td>5563</td>\n",
              "      <td>SÃO PAULO</td>\n",
              "      <td>Guararapes</td>\n",
              "      <td>29639</td>\n",
              "      <td>5.320191e+05</td>\n",
              "      <td>17949.970703</td>\n",
              "    </tr>\n",
              "    <tr>\n",
              "      <th>5553</th>\n",
              "      <td>5564</td>\n",
              "      <td>RIO GRANDE DO SUL</td>\n",
              "      <td>Barra do Guarita</td>\n",
              "      <td>3067</td>\n",
              "      <td>2.198064e+04</td>\n",
              "      <td>7166.819824</td>\n",
              "    </tr>\n",
              "    <tr>\n",
              "      <th>5554</th>\n",
              "      <td>5565</td>\n",
              "      <td>RIO GRANDE DO SUL</td>\n",
              "      <td>Machadinho</td>\n",
              "      <td>5623</td>\n",
              "      <td>5.715017e+04</td>\n",
              "      <td>10163.639648</td>\n",
              "    </tr>\n",
              "  </tbody>\n",
              "</table>\n",
              "<p>5555 rows × 6 columns</p>\n",
              "</div>\n",
              "      <button class=\"colab-df-convert\" onclick=\"convertToInteractive('df-3f91e04d-cac5-4d2f-be74-ee97b8496901')\"\n",
              "              title=\"Convert this dataframe to an interactive table.\"\n",
              "              style=\"display:none;\">\n",
              "        \n",
              "  <svg xmlns=\"http://www.w3.org/2000/svg\" height=\"24px\"viewBox=\"0 0 24 24\"\n",
              "       width=\"24px\">\n",
              "    <path d=\"M0 0h24v24H0V0z\" fill=\"none\"/>\n",
              "    <path d=\"M18.56 5.44l.94 2.06.94-2.06 2.06-.94-2.06-.94-.94-2.06-.94 2.06-2.06.94zm-11 1L8.5 8.5l.94-2.06 2.06-.94-2.06-.94L8.5 2.5l-.94 2.06-2.06.94zm10 10l.94 2.06.94-2.06 2.06-.94-2.06-.94-.94-2.06-.94 2.06-2.06.94z\"/><path d=\"M17.41 7.96l-1.37-1.37c-.4-.4-.92-.59-1.43-.59-.52 0-1.04.2-1.43.59L10.3 9.45l-7.72 7.72c-.78.78-.78 2.05 0 2.83L4 21.41c.39.39.9.59 1.41.59.51 0 1.02-.2 1.41-.59l7.78-7.78 2.81-2.81c.8-.78.8-2.07 0-2.86zM5.41 20L4 18.59l7.72-7.72 1.47 1.35L5.41 20z\"/>\n",
              "  </svg>\n",
              "      </button>\n",
              "      \n",
              "  <style>\n",
              "    .colab-df-container {\n",
              "      display:flex;\n",
              "      flex-wrap:wrap;\n",
              "      gap: 12px;\n",
              "    }\n",
              "\n",
              "    .colab-df-convert {\n",
              "      background-color: #E8F0FE;\n",
              "      border: none;\n",
              "      border-radius: 50%;\n",
              "      cursor: pointer;\n",
              "      display: none;\n",
              "      fill: #1967D2;\n",
              "      height: 32px;\n",
              "      padding: 0 0 0 0;\n",
              "      width: 32px;\n",
              "    }\n",
              "\n",
              "    .colab-df-convert:hover {\n",
              "      background-color: #E2EBFA;\n",
              "      box-shadow: 0px 1px 2px rgba(60, 64, 67, 0.3), 0px 1px 3px 1px rgba(60, 64, 67, 0.15);\n",
              "      fill: #174EA6;\n",
              "    }\n",
              "\n",
              "    [theme=dark] .colab-df-convert {\n",
              "      background-color: #3B4455;\n",
              "      fill: #D2E3FC;\n",
              "    }\n",
              "\n",
              "    [theme=dark] .colab-df-convert:hover {\n",
              "      background-color: #434B5C;\n",
              "      box-shadow: 0px 1px 3px 1px rgba(0, 0, 0, 0.15);\n",
              "      filter: drop-shadow(0px 1px 2px rgba(0, 0, 0, 0.3));\n",
              "      fill: #FFFFFF;\n",
              "    }\n",
              "  </style>\n",
              "\n",
              "      <script>\n",
              "        const buttonEl =\n",
              "          document.querySelector('#df-3f91e04d-cac5-4d2f-be74-ee97b8496901 button.colab-df-convert');\n",
              "        buttonEl.style.display =\n",
              "          google.colab.kernel.accessAllowed ? 'block' : 'none';\n",
              "\n",
              "        async function convertToInteractive(key) {\n",
              "          const element = document.querySelector('#df-3f91e04d-cac5-4d2f-be74-ee97b8496901');\n",
              "          const dataTable =\n",
              "            await google.colab.kernel.invokeFunction('convertToInteractive',\n",
              "                                                     [key], {});\n",
              "          if (!dataTable) return;\n",
              "\n",
              "          const docLinkHtml = 'Like what you see? Visit the ' +\n",
              "            '<a target=\"_blank\" href=https://colab.research.google.com/notebooks/data_table.ipynb>data table notebook</a>'\n",
              "            + ' to learn more about interactive tables.';\n",
              "          element.innerHTML = '';\n",
              "          dataTable['output_type'] = 'display_data';\n",
              "          await google.colab.output.renderOutput(dataTable, element);\n",
              "          const docLink = document.createElement('div');\n",
              "          docLink.innerHTML = docLinkHtml;\n",
              "          element.appendChild(docLink);\n",
              "        }\n",
              "      </script>\n",
              "    </div>\n",
              "  </div>\n",
              "  "
            ]
          },
          "metadata": {},
          "execution_count": 11
        }
      ]
    },
    {
      "cell_type": "markdown",
      "metadata": {
        "id": "EBzoHVD8b_c7"
      },
      "source": [
        "### **1.3. Brasil** "
      ]
    },
    {
      "cell_type": "markdown",
      "metadata": {
        "id": "Ft6l5bDwb_c7"
      },
      "source": [
        "Utilize o pacote Python `pandas` para combinar os dados do arquivo `estados-bruto.csv` com os dados do arquivo `cidades-bruto.csv` em um único dataframe. Escolha a coluna e o método de combinação de tal forma que **não haja perda de dados** no processo (não produzirá valores nulos `NaN`). Salve os dados do dataframe no arquivo `brasil.csv`"
      ]
    },
    {
      "cell_type": "code",
      "metadata": {
        "id": "Vz3J7G4-dBXa"
      },
      "source": [
        "# solução do exercício 1.3"
      ],
      "execution_count": null,
      "outputs": []
    },
    {
      "cell_type": "code",
      "source": [
        "estados_df = pd.read_csv('estados-limpo.csv', delimiter=';')\n",
        "cidades_df = pd.read_csv('dados-limpos.csv', delimiter=';')\n",
        "\n",
        "estados_df.replace({\n",
        "    'AMAPA': 'AMAPÁ',\n",
        "    'CEARA': 'CEARÁ',\n",
        "    'ESPIRITO SANTO': 'ESPÍRITO SANTO',\n",
        "    'GOIAS': 'GOIÁS',\n",
        "    'MARANHAO': 'MARANHÃO',\n",
        "    'PARA': 'PARÁ',\n",
        "    'PARAIBA': 'PARAÍBA',\n",
        "    'PARANA': 'PARANÁ',\n",
        "    'PIAUI': 'PIAUÍ',\n",
        "    'RONDONIA': 'RONDÔNIA',\n",
        "    'SAO PAULO': 'SÃO PAULO'\n",
        "    }, inplace=True)\n",
        "\n",
        "\n",
        "brasil_df = pd.merge(left=estados_df, right=cidades_df, on='estado', how='inner')\n",
        "\n",
        "brasil_df.drop(['Unnamed: 0'], axis = 1, inplace=True)\n",
        "\n",
        "print(brasil_df.info())\n",
        "print(estados_df.info())\n",
        "print(cidades_df.info())"
      ],
      "metadata": {
        "colab": {
          "base_uri": "https://localhost:8080/"
        },
        "id": "XIglzDNOX4YZ",
        "outputId": "840e301a-7bc3-4f2f-9f76-6be1f3c38ba4"
      },
      "execution_count": 12,
      "outputs": [
        {
          "output_type": "stream",
          "name": "stdout",
          "text": [
            "<class 'pandas.core.frame.DataFrame'>\n",
            "Int64Index: 5477 entries, 0 to 5476\n",
            "Data columns (total 7 columns):\n",
            " #   Column         Non-Null Count  Dtype  \n",
            "---  ------         --------------  -----  \n",
            " 0   estado         5477 non-null   object \n",
            " 1   sigla          5477 non-null   object \n",
            " 2   região         5477 non-null   object \n",
            " 3   cidade         5477 non-null   object \n",
            " 4   populacao      5477 non-null   int64  \n",
            " 5   pib            5477 non-null   float64\n",
            " 6   pib_percapita  5477 non-null   float64\n",
            "dtypes: float64(2), int64(1), object(4)\n",
            "memory usage: 342.3+ KB\n",
            "None\n",
            "<class 'pandas.core.frame.DataFrame'>\n",
            "RangeIndex: 27 entries, 0 to 26\n",
            "Data columns (total 3 columns):\n",
            " #   Column  Non-Null Count  Dtype \n",
            "---  ------  --------------  ----- \n",
            " 0   estado  27 non-null     object\n",
            " 1   sigla   27 non-null     object\n",
            " 2   região  27 non-null     object\n",
            "dtypes: object(3)\n",
            "memory usage: 776.0+ bytes\n",
            "None\n",
            "<class 'pandas.core.frame.DataFrame'>\n",
            "RangeIndex: 5555 entries, 0 to 5554\n",
            "Data columns (total 6 columns):\n",
            " #   Column         Non-Null Count  Dtype  \n",
            "---  ------         --------------  -----  \n",
            " 0   Unnamed: 0     5555 non-null   int64  \n",
            " 1   estado         5555 non-null   object \n",
            " 2   cidade         5555 non-null   object \n",
            " 3   populacao      5555 non-null   int64  \n",
            " 4   pib            5555 non-null   float64\n",
            " 5   pib_percapita  5555 non-null   float64\n",
            "dtypes: float64(2), int64(2), object(2)\n",
            "memory usage: 260.5+ KB\n",
            "None\n"
          ]
        }
      ]
    },
    {
      "cell_type": "code",
      "source": [
        "brasil_df.to_csv('brasil.csv', index=False)\n",
        "\n",
        "brasil_df_lido = pd.read_csv('brasil.csv')"
      ],
      "metadata": {
        "id": "4YBx6VWlYE7Z"
      },
      "execution_count": 13,
      "outputs": []
    },
    {
      "cell_type": "code",
      "source": [
        "brasil_df_lido"
      ],
      "metadata": {
        "colab": {
          "base_uri": "https://localhost:8080/",
          "height": 424
        },
        "id": "7qNapBzrYGvp",
        "outputId": "ac64e7c6-df5c-4b16-eec9-7b0e20e56a30"
      },
      "execution_count": 14,
      "outputs": [
        {
          "output_type": "execute_result",
          "data": {
            "text/plain": [
              "            estado sigla   região                   cidade  populacao  \\\n",
              "0             ACRE    AC    NORTE     Marechal Thaumaturgo      14275   \n",
              "1             ACRE    AC    NORTE         Senador Guiomard      19697   \n",
              "2             ACRE    AC    NORTE             Assis Brasil       5662   \n",
              "3             ACRE    AC    NORTE           Epitaciolândia      14224   \n",
              "4             ACRE    AC    NORTE            Manoel Urbano       7505   \n",
              "...            ...   ...      ...                      ...        ...   \n",
              "5472  MINAS GERAIS    MG  SUDESTE             Nacip Raydan       3015   \n",
              "5473  MINAS GERAIS    MG  SUDESTE               Nova Ponte      12504   \n",
              "5474  MINAS GERAIS    MG  SUDESTE   São Gonçalo do Sapucaí      23627   \n",
              "5475  MINAS GERAIS    MG  SUDESTE                Barbacena     128572   \n",
              "5476  MINAS GERAIS    MG  SUDESTE  São Francisco do Glória       5685   \n",
              "\n",
              "               pib  pib_percapita  \n",
              "0     1.091819e+05    7648.470215  \n",
              "1     2.171539e+05   11024.719727  \n",
              "2     4.834730e+04    8538.910156  \n",
              "3     1.296411e+05    9114.250000  \n",
              "4     6.147873e+04    8191.700195  \n",
              "...            ...            ...  \n",
              "5472  1.600776e+04    5309.370117  \n",
              "5473  4.681494e+05   37439.968750  \n",
              "5474  2.886858e+05   12218.469727  \n",
              "5475  1.335420e+06   10386.549805  \n",
              "5476  3.237613e+04    5695.009766  \n",
              "\n",
              "[5477 rows x 7 columns]"
            ],
            "text/html": [
              "\n",
              "  <div id=\"df-e869c385-3b3a-4eee-b768-fc67f65e5b29\">\n",
              "    <div class=\"colab-df-container\">\n",
              "      <div>\n",
              "<style scoped>\n",
              "    .dataframe tbody tr th:only-of-type {\n",
              "        vertical-align: middle;\n",
              "    }\n",
              "\n",
              "    .dataframe tbody tr th {\n",
              "        vertical-align: top;\n",
              "    }\n",
              "\n",
              "    .dataframe thead th {\n",
              "        text-align: right;\n",
              "    }\n",
              "</style>\n",
              "<table border=\"1\" class=\"dataframe\">\n",
              "  <thead>\n",
              "    <tr style=\"text-align: right;\">\n",
              "      <th></th>\n",
              "      <th>estado</th>\n",
              "      <th>sigla</th>\n",
              "      <th>região</th>\n",
              "      <th>cidade</th>\n",
              "      <th>populacao</th>\n",
              "      <th>pib</th>\n",
              "      <th>pib_percapita</th>\n",
              "    </tr>\n",
              "  </thead>\n",
              "  <tbody>\n",
              "    <tr>\n",
              "      <th>0</th>\n",
              "      <td>ACRE</td>\n",
              "      <td>AC</td>\n",
              "      <td>NORTE</td>\n",
              "      <td>Marechal Thaumaturgo</td>\n",
              "      <td>14275</td>\n",
              "      <td>1.091819e+05</td>\n",
              "      <td>7648.470215</td>\n",
              "    </tr>\n",
              "    <tr>\n",
              "      <th>1</th>\n",
              "      <td>ACRE</td>\n",
              "      <td>AC</td>\n",
              "      <td>NORTE</td>\n",
              "      <td>Senador Guiomard</td>\n",
              "      <td>19697</td>\n",
              "      <td>2.171539e+05</td>\n",
              "      <td>11024.719727</td>\n",
              "    </tr>\n",
              "    <tr>\n",
              "      <th>2</th>\n",
              "      <td>ACRE</td>\n",
              "      <td>AC</td>\n",
              "      <td>NORTE</td>\n",
              "      <td>Assis Brasil</td>\n",
              "      <td>5662</td>\n",
              "      <td>4.834730e+04</td>\n",
              "      <td>8538.910156</td>\n",
              "    </tr>\n",
              "    <tr>\n",
              "      <th>3</th>\n",
              "      <td>ACRE</td>\n",
              "      <td>AC</td>\n",
              "      <td>NORTE</td>\n",
              "      <td>Epitaciolândia</td>\n",
              "      <td>14224</td>\n",
              "      <td>1.296411e+05</td>\n",
              "      <td>9114.250000</td>\n",
              "    </tr>\n",
              "    <tr>\n",
              "      <th>4</th>\n",
              "      <td>ACRE</td>\n",
              "      <td>AC</td>\n",
              "      <td>NORTE</td>\n",
              "      <td>Manoel Urbano</td>\n",
              "      <td>7505</td>\n",
              "      <td>6.147873e+04</td>\n",
              "      <td>8191.700195</td>\n",
              "    </tr>\n",
              "    <tr>\n",
              "      <th>...</th>\n",
              "      <td>...</td>\n",
              "      <td>...</td>\n",
              "      <td>...</td>\n",
              "      <td>...</td>\n",
              "      <td>...</td>\n",
              "      <td>...</td>\n",
              "      <td>...</td>\n",
              "    </tr>\n",
              "    <tr>\n",
              "      <th>5472</th>\n",
              "      <td>MINAS GERAIS</td>\n",
              "      <td>MG</td>\n",
              "      <td>SUDESTE</td>\n",
              "      <td>Nacip Raydan</td>\n",
              "      <td>3015</td>\n",
              "      <td>1.600776e+04</td>\n",
              "      <td>5309.370117</td>\n",
              "    </tr>\n",
              "    <tr>\n",
              "      <th>5473</th>\n",
              "      <td>MINAS GERAIS</td>\n",
              "      <td>MG</td>\n",
              "      <td>SUDESTE</td>\n",
              "      <td>Nova Ponte</td>\n",
              "      <td>12504</td>\n",
              "      <td>4.681494e+05</td>\n",
              "      <td>37439.968750</td>\n",
              "    </tr>\n",
              "    <tr>\n",
              "      <th>5474</th>\n",
              "      <td>MINAS GERAIS</td>\n",
              "      <td>MG</td>\n",
              "      <td>SUDESTE</td>\n",
              "      <td>São Gonçalo do Sapucaí</td>\n",
              "      <td>23627</td>\n",
              "      <td>2.886858e+05</td>\n",
              "      <td>12218.469727</td>\n",
              "    </tr>\n",
              "    <tr>\n",
              "      <th>5475</th>\n",
              "      <td>MINAS GERAIS</td>\n",
              "      <td>MG</td>\n",
              "      <td>SUDESTE</td>\n",
              "      <td>Barbacena</td>\n",
              "      <td>128572</td>\n",
              "      <td>1.335420e+06</td>\n",
              "      <td>10386.549805</td>\n",
              "    </tr>\n",
              "    <tr>\n",
              "      <th>5476</th>\n",
              "      <td>MINAS GERAIS</td>\n",
              "      <td>MG</td>\n",
              "      <td>SUDESTE</td>\n",
              "      <td>São Francisco do Glória</td>\n",
              "      <td>5685</td>\n",
              "      <td>3.237613e+04</td>\n",
              "      <td>5695.009766</td>\n",
              "    </tr>\n",
              "  </tbody>\n",
              "</table>\n",
              "<p>5477 rows × 7 columns</p>\n",
              "</div>\n",
              "      <button class=\"colab-df-convert\" onclick=\"convertToInteractive('df-e869c385-3b3a-4eee-b768-fc67f65e5b29')\"\n",
              "              title=\"Convert this dataframe to an interactive table.\"\n",
              "              style=\"display:none;\">\n",
              "        \n",
              "  <svg xmlns=\"http://www.w3.org/2000/svg\" height=\"24px\"viewBox=\"0 0 24 24\"\n",
              "       width=\"24px\">\n",
              "    <path d=\"M0 0h24v24H0V0z\" fill=\"none\"/>\n",
              "    <path d=\"M18.56 5.44l.94 2.06.94-2.06 2.06-.94-2.06-.94-.94-2.06-.94 2.06-2.06.94zm-11 1L8.5 8.5l.94-2.06 2.06-.94-2.06-.94L8.5 2.5l-.94 2.06-2.06.94zm10 10l.94 2.06.94-2.06 2.06-.94-2.06-.94-.94-2.06-.94 2.06-2.06.94z\"/><path d=\"M17.41 7.96l-1.37-1.37c-.4-.4-.92-.59-1.43-.59-.52 0-1.04.2-1.43.59L10.3 9.45l-7.72 7.72c-.78.78-.78 2.05 0 2.83L4 21.41c.39.39.9.59 1.41.59.51 0 1.02-.2 1.41-.59l7.78-7.78 2.81-2.81c.8-.78.8-2.07 0-2.86zM5.41 20L4 18.59l7.72-7.72 1.47 1.35L5.41 20z\"/>\n",
              "  </svg>\n",
              "      </button>\n",
              "      \n",
              "  <style>\n",
              "    .colab-df-container {\n",
              "      display:flex;\n",
              "      flex-wrap:wrap;\n",
              "      gap: 12px;\n",
              "    }\n",
              "\n",
              "    .colab-df-convert {\n",
              "      background-color: #E8F0FE;\n",
              "      border: none;\n",
              "      border-radius: 50%;\n",
              "      cursor: pointer;\n",
              "      display: none;\n",
              "      fill: #1967D2;\n",
              "      height: 32px;\n",
              "      padding: 0 0 0 0;\n",
              "      width: 32px;\n",
              "    }\n",
              "\n",
              "    .colab-df-convert:hover {\n",
              "      background-color: #E2EBFA;\n",
              "      box-shadow: 0px 1px 2px rgba(60, 64, 67, 0.3), 0px 1px 3px 1px rgba(60, 64, 67, 0.15);\n",
              "      fill: #174EA6;\n",
              "    }\n",
              "\n",
              "    [theme=dark] .colab-df-convert {\n",
              "      background-color: #3B4455;\n",
              "      fill: #D2E3FC;\n",
              "    }\n",
              "\n",
              "    [theme=dark] .colab-df-convert:hover {\n",
              "      background-color: #434B5C;\n",
              "      box-shadow: 0px 1px 3px 1px rgba(0, 0, 0, 0.15);\n",
              "      filter: drop-shadow(0px 1px 2px rgba(0, 0, 0, 0.3));\n",
              "      fill: #FFFFFF;\n",
              "    }\n",
              "  </style>\n",
              "\n",
              "      <script>\n",
              "        const buttonEl =\n",
              "          document.querySelector('#df-e869c385-3b3a-4eee-b768-fc67f65e5b29 button.colab-df-convert');\n",
              "        buttonEl.style.display =\n",
              "          google.colab.kernel.accessAllowed ? 'block' : 'none';\n",
              "\n",
              "        async function convertToInteractive(key) {\n",
              "          const element = document.querySelector('#df-e869c385-3b3a-4eee-b768-fc67f65e5b29');\n",
              "          const dataTable =\n",
              "            await google.colab.kernel.invokeFunction('convertToInteractive',\n",
              "                                                     [key], {});\n",
              "          if (!dataTable) return;\n",
              "\n",
              "          const docLinkHtml = 'Like what you see? Visit the ' +\n",
              "            '<a target=\"_blank\" href=https://colab.research.google.com/notebooks/data_table.ipynb>data table notebook</a>'\n",
              "            + ' to learn more about interactive tables.';\n",
              "          element.innerHTML = '';\n",
              "          dataTable['output_type'] = 'display_data';\n",
              "          await google.colab.output.renderOutput(dataTable, element);\n",
              "          const docLink = document.createElement('div');\n",
              "          docLink.innerHTML = docLinkHtml;\n",
              "          element.appendChild(docLink);\n",
              "        }\n",
              "      </script>\n",
              "    </div>\n",
              "  </div>\n",
              "  "
            ]
          },
          "metadata": {},
          "execution_count": 14
        }
      ]
    },
    {
      "cell_type": "markdown",
      "metadata": {
        "id": "waxn4B2UDHyl"
      },
      "source": [
        "---"
      ]
    },
    {
      "cell_type": "markdown",
      "metadata": {
        "id": "finLQoyyGVmk"
      },
      "source": [
        "## 2\\. Data Analytics"
      ]
    },
    {
      "cell_type": "markdown",
      "metadata": {
        "id": "Ab0GW19Ed1ig"
      },
      "source": [
        "### **2.1. DataFrame** "
      ]
    },
    {
      "cell_type": "markdown",
      "metadata": {
        "id": "l8jJYjeBdijt"
      },
      "source": [
        "Utilize o pacote Python `pandas` para carregar o arquivo `brasil.csv` no dataframe `brasil_df`."
      ]
    },
    {
      "cell_type": "code",
      "metadata": {
        "id": "8kFQLlqud4QL"
      },
      "source": [
        "# solução do exercício 2.1"
      ],
      "execution_count": null,
      "outputs": []
    },
    {
      "cell_type": "code",
      "source": [
        "brasil_df = pd.read_csv('brasil.csv')\n",
        "brasil_df.info()"
      ],
      "metadata": {
        "colab": {
          "base_uri": "https://localhost:8080/"
        },
        "id": "JsNzgn-KX751",
        "outputId": "da579a4e-3ef4-4d47-b36a-bbfaaf0a2fbf"
      },
      "execution_count": 15,
      "outputs": [
        {
          "output_type": "stream",
          "name": "stdout",
          "text": [
            "<class 'pandas.core.frame.DataFrame'>\n",
            "RangeIndex: 5477 entries, 0 to 5476\n",
            "Data columns (total 7 columns):\n",
            " #   Column         Non-Null Count  Dtype  \n",
            "---  ------         --------------  -----  \n",
            " 0   estado         5477 non-null   object \n",
            " 1   sigla          5477 non-null   object \n",
            " 2   região         5477 non-null   object \n",
            " 3   cidade         5477 non-null   object \n",
            " 4   populacao      5477 non-null   int64  \n",
            " 5   pib            5477 non-null   float64\n",
            " 6   pib_percapita  5477 non-null   float64\n",
            "dtypes: float64(2), int64(1), object(4)\n",
            "memory usage: 299.6+ KB\n"
          ]
        }
      ]
    },
    {
      "cell_type": "code",
      "source": [
        "brasil_df.isna().any().any()"
      ],
      "metadata": {
        "colab": {
          "base_uri": "https://localhost:8080/"
        },
        "id": "fygi7aLDYP1b",
        "outputId": "e2e066b8-075d-4668-b1ac-6e2193af67d4"
      },
      "execution_count": 16,
      "outputs": [
        {
          "output_type": "execute_result",
          "data": {
            "text/plain": [
              "False"
            ]
          },
          "metadata": {},
          "execution_count": 16
        }
      ]
    },
    {
      "cell_type": "markdown",
      "metadata": {
        "id": "ZFWvK8FXHuex"
      },
      "source": [
        "### **2.2. Analise** "
      ]
    },
    {
      "cell_type": "markdown",
      "metadata": {
        "id": "EGyz0R1dd62D"
      },
      "source": [
        "Utilize o dataframe `brasil_df` para responder as seguintes perguntas de negócio:"
      ]
    },
    {
      "cell_type": "markdown",
      "metadata": {
        "id": "lGnYVp7IeFBD"
      },
      "source": [
        " - Quais são as 10 cidades mais populosas do Brasil?"
      ]
    },
    {
      "cell_type": "code",
      "metadata": {
        "id": "KQKcD-VkeQYf"
      },
      "source": [
        "# código para responder a pergunta"
      ],
      "execution_count": null,
      "outputs": []
    },
    {
      "cell_type": "code",
      "source": [
        "brasil_df[['populacao','cidade']].sort_values(by='populacao', ascending=False).head(n=10).reset_index(drop=True)"
      ],
      "metadata": {
        "colab": {
          "base_uri": "https://localhost:8080/",
          "height": 363
        },
        "id": "nFe0iwnCYQ2h",
        "outputId": "e6cd42ca-f676-4c6d-caf8-c8919b9077a3"
      },
      "execution_count": 17,
      "outputs": [
        {
          "output_type": "execute_result",
          "data": {
            "text/plain": [
              "   populacao          cidade\n",
              "0   11037593       São Paulo\n",
              "1    6186710  Rio de Janeiro\n",
              "2    2998056        Salvador\n",
              "3    2606885        Brasília\n",
              "4    2505552       Fortaleza\n",
              "5    2452617  Belo Horizonte\n",
              "6    1851215        Curitiba\n",
              "7    1738641          Manaus\n",
              "8    1561659          Recife\n",
              "9    1437600           Belém"
            ],
            "text/html": [
              "\n",
              "  <div id=\"df-7d5f3d57-4fc4-405f-a94c-017630e20111\">\n",
              "    <div class=\"colab-df-container\">\n",
              "      <div>\n",
              "<style scoped>\n",
              "    .dataframe tbody tr th:only-of-type {\n",
              "        vertical-align: middle;\n",
              "    }\n",
              "\n",
              "    .dataframe tbody tr th {\n",
              "        vertical-align: top;\n",
              "    }\n",
              "\n",
              "    .dataframe thead th {\n",
              "        text-align: right;\n",
              "    }\n",
              "</style>\n",
              "<table border=\"1\" class=\"dataframe\">\n",
              "  <thead>\n",
              "    <tr style=\"text-align: right;\">\n",
              "      <th></th>\n",
              "      <th>populacao</th>\n",
              "      <th>cidade</th>\n",
              "    </tr>\n",
              "  </thead>\n",
              "  <tbody>\n",
              "    <tr>\n",
              "      <th>0</th>\n",
              "      <td>11037593</td>\n",
              "      <td>São Paulo</td>\n",
              "    </tr>\n",
              "    <tr>\n",
              "      <th>1</th>\n",
              "      <td>6186710</td>\n",
              "      <td>Rio de Janeiro</td>\n",
              "    </tr>\n",
              "    <tr>\n",
              "      <th>2</th>\n",
              "      <td>2998056</td>\n",
              "      <td>Salvador</td>\n",
              "    </tr>\n",
              "    <tr>\n",
              "      <th>3</th>\n",
              "      <td>2606885</td>\n",
              "      <td>Brasília</td>\n",
              "    </tr>\n",
              "    <tr>\n",
              "      <th>4</th>\n",
              "      <td>2505552</td>\n",
              "      <td>Fortaleza</td>\n",
              "    </tr>\n",
              "    <tr>\n",
              "      <th>5</th>\n",
              "      <td>2452617</td>\n",
              "      <td>Belo Horizonte</td>\n",
              "    </tr>\n",
              "    <tr>\n",
              "      <th>6</th>\n",
              "      <td>1851215</td>\n",
              "      <td>Curitiba</td>\n",
              "    </tr>\n",
              "    <tr>\n",
              "      <th>7</th>\n",
              "      <td>1738641</td>\n",
              "      <td>Manaus</td>\n",
              "    </tr>\n",
              "    <tr>\n",
              "      <th>8</th>\n",
              "      <td>1561659</td>\n",
              "      <td>Recife</td>\n",
              "    </tr>\n",
              "    <tr>\n",
              "      <th>9</th>\n",
              "      <td>1437600</td>\n",
              "      <td>Belém</td>\n",
              "    </tr>\n",
              "  </tbody>\n",
              "</table>\n",
              "</div>\n",
              "      <button class=\"colab-df-convert\" onclick=\"convertToInteractive('df-7d5f3d57-4fc4-405f-a94c-017630e20111')\"\n",
              "              title=\"Convert this dataframe to an interactive table.\"\n",
              "              style=\"display:none;\">\n",
              "        \n",
              "  <svg xmlns=\"http://www.w3.org/2000/svg\" height=\"24px\"viewBox=\"0 0 24 24\"\n",
              "       width=\"24px\">\n",
              "    <path d=\"M0 0h24v24H0V0z\" fill=\"none\"/>\n",
              "    <path d=\"M18.56 5.44l.94 2.06.94-2.06 2.06-.94-2.06-.94-.94-2.06-.94 2.06-2.06.94zm-11 1L8.5 8.5l.94-2.06 2.06-.94-2.06-.94L8.5 2.5l-.94 2.06-2.06.94zm10 10l.94 2.06.94-2.06 2.06-.94-2.06-.94-.94-2.06-.94 2.06-2.06.94z\"/><path d=\"M17.41 7.96l-1.37-1.37c-.4-.4-.92-.59-1.43-.59-.52 0-1.04.2-1.43.59L10.3 9.45l-7.72 7.72c-.78.78-.78 2.05 0 2.83L4 21.41c.39.39.9.59 1.41.59.51 0 1.02-.2 1.41-.59l7.78-7.78 2.81-2.81c.8-.78.8-2.07 0-2.86zM5.41 20L4 18.59l7.72-7.72 1.47 1.35L5.41 20z\"/>\n",
              "  </svg>\n",
              "      </button>\n",
              "      \n",
              "  <style>\n",
              "    .colab-df-container {\n",
              "      display:flex;\n",
              "      flex-wrap:wrap;\n",
              "      gap: 12px;\n",
              "    }\n",
              "\n",
              "    .colab-df-convert {\n",
              "      background-color: #E8F0FE;\n",
              "      border: none;\n",
              "      border-radius: 50%;\n",
              "      cursor: pointer;\n",
              "      display: none;\n",
              "      fill: #1967D2;\n",
              "      height: 32px;\n",
              "      padding: 0 0 0 0;\n",
              "      width: 32px;\n",
              "    }\n",
              "\n",
              "    .colab-df-convert:hover {\n",
              "      background-color: #E2EBFA;\n",
              "      box-shadow: 0px 1px 2px rgba(60, 64, 67, 0.3), 0px 1px 3px 1px rgba(60, 64, 67, 0.15);\n",
              "      fill: #174EA6;\n",
              "    }\n",
              "\n",
              "    [theme=dark] .colab-df-convert {\n",
              "      background-color: #3B4455;\n",
              "      fill: #D2E3FC;\n",
              "    }\n",
              "\n",
              "    [theme=dark] .colab-df-convert:hover {\n",
              "      background-color: #434B5C;\n",
              "      box-shadow: 0px 1px 3px 1px rgba(0, 0, 0, 0.15);\n",
              "      filter: drop-shadow(0px 1px 2px rgba(0, 0, 0, 0.3));\n",
              "      fill: #FFFFFF;\n",
              "    }\n",
              "  </style>\n",
              "\n",
              "      <script>\n",
              "        const buttonEl =\n",
              "          document.querySelector('#df-7d5f3d57-4fc4-405f-a94c-017630e20111 button.colab-df-convert');\n",
              "        buttonEl.style.display =\n",
              "          google.colab.kernel.accessAllowed ? 'block' : 'none';\n",
              "\n",
              "        async function convertToInteractive(key) {\n",
              "          const element = document.querySelector('#df-7d5f3d57-4fc4-405f-a94c-017630e20111');\n",
              "          const dataTable =\n",
              "            await google.colab.kernel.invokeFunction('convertToInteractive',\n",
              "                                                     [key], {});\n",
              "          if (!dataTable) return;\n",
              "\n",
              "          const docLinkHtml = 'Like what you see? Visit the ' +\n",
              "            '<a target=\"_blank\" href=https://colab.research.google.com/notebooks/data_table.ipynb>data table notebook</a>'\n",
              "            + ' to learn more about interactive tables.';\n",
              "          element.innerHTML = '';\n",
              "          dataTable['output_type'] = 'display_data';\n",
              "          await google.colab.output.renderOutput(dataTable, element);\n",
              "          const docLink = document.createElement('div');\n",
              "          docLink.innerHTML = docLinkHtml;\n",
              "          element.appendChild(docLink);\n",
              "        }\n",
              "      </script>\n",
              "    </div>\n",
              "  </div>\n",
              "  "
            ]
          },
          "metadata": {},
          "execution_count": 17
        }
      ]
    },
    {
      "cell_type": "markdown",
      "metadata": {
        "id": "l93St6uleWTp"
      },
      "source": [
        " - Quais são as 5 cidades com a menor PIB per capita da região nordeste?"
      ]
    },
    {
      "cell_type": "code",
      "metadata": {
        "id": "DS5akh2zeWTq"
      },
      "source": [
        "# código para responder a pergunta"
      ],
      "execution_count": 18,
      "outputs": []
    },
    {
      "cell_type": "code",
      "source": [
        "brasil_df[['pib_percapita','cidade', 'região']].sort_values(by='pib_percapita').query('região == \"NORDESTE\"').head().reset_index(drop=True).drop(['região'], axis=1)"
      ],
      "metadata": {
        "colab": {
          "base_uri": "https://localhost:8080/",
          "height": 206
        },
        "id": "4OlEphjSYbAQ",
        "outputId": "c306afab-06b5-4b92-84ba-99ec785007b1"
      },
      "execution_count": 19,
      "outputs": [
        {
          "output_type": "execute_result",
          "data": {
            "text/plain": [
              "   pib_percapita              cidade\n",
              "0    1929.969971  São Vicente Ferrer\n",
              "1    2203.830078             Cajapió\n",
              "2    2358.239990       Dom Inocêncio\n",
              "3    2368.159912            Timbiras\n",
              "4    2416.969971               Axixá"
            ],
            "text/html": [
              "\n",
              "  <div id=\"df-5ac0e40e-4a89-44e5-81e2-9daf9d30a35e\">\n",
              "    <div class=\"colab-df-container\">\n",
              "      <div>\n",
              "<style scoped>\n",
              "    .dataframe tbody tr th:only-of-type {\n",
              "        vertical-align: middle;\n",
              "    }\n",
              "\n",
              "    .dataframe tbody tr th {\n",
              "        vertical-align: top;\n",
              "    }\n",
              "\n",
              "    .dataframe thead th {\n",
              "        text-align: right;\n",
              "    }\n",
              "</style>\n",
              "<table border=\"1\" class=\"dataframe\">\n",
              "  <thead>\n",
              "    <tr style=\"text-align: right;\">\n",
              "      <th></th>\n",
              "      <th>pib_percapita</th>\n",
              "      <th>cidade</th>\n",
              "    </tr>\n",
              "  </thead>\n",
              "  <tbody>\n",
              "    <tr>\n",
              "      <th>0</th>\n",
              "      <td>1929.969971</td>\n",
              "      <td>São Vicente Ferrer</td>\n",
              "    </tr>\n",
              "    <tr>\n",
              "      <th>1</th>\n",
              "      <td>2203.830078</td>\n",
              "      <td>Cajapió</td>\n",
              "    </tr>\n",
              "    <tr>\n",
              "      <th>2</th>\n",
              "      <td>2358.239990</td>\n",
              "      <td>Dom Inocêncio</td>\n",
              "    </tr>\n",
              "    <tr>\n",
              "      <th>3</th>\n",
              "      <td>2368.159912</td>\n",
              "      <td>Timbiras</td>\n",
              "    </tr>\n",
              "    <tr>\n",
              "      <th>4</th>\n",
              "      <td>2416.969971</td>\n",
              "      <td>Axixá</td>\n",
              "    </tr>\n",
              "  </tbody>\n",
              "</table>\n",
              "</div>\n",
              "      <button class=\"colab-df-convert\" onclick=\"convertToInteractive('df-5ac0e40e-4a89-44e5-81e2-9daf9d30a35e')\"\n",
              "              title=\"Convert this dataframe to an interactive table.\"\n",
              "              style=\"display:none;\">\n",
              "        \n",
              "  <svg xmlns=\"http://www.w3.org/2000/svg\" height=\"24px\"viewBox=\"0 0 24 24\"\n",
              "       width=\"24px\">\n",
              "    <path d=\"M0 0h24v24H0V0z\" fill=\"none\"/>\n",
              "    <path d=\"M18.56 5.44l.94 2.06.94-2.06 2.06-.94-2.06-.94-.94-2.06-.94 2.06-2.06.94zm-11 1L8.5 8.5l.94-2.06 2.06-.94-2.06-.94L8.5 2.5l-.94 2.06-2.06.94zm10 10l.94 2.06.94-2.06 2.06-.94-2.06-.94-.94-2.06-.94 2.06-2.06.94z\"/><path d=\"M17.41 7.96l-1.37-1.37c-.4-.4-.92-.59-1.43-.59-.52 0-1.04.2-1.43.59L10.3 9.45l-7.72 7.72c-.78.78-.78 2.05 0 2.83L4 21.41c.39.39.9.59 1.41.59.51 0 1.02-.2 1.41-.59l7.78-7.78 2.81-2.81c.8-.78.8-2.07 0-2.86zM5.41 20L4 18.59l7.72-7.72 1.47 1.35L5.41 20z\"/>\n",
              "  </svg>\n",
              "      </button>\n",
              "      \n",
              "  <style>\n",
              "    .colab-df-container {\n",
              "      display:flex;\n",
              "      flex-wrap:wrap;\n",
              "      gap: 12px;\n",
              "    }\n",
              "\n",
              "    .colab-df-convert {\n",
              "      background-color: #E8F0FE;\n",
              "      border: none;\n",
              "      border-radius: 50%;\n",
              "      cursor: pointer;\n",
              "      display: none;\n",
              "      fill: #1967D2;\n",
              "      height: 32px;\n",
              "      padding: 0 0 0 0;\n",
              "      width: 32px;\n",
              "    }\n",
              "\n",
              "    .colab-df-convert:hover {\n",
              "      background-color: #E2EBFA;\n",
              "      box-shadow: 0px 1px 2px rgba(60, 64, 67, 0.3), 0px 1px 3px 1px rgba(60, 64, 67, 0.15);\n",
              "      fill: #174EA6;\n",
              "    }\n",
              "\n",
              "    [theme=dark] .colab-df-convert {\n",
              "      background-color: #3B4455;\n",
              "      fill: #D2E3FC;\n",
              "    }\n",
              "\n",
              "    [theme=dark] .colab-df-convert:hover {\n",
              "      background-color: #434B5C;\n",
              "      box-shadow: 0px 1px 3px 1px rgba(0, 0, 0, 0.15);\n",
              "      filter: drop-shadow(0px 1px 2px rgba(0, 0, 0, 0.3));\n",
              "      fill: #FFFFFF;\n",
              "    }\n",
              "  </style>\n",
              "\n",
              "      <script>\n",
              "        const buttonEl =\n",
              "          document.querySelector('#df-5ac0e40e-4a89-44e5-81e2-9daf9d30a35e button.colab-df-convert');\n",
              "        buttonEl.style.display =\n",
              "          google.colab.kernel.accessAllowed ? 'block' : 'none';\n",
              "\n",
              "        async function convertToInteractive(key) {\n",
              "          const element = document.querySelector('#df-5ac0e40e-4a89-44e5-81e2-9daf9d30a35e');\n",
              "          const dataTable =\n",
              "            await google.colab.kernel.invokeFunction('convertToInteractive',\n",
              "                                                     [key], {});\n",
              "          if (!dataTable) return;\n",
              "\n",
              "          const docLinkHtml = 'Like what you see? Visit the ' +\n",
              "            '<a target=\"_blank\" href=https://colab.research.google.com/notebooks/data_table.ipynb>data table notebook</a>'\n",
              "            + ' to learn more about interactive tables.';\n",
              "          element.innerHTML = '';\n",
              "          dataTable['output_type'] = 'display_data';\n",
              "          await google.colab.output.renderOutput(dataTable, element);\n",
              "          const docLink = document.createElement('div');\n",
              "          docLink.innerHTML = docLinkHtml;\n",
              "          element.appendChild(docLink);\n",
              "        }\n",
              "      </script>\n",
              "    </div>\n",
              "  </div>\n",
              "  "
            ]
          },
          "metadata": {},
          "execution_count": 19
        }
      ]
    },
    {
      "cell_type": "markdown",
      "metadata": {
        "id": "GqwffgUmedmb"
      },
      "source": [
        " - Quais são as 15 cidades com maior PIB do do estado de São Paulo?"
      ]
    },
    {
      "cell_type": "code",
      "metadata": {
        "id": "tFKEn1gLedmc"
      },
      "source": [
        "# código para responder a pergunta"
      ],
      "execution_count": null,
      "outputs": []
    },
    {
      "cell_type": "code",
      "source": [
        "brasil_df[['pib','cidade', 'estado']].sort_values(by='pib', ascending=False).query('estado == \"SÃO PAULO\"').head(n=15).reset_index(drop=True).drop(['estado'], axis=1)"
      ],
      "metadata": {
        "colab": {
          "base_uri": "https://localhost:8080/",
          "height": 520
        },
        "id": "Tw9BcV5bYi-R",
        "outputId": "91d771f8-ea80-401f-f607-b4d5a8fcb344"
      },
      "execution_count": 20,
      "outputs": [
        {
          "output_type": "execute_result",
          "data": {
            "text/plain": [
              "            pib                 cidade\n",
              "0   389317152.0              São Paulo\n",
              "1    32473828.0              Guarulhos\n",
              "2    31654720.0               Campinas\n",
              "3    31616452.0                 Osasco\n",
              "4    28935768.0  São Bernardo do Campo\n",
              "5    26908070.0                Barueri\n",
              "6    22546134.0                 Santos\n",
              "7    22018042.0    São José dos Campos\n",
              "8    16585137.0                Jundiaí\n",
              "9    14709603.0            Santo André\n",
              "10   14688064.0         Ribeirão Preto\n",
              "11   14182597.0               Sorocaba\n",
              "12    9969819.0                Diadema\n",
              "13    9601211.0             Piracicaba\n",
              "14    8920202.0     São Caetano do Sul"
            ],
            "text/html": [
              "\n",
              "  <div id=\"df-eccc7ec2-4140-43ea-aa3b-e55d9f864058\">\n",
              "    <div class=\"colab-df-container\">\n",
              "      <div>\n",
              "<style scoped>\n",
              "    .dataframe tbody tr th:only-of-type {\n",
              "        vertical-align: middle;\n",
              "    }\n",
              "\n",
              "    .dataframe tbody tr th {\n",
              "        vertical-align: top;\n",
              "    }\n",
              "\n",
              "    .dataframe thead th {\n",
              "        text-align: right;\n",
              "    }\n",
              "</style>\n",
              "<table border=\"1\" class=\"dataframe\">\n",
              "  <thead>\n",
              "    <tr style=\"text-align: right;\">\n",
              "      <th></th>\n",
              "      <th>pib</th>\n",
              "      <th>cidade</th>\n",
              "    </tr>\n",
              "  </thead>\n",
              "  <tbody>\n",
              "    <tr>\n",
              "      <th>0</th>\n",
              "      <td>389317152.0</td>\n",
              "      <td>São Paulo</td>\n",
              "    </tr>\n",
              "    <tr>\n",
              "      <th>1</th>\n",
              "      <td>32473828.0</td>\n",
              "      <td>Guarulhos</td>\n",
              "    </tr>\n",
              "    <tr>\n",
              "      <th>2</th>\n",
              "      <td>31654720.0</td>\n",
              "      <td>Campinas</td>\n",
              "    </tr>\n",
              "    <tr>\n",
              "      <th>3</th>\n",
              "      <td>31616452.0</td>\n",
              "      <td>Osasco</td>\n",
              "    </tr>\n",
              "    <tr>\n",
              "      <th>4</th>\n",
              "      <td>28935768.0</td>\n",
              "      <td>São Bernardo do Campo</td>\n",
              "    </tr>\n",
              "    <tr>\n",
              "      <th>5</th>\n",
              "      <td>26908070.0</td>\n",
              "      <td>Barueri</td>\n",
              "    </tr>\n",
              "    <tr>\n",
              "      <th>6</th>\n",
              "      <td>22546134.0</td>\n",
              "      <td>Santos</td>\n",
              "    </tr>\n",
              "    <tr>\n",
              "      <th>7</th>\n",
              "      <td>22018042.0</td>\n",
              "      <td>São José dos Campos</td>\n",
              "    </tr>\n",
              "    <tr>\n",
              "      <th>8</th>\n",
              "      <td>16585137.0</td>\n",
              "      <td>Jundiaí</td>\n",
              "    </tr>\n",
              "    <tr>\n",
              "      <th>9</th>\n",
              "      <td>14709603.0</td>\n",
              "      <td>Santo André</td>\n",
              "    </tr>\n",
              "    <tr>\n",
              "      <th>10</th>\n",
              "      <td>14688064.0</td>\n",
              "      <td>Ribeirão Preto</td>\n",
              "    </tr>\n",
              "    <tr>\n",
              "      <th>11</th>\n",
              "      <td>14182597.0</td>\n",
              "      <td>Sorocaba</td>\n",
              "    </tr>\n",
              "    <tr>\n",
              "      <th>12</th>\n",
              "      <td>9969819.0</td>\n",
              "      <td>Diadema</td>\n",
              "    </tr>\n",
              "    <tr>\n",
              "      <th>13</th>\n",
              "      <td>9601211.0</td>\n",
              "      <td>Piracicaba</td>\n",
              "    </tr>\n",
              "    <tr>\n",
              "      <th>14</th>\n",
              "      <td>8920202.0</td>\n",
              "      <td>São Caetano do Sul</td>\n",
              "    </tr>\n",
              "  </tbody>\n",
              "</table>\n",
              "</div>\n",
              "      <button class=\"colab-df-convert\" onclick=\"convertToInteractive('df-eccc7ec2-4140-43ea-aa3b-e55d9f864058')\"\n",
              "              title=\"Convert this dataframe to an interactive table.\"\n",
              "              style=\"display:none;\">\n",
              "        \n",
              "  <svg xmlns=\"http://www.w3.org/2000/svg\" height=\"24px\"viewBox=\"0 0 24 24\"\n",
              "       width=\"24px\">\n",
              "    <path d=\"M0 0h24v24H0V0z\" fill=\"none\"/>\n",
              "    <path d=\"M18.56 5.44l.94 2.06.94-2.06 2.06-.94-2.06-.94-.94-2.06-.94 2.06-2.06.94zm-11 1L8.5 8.5l.94-2.06 2.06-.94-2.06-.94L8.5 2.5l-.94 2.06-2.06.94zm10 10l.94 2.06.94-2.06 2.06-.94-2.06-.94-.94-2.06-.94 2.06-2.06.94z\"/><path d=\"M17.41 7.96l-1.37-1.37c-.4-.4-.92-.59-1.43-.59-.52 0-1.04.2-1.43.59L10.3 9.45l-7.72 7.72c-.78.78-.78 2.05 0 2.83L4 21.41c.39.39.9.59 1.41.59.51 0 1.02-.2 1.41-.59l7.78-7.78 2.81-2.81c.8-.78.8-2.07 0-2.86zM5.41 20L4 18.59l7.72-7.72 1.47 1.35L5.41 20z\"/>\n",
              "  </svg>\n",
              "      </button>\n",
              "      \n",
              "  <style>\n",
              "    .colab-df-container {\n",
              "      display:flex;\n",
              "      flex-wrap:wrap;\n",
              "      gap: 12px;\n",
              "    }\n",
              "\n",
              "    .colab-df-convert {\n",
              "      background-color: #E8F0FE;\n",
              "      border: none;\n",
              "      border-radius: 50%;\n",
              "      cursor: pointer;\n",
              "      display: none;\n",
              "      fill: #1967D2;\n",
              "      height: 32px;\n",
              "      padding: 0 0 0 0;\n",
              "      width: 32px;\n",
              "    }\n",
              "\n",
              "    .colab-df-convert:hover {\n",
              "      background-color: #E2EBFA;\n",
              "      box-shadow: 0px 1px 2px rgba(60, 64, 67, 0.3), 0px 1px 3px 1px rgba(60, 64, 67, 0.15);\n",
              "      fill: #174EA6;\n",
              "    }\n",
              "\n",
              "    [theme=dark] .colab-df-convert {\n",
              "      background-color: #3B4455;\n",
              "      fill: #D2E3FC;\n",
              "    }\n",
              "\n",
              "    [theme=dark] .colab-df-convert:hover {\n",
              "      background-color: #434B5C;\n",
              "      box-shadow: 0px 1px 3px 1px rgba(0, 0, 0, 0.15);\n",
              "      filter: drop-shadow(0px 1px 2px rgba(0, 0, 0, 0.3));\n",
              "      fill: #FFFFFF;\n",
              "    }\n",
              "  </style>\n",
              "\n",
              "      <script>\n",
              "        const buttonEl =\n",
              "          document.querySelector('#df-eccc7ec2-4140-43ea-aa3b-e55d9f864058 button.colab-df-convert');\n",
              "        buttonEl.style.display =\n",
              "          google.colab.kernel.accessAllowed ? 'block' : 'none';\n",
              "\n",
              "        async function convertToInteractive(key) {\n",
              "          const element = document.querySelector('#df-eccc7ec2-4140-43ea-aa3b-e55d9f864058');\n",
              "          const dataTable =\n",
              "            await google.colab.kernel.invokeFunction('convertToInteractive',\n",
              "                                                     [key], {});\n",
              "          if (!dataTable) return;\n",
              "\n",
              "          const docLinkHtml = 'Like what you see? Visit the ' +\n",
              "            '<a target=\"_blank\" href=https://colab.research.google.com/notebooks/data_table.ipynb>data table notebook</a>'\n",
              "            + ' to learn more about interactive tables.';\n",
              "          element.innerHTML = '';\n",
              "          dataTable['output_type'] = 'display_data';\n",
              "          await google.colab.output.renderOutput(dataTable, element);\n",
              "          const docLink = document.createElement('div');\n",
              "          docLink.innerHTML = docLinkHtml;\n",
              "          element.appendChild(docLink);\n",
              "        }\n",
              "      </script>\n",
              "    </div>\n",
              "  </div>\n",
              "  "
            ]
          },
          "metadata": {},
          "execution_count": 20
        }
      ]
    },
    {
      "cell_type": "markdown",
      "metadata": {
        "id": "Wg_la1wOewoB"
      },
      "source": [
        " - Qual é o PIB do estado de Santa Catarina?"
      ]
    },
    {
      "cell_type": "code",
      "metadata": {
        "id": "LwGqow5_ewoB"
      },
      "source": [
        "# código para responder a pergunta"
      ],
      "execution_count": 21,
      "outputs": []
    },
    {
      "cell_type": "code",
      "source": [
        "brasil_df[['pib','estado']].query('estado == \"SANTA CATARINA\"').agg('sum').drop(['estado'])"
      ],
      "metadata": {
        "colab": {
          "base_uri": "https://localhost:8080/"
        },
        "id": "Q24-LBBhYsbJ",
        "outputId": "c54fa3a3-5788-42c9-8aab-9a9814e35631"
      },
      "execution_count": 22,
      "outputs": [
        {
          "output_type": "execute_result",
          "data": {
            "text/plain": [
              "pib    129806256.751953\n",
              "dtype: object"
            ]
          },
          "metadata": {},
          "execution_count": 22
        }
      ]
    },
    {
      "cell_type": "markdown",
      "metadata": {
        "id": "Yaw2gDukfApr"
      },
      "source": [
        " - Qual é o população da região sul?"
      ]
    },
    {
      "cell_type": "code",
      "metadata": {
        "id": "enEkNjFQfAps"
      },
      "source": [
        "# código para responder a pergunta"
      ],
      "execution_count": null,
      "outputs": []
    },
    {
      "cell_type": "code",
      "source": [
        "brasil_df[['populacao','região']].query('região == \"SUL\"').agg('sum').drop(['região'])"
      ],
      "metadata": {
        "colab": {
          "base_uri": "https://localhost:8080/"
        },
        "id": "ZjttHR2HYvRx",
        "outputId": "d227e192-c312-4c0b-8ea2-307405e2e897"
      },
      "execution_count": 23,
      "outputs": [
        {
          "output_type": "execute_result",
          "data": {
            "text/plain": [
              "populacao    27719118\n",
              "dtype: object"
            ]
          },
          "metadata": {},
          "execution_count": 23
        }
      ]
    },
    {
      "cell_type": "markdown",
      "metadata": {
        "id": "9qOaKRS9fFu8"
      },
      "source": [
        " - Qual é o PIB per capito médio das cidades do Mato Grosso do Sul?"
      ]
    },
    {
      "cell_type": "code",
      "metadata": {
        "id": "gX8DVSfFfFu9"
      },
      "source": [
        "# código para responder a pergunta"
      ],
      "execution_count": null,
      "outputs": []
    },
    {
      "cell_type": "code",
      "source": [
        "brasil_df[['pib_percapita','cidade', 'estado']].query('estado == \"MATO GROSSO DO SUL\"').agg('mean')"
      ],
      "metadata": {
        "colab": {
          "base_uri": "https://localhost:8080/"
        },
        "id": "SSpDhZ0CYyBU",
        "outputId": "a7142542-fec4-4b15-e1e2-ac743b0e8edb"
      },
      "execution_count": 24,
      "outputs": [
        {
          "output_type": "stream",
          "name": "stderr",
          "text": [
            "/usr/local/lib/python3.7/dist-packages/pandas/core/apply.py:577: FutureWarning: Dropping of nuisance columns in DataFrame reductions (with 'numeric_only=None') is deprecated; in a future version this will raise TypeError.  Select only valid columns before calling the reduction.\n",
            "  return f(*args, **kwargs)\n"
          ]
        },
        {
          "output_type": "execute_result",
          "data": {
            "text/plain": [
              "pib_percapita    14458.89686\n",
              "dtype: float64"
            ]
          },
          "metadata": {},
          "execution_count": 24
        }
      ]
    },
    {
      "cell_type": "markdown",
      "metadata": {
        "id": "lvf-VqaffS2D"
      },
      "source": [
        " - Qual é a população do Brasil?"
      ]
    },
    {
      "cell_type": "code",
      "metadata": {
        "id": "_nBsY6EcfS2E"
      },
      "source": [
        "# código para responder a pergunta"
      ],
      "execution_count": null,
      "outputs": []
    },
    {
      "cell_type": "code",
      "source": [
        "brasil_df['populacao'].agg('sum')"
      ],
      "metadata": {
        "colab": {
          "base_uri": "https://localhost:8080/"
        },
        "id": "uAK8s2WLY0Xh",
        "outputId": "820f899f-841a-41be-fae5-d77f3288790b"
      },
      "execution_count": 25,
      "outputs": [
        {
          "output_type": "execute_result",
          "data": {
            "text/plain": [
              "187688947"
            ]
          },
          "metadata": {},
          "execution_count": 25
        }
      ]
    },
    {
      "cell_type": "markdown",
      "metadata": {
        "id": "hnTSARXpipkP"
      },
      "source": [
        "### **2.3. Visualização** "
      ]
    },
    {
      "cell_type": "markdown",
      "metadata": {
        "id": "7coMkY8xixFO"
      },
      "source": [
        "Utilize o dataframe `brasil_df` para gerar as seguintes visualizações."
      ]
    },
    {
      "cell_type": "markdown",
      "metadata": {
        "id": "SgvPvh4Vjctx"
      },
      "source": [
        " - Gere um gráfico de barras com as 10 cidades menos populosas do Brasil."
      ]
    },
    {
      "cell_type": "code",
      "metadata": {
        "id": "V8eM0uEUjcty"
      },
      "source": [
        "# código para gerar a visualização"
      ],
      "execution_count": null,
      "outputs": []
    },
    {
      "cell_type": "code",
      "source": [
        "cidades_menos_populosas = brasil_df[['populacao','cidade']].sort_values(by='populacao').head(n=10).reset_index(drop=True)\n",
        "\n",
        "cidades_menos_populosas.plot(kind='bar', y='populacao', x='cidade');"
      ],
      "metadata": {
        "colab": {
          "base_uri": "https://localhost:8080/",
          "height": 360
        },
        "id": "UPOfb-VWY21B",
        "outputId": "b7d7c77b-8f92-4428-f241-cd4dc4e623f1"
      },
      "execution_count": 26,
      "outputs": [
        {
          "output_type": "display_data",
          "data": {
            "text/plain": [
              "<Figure size 432x288 with 1 Axes>"
            ],
            "image/png": "[encoded data removed]"
          },
          "metadata": {
            "needs_background": "light"
          }
        }
      ]
    },
    {
      "cell_type": "markdown",
      "metadata": {
        "id": "gsa3SrTjjrGV"
      },
      "source": [
        " - Gere um gráfico de pizza com a proporção da população do Brasil por região."
      ]
    },
    {
      "cell_type": "code",
      "metadata": {
        "id": "1dvqIAEHjrGV"
      },
      "source": [
        "# código para gerar a visualização"
      ],
      "execution_count": null,
      "outputs": []
    },
    {
      "cell_type": "code",
      "source": [
        "populacao_por_regiao = brasil_df[['populacao','região']].groupby('região').agg('sum')\n",
        "\n",
        "populacao_por_regiao\n",
        "populacao_por_regiao.plot(kind='pie', subplots=True);"
      ],
      "metadata": {
        "colab": {
          "base_uri": "https://localhost:8080/",
          "height": 248
        },
        "id": "7o0POFncY5Px",
        "outputId": "97ce5ceb-569e-460a-a9ba-3d385d71eeb1"
      },
      "execution_count": 27,
      "outputs": [
        {
          "output_type": "display_data",
          "data": {
            "text/plain": [
              "<Figure size 432x288 with 1 Axes>"
            ],
            "image/png": "[encoded data removed]"
          },
          "metadata": {}
        }
      ]
    }
  ]
}