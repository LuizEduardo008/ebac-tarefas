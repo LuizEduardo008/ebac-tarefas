{
  "nbformat": 4,
  "nbformat_minor": 0,
  "metadata": {
    "colab": {
      "name": "exercicios_3",
      "provenance": []
    },
    "kernelspec": {
      "name": "python3",
      "display_name": "Python 3"
    },
    "language_info": {
      "name": "python"
    }
  },
  "cells": [
    {
      "cell_type": "markdown",
      "metadata": {
        "id": "oFCT7IMaPHSu"
      },
      "source": [
        "#**Exercícios**\n",
        "\n",
        "#**1. Dados de interação de usuários com propagandas online**\n",
        "\n",
        "Na lista propaganda_online abaixo, estão presente os dados de usuários que acessaram\n",
        "um determinado site e se o mesmo clicou em uma propaganda.\n"
      ]
    },
    {
      "cell_type": "code",
      "metadata": {
        "id": "iWS-8mhxPDS8"
      },
      "source": [
        "propaganda_online = [\n",
        " {'tempo_gasto_site': 68.95, 'idade': 35, 'renda_area': 61833.90,\n",
        " 'tempo_gasto_internet': 256.09, 'cidade': 'Wrightburgh',\n",
        " 'pais': 'Tunisia', 'clicou_no_ad': 0\n",
        " },\n",
        " {'tempo_gasto_site': 80.23, 'idade': 31, 'renda_area': 68441.85,\n",
        " 'tempo_gasto_internet': 193.77, 'cidade': 'West Jodi',\n",
        " 'pais': 'Nauru', 'clicou_no_ad': 0\n",
        " },\n",
        " {'tempo_gasto_site': 69.47, 'idade': 26, 'renda_area': 59785.94,\n",
        " 'tempo_gasto_internet': 236.50, 'cidade': 'Davidton',\n",
        " 'pais': 'San Marino', 'clicou_no_ad': 0\n",
        " },\n",
        " {'tempo_gasto_site': 68.37, 'idade': 35, 'renda_area': 73889.99,\n",
        " 'tempo_gasto_internet': 225.58, 'cidade': 'South Manuel',\n",
        " 'pais': 'Iceland', 'clicou_no_ad': 0\n",
        " },\n",
        " {'tempo_gasto_site': 88.91, 'idade': 33, 'renda_area': 53852.85,\n",
        " 'tempo_gasto_internet': 208.36, 'cidade': 'Brandonstad',\n",
        " 'pais': 'Myanmar', 'clicou_no_ad': 0\n",
        " },\n",
        " {'tempo_gasto_site': None, 'idade': 48, 'renda_area': 24593.33,\n",
        " 'tempo_gasto_internet': 131.76, 'cidade': 'Port Jefferybury',\n",
        " 'pais': 'Australia', 'clicou_no_ad': 1\n",
        " },\n",
        " {'tempo_gasto_site': 74.53, 'idade': 30, 'renda_area': 68862.00,\n",
        " 'tempo_gasto_internet': 221.51, 'cidade': 'West Colin',\n",
        " 'pais': 'Grenada'},\n",
        " {'tempo_gasto_site': 69.88, 'idade': 20, 'renda_area': 55642.32,\n",
        " 'tempo_gasto_internet': 183.82, 'cidade': 'Ramirezton',\n",
        " 'pais': 'Ghana', 'clicou_no_ad': 0\n",
        " }\n",
        "]\n"
      ],
      "execution_count": 37,
      "outputs": []
    },
    {
      "cell_type": "markdown",
      "metadata": {
        "id": "Bi3E0xUqPm4F"
      },
      "source": [
        "Para iterar pelos elementos da lista, use o código abaixo.\n"
      ]
    },
    {
      "cell_type": "code",
      "metadata": {
        "colab": {
          "base_uri": "https://localhost:8080/"
        },
        "id": "ieJQ2JRoPtUD",
        "outputId": "16fa5330-5325-427a-9887-c67c15946d3a"
      },
      "source": [
        "for dado_de_usuario in propaganda_online:\n",
        " print(dado_de_usuario)"
      ],
      "execution_count": 38,
      "outputs": [
        {
          "output_type": "stream",
          "name": "stdout",
          "text": [
            "{'tempo_gasto_site': 68.95, 'idade': 35, 'renda_area': 61833.9, 'tempo_gasto_internet': 256.09, 'cidade': 'Wrightburgh', 'pais': 'Tunisia', 'clicou_no_ad': 0}\n",
            "{'tempo_gasto_site': 80.23, 'idade': 31, 'renda_area': 68441.85, 'tempo_gasto_internet': 193.77, 'cidade': 'West Jodi', 'pais': 'Nauru', 'clicou_no_ad': 0}\n",
            "{'tempo_gasto_site': 69.47, 'idade': 26, 'renda_area': 59785.94, 'tempo_gasto_internet': 236.5, 'cidade': 'Davidton', 'pais': 'San Marino', 'clicou_no_ad': 0}\n",
            "{'tempo_gasto_site': 68.37, 'idade': 35, 'renda_area': 73889.99, 'tempo_gasto_internet': 225.58, 'cidade': 'South Manuel', 'pais': 'Iceland', 'clicou_no_ad': 0}\n",
            "{'tempo_gasto_site': 88.91, 'idade': 33, 'renda_area': 53852.85, 'tempo_gasto_internet': 208.36, 'cidade': 'Brandonstad', 'pais': 'Myanmar', 'clicou_no_ad': 0}\n",
            "{'tempo_gasto_site': None, 'idade': 48, 'renda_area': 24593.33, 'tempo_gasto_internet': 131.76, 'cidade': 'Port Jefferybury', 'pais': 'Australia', 'clicou_no_ad': 1}\n",
            "{'tempo_gasto_site': 74.53, 'idade': 30, 'renda_area': 68862.0, 'tempo_gasto_internet': 221.51, 'cidade': 'West Colin', 'pais': 'Grenada'}\n",
            "{'tempo_gasto_site': 69.88, 'idade': 20, 'renda_area': 55642.32, 'tempo_gasto_internet': 183.82, 'cidade': 'Ramirezton', 'pais': 'Ghana', 'clicou_no_ad': 0}\n"
          ]
        }
      ]
    },
    {
      "cell_type": "markdown",
      "metadata": {
        "id": "b15ADyBYP410"
      },
      "source": [
        "1.1. Crie uma lista chamada paises com o pais dos usuários com mais de 30 anos.\n"
      ]
    },
    {
      "cell_type": "code",
      "metadata": {
        "colab": {
          "base_uri": "https://localhost:8080/"
        },
        "id": "uTtHrN4tXQ8g",
        "outputId": "206c3d37-c9e2-41ae-c38e-261c48c1fabd"
      },
      "source": [
        "paises = list()\n",
        "for registro in propaganda_online:\n",
        "    if registro['idade'] > 30:\n",
        "        paises.append(registro['pais'])\n",
        "print(paises)      "
      ],
      "execution_count": 142,
      "outputs": [
        {
          "output_type": "stream",
          "name": "stdout",
          "text": [
            "['Tunisia', 'Nauru', 'Iceland', 'Myanmar', 'Australia']\n"
          ]
        }
      ]
    },
    {
      "cell_type": "markdown",
      "metadata": {
        "id": "biLbFLXXnNwt"
      },
      "source": [
        "1.2. Crie uma lista chamada leads com a renda dos usuários que clicaram na propaganda.\n"
      ]
    },
    {
      "cell_type": "code",
      "metadata": {
        "colab": {
          "base_uri": "https://localhost:8080/"
        },
        "id": "Jw5II77npnMh",
        "outputId": "8d276004-25f8-4353-8bfa-1ca8ce72af24"
      },
      "source": [
        "Leads = list()\n",
        "for usuarios in propaganda_online:\n",
        " try:\n",
        "    if usuario['clicou_no_ad'] == 1:\n",
        "       Leads.append(usuario['renda_area'])\n",
        "    print(Leads)\n",
        " except KeyError:\n",
        "      clicou_no_ad = str(clicou_no_ad)\n",
        " finally:\n",
        "    print(Leads)\n",
        "\n"
      ],
      "execution_count": 163,
      "outputs": [
        {
          "output_type": "stream",
          "name": "stdout",
          "text": [
            "[24593.33]\n",
            "[24593.33]\n",
            "[24593.33, 24593.33]\n",
            "[24593.33, 24593.33]\n",
            "[24593.33, 24593.33, 24593.33]\n",
            "[24593.33, 24593.33, 24593.33]\n",
            "[24593.33, 24593.33, 24593.33, 24593.33]\n",
            "[24593.33, 24593.33, 24593.33, 24593.33]\n",
            "[24593.33, 24593.33, 24593.33, 24593.33, 24593.33]\n",
            "[24593.33, 24593.33, 24593.33, 24593.33, 24593.33]\n",
            "[24593.33, 24593.33, 24593.33, 24593.33, 24593.33, 24593.33]\n",
            "[24593.33, 24593.33, 24593.33, 24593.33, 24593.33, 24593.33]\n",
            "[24593.33, 24593.33, 24593.33, 24593.33, 24593.33, 24593.33, 24593.33]\n",
            "[24593.33, 24593.33, 24593.33, 24593.33, 24593.33, 24593.33, 24593.33]\n",
            "[24593.33, 24593.33, 24593.33, 24593.33, 24593.33, 24593.33, 24593.33, 24593.33]\n",
            "[24593.33, 24593.33, 24593.33, 24593.33, 24593.33, 24593.33, 24593.33, 24593.33]\n"
          ]
        }
      ]
    },
    {
      "cell_type": "markdown",
      "metadata": {
        "id": "LmQJ2niYxKhR"
      },
      "source": [
        "1.3. Crie uma lista chamada cidades com a cidade dos usuários que passaram mais de 70\n",
        "segundos no site"
      ]
    },
    {
      "cell_type": "code",
      "metadata": {
        "colab": {
          "base_uri": "https://localhost:8080/",
          "height": 607
        },
        "id": "9lXhP6W7xMRB",
        "outputId": "df77a66e-b84d-4a7d-d09e-08590e39998f"
      },
      "source": [
        "cidades = list()\n",
        "for usuario in propaganda_online:\n",
        " try:\n",
        "    if usuario['tempo_gasto_site'] > 70.00:\n",
        "       cidades.append(usuario['cidade'])\n",
        "    print(cidades)\n",
        " except TypeError:\n",
        "      tempo_gasto_site = int(tempo_gasto_site)\n",
        " finally:\n",
        "    print(cidades)"
      ],
      "execution_count": 158,
      "outputs": [
        {
          "output_type": "stream",
          "name": "stdout",
          "text": [
            "[]\n",
            "[]\n",
            "['West Jodi']\n",
            "['West Jodi']\n",
            "['West Jodi']\n",
            "['West Jodi']\n",
            "['West Jodi']\n",
            "['West Jodi']\n",
            "['West Jodi', 'Brandonstad']\n",
            "['West Jodi', 'Brandonstad']\n",
            "['West Jodi', 'Brandonstad']\n"
          ]
        },
        {
          "output_type": "error",
          "ename": "NameError",
          "evalue": "ignored",
          "traceback": [
            "\u001b[0;31m---------------------------------------------------------------------------\u001b[0m",
            "\u001b[0;31mTypeError\u001b[0m                                 Traceback (most recent call last)",
            "\u001b[0;32m<ipython-input-158-afe076a7d54b>\u001b[0m in \u001b[0;36m<module>\u001b[0;34m()\u001b[0m\n\u001b[1;32m      3\u001b[0m  \u001b[0;32mtry\u001b[0m\u001b[0;34m:\u001b[0m\u001b[0;34m\u001b[0m\u001b[0;34m\u001b[0m\u001b[0m\n\u001b[0;32m----> 4\u001b[0;31m     \u001b[0;32mif\u001b[0m \u001b[0musuario\u001b[0m\u001b[0;34m[\u001b[0m\u001b[0;34m'tempo_gasto_site'\u001b[0m\u001b[0;34m]\u001b[0m \u001b[0;34m>\u001b[0m \u001b[0;36m70.00\u001b[0m\u001b[0;34m:\u001b[0m\u001b[0;34m\u001b[0m\u001b[0;34m\u001b[0m\u001b[0m\n\u001b[0m\u001b[1;32m      5\u001b[0m        \u001b[0mcidades\u001b[0m\u001b[0;34m.\u001b[0m\u001b[0mappend\u001b[0m\u001b[0;34m(\u001b[0m\u001b[0musuario\u001b[0m\u001b[0;34m[\u001b[0m\u001b[0;34m'cidade'\u001b[0m\u001b[0;34m]\u001b[0m\u001b[0;34m)\u001b[0m\u001b[0;34m\u001b[0m\u001b[0;34m\u001b[0m\u001b[0m\n",
            "\u001b[0;31mTypeError\u001b[0m: '>' not supported between instances of 'NoneType' and 'float'",
            "\nDuring handling of the above exception, another exception occurred:\n",
            "\u001b[0;31mNameError\u001b[0m                                 Traceback (most recent call last)",
            "\u001b[0;32m<ipython-input-158-afe076a7d54b>\u001b[0m in \u001b[0;36m<module>\u001b[0;34m()\u001b[0m\n\u001b[1;32m      6\u001b[0m     \u001b[0mprint\u001b[0m\u001b[0;34m(\u001b[0m\u001b[0mcidades\u001b[0m\u001b[0;34m)\u001b[0m\u001b[0;34m\u001b[0m\u001b[0;34m\u001b[0m\u001b[0m\n\u001b[1;32m      7\u001b[0m  \u001b[0;32mexcept\u001b[0m \u001b[0mTypeError\u001b[0m\u001b[0;34m:\u001b[0m\u001b[0;34m\u001b[0m\u001b[0;34m\u001b[0m\u001b[0m\n\u001b[0;32m----> 8\u001b[0;31m       \u001b[0mtempo_gasto_site\u001b[0m \u001b[0;34m=\u001b[0m \u001b[0mint\u001b[0m\u001b[0;34m(\u001b[0m\u001b[0mtempo_gasto_site\u001b[0m\u001b[0;34m)\u001b[0m\u001b[0;34m\u001b[0m\u001b[0;34m\u001b[0m\u001b[0m\n\u001b[0m\u001b[1;32m      9\u001b[0m  \u001b[0;32mfinally\u001b[0m\u001b[0;34m:\u001b[0m\u001b[0;34m\u001b[0m\u001b[0;34m\u001b[0m\u001b[0m\n\u001b[1;32m     10\u001b[0m     \u001b[0mprint\u001b[0m\u001b[0;34m(\u001b[0m\u001b[0mcidades\u001b[0m\u001b[0;34m)\u001b[0m\u001b[0;34m\u001b[0m\u001b[0;34m\u001b[0m\u001b[0m\n",
            "\u001b[0;31mNameError\u001b[0m: name 'tempo_gasto_site' is not defined"
          ]
        }
      ]
    }
  ]
}